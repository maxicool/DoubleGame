{
 "cells": [
  {
   "cell_type": "markdown",
   "metadata": {},
   "source": [
    "# Facets of Mathematics: Week 6\n",
    "\n",
    "## Aims\n",
    "\n",
    "By the end of this notebook you should:\n",
    "\n",
    "* Be familiar with lines and conics in the projective plane.\n",
    "* Be able to test basic properties of conics in the projective plane, such as (ir)reducibility and smoothness.\n",
    "* Be able to find a conic that contains $5$ general points in the projective plane.\n",
    "\n",
    "\n",
    "## Topics\n",
    "\n",
    "* The projective plane\n",
    "* Lines in the projective plane\n",
    "* Conics in projective plane\n",
    "* Smooth and singular curves\n",
    "\n",
    "Before attempting this notebook you should first have looked at the accompanying videos for week 6. \n",
    "\n",
    "This notebook combines explanations of the key week 6 concepts, with programming exercises which you should attempt by adding or editing code.\n",
    "\n",
    "## References\n",
    "\n",
    "**Algebriac geometry for sophomores:** I. Cheltsov, available from Learn\n",
    "(Course Materials $\\rightarrow$ Theme 2: Cubic Curves $\\rightarrow$ Week 6 $\\rightarrow$ Week 6 Tutorial)\n",
    "\n",
    "* The projective plane: Section 2.a.\n",
    "* Lines in the projective plane Section 2.b.\n",
    "* Conics in the projective plane Sections 2.c., 2.e. and 2.f.\n",
    "* Smooth and singular curves Section 2.h.\n"
   ]
  },
  {
   "cell_type": "markdown",
   "metadata": {},
   "source": [
    "## 1. What is the projective plane?\n",
    "\n",
    "To define the complex projective plane, we define an equivalence relation $\\sim$ on the set $\\mathbb{C}^{3}\\setminus \\{(0,0,0)\\}$ as follows:\n",
    "\n",
    "$$\n",
    "\\big(x,y,z\\big)\\sim \\big(x^{\\prime},y^{\\prime},z^{\\prime}\\big)\\iff \\big(x,y,z\\big)=\\big(\\lambda x^{\\prime},\\lambda y^{\\prime},\\lambda z^{\\prime}\\big)\\ \\text{for some complex number $\\lambda\\ne 0$}.\n",
    "$$\n",
    "\n",
    "For every $(x,y,z)\\ne(0,0,0)$, we denote by $[x:y:z]$ the set consisting all points\n",
    "\n",
    "$$\n",
    "\\big(\\lambda x,\\lambda y,\\lambda z\\big)\n",
    "$$\n",
    "\n",
    "where $\\lambda$ runs through all non-zero complex numbers.\n",
    "Then\n",
    "\n",
    "$$\n",
    "\\big[x:y:z\\big]=\\big[x^{\\prime}:y^{\\prime}:z^{\\prime}\\big]\\iff \\big(x,y,z\\big)\\sim \\big(x^{\\prime},y^{\\prime},z^{\\prime}\\big).\n",
    "$$\n",
    "\n",
    "For example, we have $[1:2:3]=[2:4:6]=[1+i:2+2i:3+3i]$."
   ]
  },
  {
   "cell_type": "markdown",
   "metadata": {},
   "source": [
    "### Definition\n",
    "The complex projective plane $\\mathbb{P}^{2}_{\\mathbb{C}}$ is the set consisting of all *three-tuples*\n",
    "\n",
    "$$\n",
    "\\big[x:y:z\\big].\n",
    "$$\n",
    "\n",
    "Here $(x,y,z)$ is a point in $\\mathbb{C}^3$ such that $(x,y,z)\\ne (0,0,0)$."
   ]
  },
  {
   "cell_type": "markdown",
   "metadata": {},
   "source": [
    "For geometric reasons, we will refer to the elements of the set $\\mathbb{P}^2_{\\mathbb{C}}$ as points.\n",
    "Let us repeat that  points in $\\mathbb{P}^2_{\\mathbb{C}}$ are *three-tuples* $[x:y:z]$ such that\n",
    "\n",
    "$$\n",
    "\\big[x:y:z\\big]=\\big[x^{\\prime}:y^{\\prime}:z^{\\prime}\\big]\\iff\\ \\big(x,y,z\\big)=\\big( \\lambda x^{\\prime}, \\lambda y^{\\prime},\\lambda z^{\\prime}\\big)\\ \\text{for some non-zero}\\ \\lambda\\in\\mathbb{C}.\n",
    "$$\n",
    "\n",
    "Here we exclude the point $[0:0:0]$.\n",
    "\n",
    "The plane $\\mathbb{P}^2_{\\mathbb{C}}$ consists of $\\mathbb{C}^2$ and a *line at infinity*.\n",
    "To be precise, let $U_z$ be the subset in $\\mathbb{P}^2_{\\mathbb{C}}$ consisting of points $[x:y:z]$ with $z\\ne 0$.\n",
    "For each point $[x:y:z]\\in U_z$, we have\n",
    "\n",
    "$$\n",
    "\\big[x:y:z\\big]=\\Big[\\frac{x}{z}:\\frac{y}{z}:1\\Big],\n",
    "$$\n",
    "\n",
    "and the point $[x:y:z]$ is uniquely determined by the pair $(\\frac{x}{z},\\frac{y}{z})$.\n",
    "Thus, we can identify $U_z$ and $\\mathbb{C}^2$.\n",
    "Let $\\overline{x}=\\frac{x}{z}$ and $\\overline{y}=\\frac{y}{z}$.\n",
    "Then we can consider $\\overline{x}$ and $\\overline{y}$ as coordinates on $U_z$.\n",
    "\n",
    "What is the complement in $\\mathbb{P}^2_{\\mathbb{C}}$ of the subset $U_z$?\n",
    "The complement is the subset in $\\mathbb{P}^2_{\\mathbb{C}}$ consisting of all points $[x:y:0]$\n",
    "where $x$ and $y$ are complex numbers such that $x\\ne 0$ or $y\\ne 0$ (or both).\n",
    "Thus, we can identify the complement of $U_z$ in $\\mathbb{P}^2_{\\mathbb{C}}$ with the complex projective line $\\mathbb{P}^1_{\\mathbb{C}}$.\n",
    "This is the *line at infinity*.\n",
    "\n",
    "We defined $U_z$ as the subset in the plane $\\mathbb{P}^2_{\\mathbb{C}}$ that consists of all points $[x:y:z]$ with $z\\ne 0$.\n",
    "Then we identified $U_z$ and $\\mathbb{C}^2$ with two coordinates $\\overline{x}=\\frac{x}{z}$ and $\\overline{y}=\\frac{y}{z}$.\n",
    "Why did we choose $z$ here? There is no particular reason for this.\n",
    "Similar to $U_z$, we can define $U_x$ and $U_y$."
   ]
  },
  {
   "cell_type": "markdown",
   "metadata": {},
   "source": [
    "## 2. Lines in the projective plane\n",
    "\n",
    "To learn how to live in the complex projective plane,\n",
    "we have to consider simple geometric objects in $\\mathbb{P}^2_{\\mathbb{C}}$ and play with them.\n",
    "The simplest objects in $\\mathbb{P}^2_{\\mathbb{C}}$ are lines. How to define them?\n",
    "We already know one line: the line given by $z=0$, which we called the *line at infinity*.\n",
    "Motivated by this and our definition of a line in $\\mathbb{C}^2$, define a line in $\\mathbb{P}^2_{\\mathbb{C}}$ as a subset given by\n",
    "\n",
    "$$\n",
    "Ax+By+Cz=0\n",
    "$$\n",
    "\n",
    "for some (fixed) complex numbers $A$, $B$ and $C$ such that $(A,B,C)\\ne(0,0,0)$.\n",
    "This subset does not change if we multiply the equation by a non-zero complex number $\\lambda$,\n",
    "since the equation\n",
    "\n",
    "$$\n",
    "\\lambda Ax+\\lambda By+\\lambda Cz=0\n",
    "$$\n",
    "\n",
    "defines the same subset in $\\mathbb{P}^2_{\\mathbb{C}}$.\n",
    "Thus, the line given by $Ax+By+Cz=0$ is determined by the point $[A:B:C]\\in\\mathbb{P}^2_{\\mathbb{C}}$.\n",
    "\n",
    "As in the complex plane $\\mathbb{C}^2$, a line in $\\mathbb{P}^2_{\\mathbb{C}}$ is uniquely determined by any two distinct points contained within it.\n",
    "To be precise, if $P$ and $Q$ are points in $\\mathbb{P}^2_{\\mathbb{C}}$ such that $P\\ne Q$,\n",
    "then there is a unique line in $\\mathbb{P}^2_{\\mathbb{C}}$ that contains both $P$ and $Q$.\n",
    "This line is given by the following equation:\n",
    "\n",
    "$$\n",
    " \\mathrm{det}\\left(\n",
    "\\begin{array}{ccc}\n",
    "a & b & c \\\\\n",
    "a^{\\prime} & b^{\\prime} & c^{\\prime} \\\\\n",
    "x & y & z \\\\\n",
    "\\end{array}\\right)=0,\n",
    "$$\n",
    "\n",
    "where $P=[a:b:c]$ and $Q=[a^{\\prime}:b^{\\prime}:c^{\\prime}]$.\n",
    "\n",
    "For instance, to find the line in $\\mathbb{P}^2_{\\mathbb{C}}$ that contains points $[11:-7:1]$ and $[2:5:1]$,\n",
    "we have to solve the system of linear equations\n",
    "\n",
    "$$\n",
    "\\begin{aligned}\n",
    "11A-7B+C &=0,\\\\\n",
    "2A+5B+C &=0.\n",
    "\\end{aligned}\n",
    "$$\n",
    "\n",
    "\n",
    "The solutions of this system form a one-dimensional vector space by the rank-nullity theorem.\n",
    "Using Python, we see that $(A,B,C)=(4,3,-23)$ is one solution, so that $(4,3,-23)$ is a basis of this vector space.\n",
    "This means that the line $4x+3y-23z=0$ is the unique line in $\\mathbb{P}^2_{\\mathbb{C}}$ that contains the points $[11:-7:1]$ and $[2:5:1]$.\n",
    "\n",
    "We can carry out these computations using Python:"
   ]
  },
  {
   "cell_type": "code",
   "execution_count": 1,
   "metadata": {
    "scrolled": true
   },
   "outputs": [
    {
     "name": "stdout",
     "output_type": "stream",
     "text": [
      "4*x + 3*y - 23*z\n"
     ]
    }
   ],
   "source": [
    "from sympy import *\n",
    "\n",
    "A, B, C, x , y, z = symbols('A, B, C, x, y, z')\n",
    "\n",
    "L = A * x + B * y + C * z\n",
    "\n",
    "P = (11, -7, 1)\n",
    "Q = (2, 5, 1)\n",
    "\n",
    "E1 = L.subs(((x, P[0]), (y, P[1]), (z, P[2])))\n",
    "E2 = L.subs(((x, Q[0]), (y, Q[1]), (z, Q[2])))\n",
    "\n",
    "solution = solve((E1, E2, C + 23), A, B, C)\n",
    "\n",
    "coeff = (solution[A], solution[B], solution[C])\n",
    "\n",
    "L = L.subs(((A, coeff[0]), (B, coeff[1]), (C, coeff[2])))\n",
    "\n",
    "print(L)"
   ]
  },
  {
   "cell_type": "markdown",
   "metadata": {},
   "source": [
    "Of course, we can find the same line using explicit determinant equation\n",
    "\n",
    "$$\n",
    "\\mathrm{det}\\left(\n",
    "\\begin{array}{ccc}\n",
    "11 & -7 & 1 \\\\\n",
    "2 & 5 & 1 \\\\\n",
    "x & y & z \\\\\n",
    "\\end{array}\\right)=0.\n",
    "$$\n",
    "\n",
    "Using Python, this can be done as follows:"
   ]
  },
  {
   "cell_type": "code",
   "execution_count": 2,
   "metadata": {
    "scrolled": true
   },
   "outputs": [
    {
     "name": "stdout",
     "output_type": "stream",
     "text": [
      "-12*x - 9*y + 69*z\n"
     ]
    }
   ],
   "source": [
    "from sympy import *\n",
    "\n",
    "x, y, z = symbols('x, y, z')\n",
    "\n",
    "P = (11, -7, 1)\n",
    "Q = (2, 5, 1)\n",
    "\n",
    "M = Matrix([P, Q, [x, y, z]])\n",
    "L = M.det()\n",
    "\n",
    "print(L)"
   ]
  },
  {
   "cell_type": "markdown",
   "metadata": {},
   "source": [
    "This gives us the line $-12x - 9y + 69z=0$, which is the same line as $4x+3y-23z=0$."
   ]
  },
  {
   "cell_type": "markdown",
   "metadata": {},
   "source": [
    "### Exercise 1\n",
    "\n",
    "Find the line in $\\mathbb{P}^2_{\\mathbb{C}}$ containing $[1+3i:7-2i:1]$ and $[3:8-i:1]$."
   ]
  },
  {
   "cell_type": "code",
   "execution_count": 21,
   "metadata": {},
   "outputs": [
    {
     "name": "stdout",
     "output_type": "stream",
     "text": [
      "-x - I*x + 2*y - 3*I*y - 10*z + 29*I*z = 0\n",
      "{a: -1 - I, b: 2 - 3*I, c: -10 + 29*I}\n",
      "x*(-1 - I) + y*(2 - 3*I) + z*(-10 + 29*I) = 0\n",
      "x*(-1 - I) + y*(2 - 3*I) + z*(-10 + 29*I) = 0\n"
     ]
    }
   ],
   "source": [
    "from sympy import *\n",
    "\n",
    "P = (1 + 3 * I, 7 - 2 * I, 1)\n",
    "Q = (3, 8 - I, 1)\n",
    "\n",
    "x, y, z = symbols('x, y, z')\n",
    "M = Matrix([P, Q, [x, y, z]])\n",
    "\n",
    "L = M.det()     # [x, y. z] is a set of lineal combinations of P and Q, hence determinatee of [x,y,z], P, Q is zero \n",
    "\n",
    "print(L, '= 0')\n",
    "\n",
    "# or to sovle the linear equations \n",
    "\n",
    "a, b, c, x, y, z = symbols ('a, b, c, x, y, z')\n",
    "L = a * x + b * y + c * z\n",
    "\n",
    "E1 = L.subs(x, P[0]).subs(y, P[1]).subs(z, P[2])\n",
    "E2 = L.subs(x, Q[0]).subs(y, Q[1]).subs(z, Q[2])\n",
    "\n",
    "coef = solve((E1, E2, a + 1 + I  ), a, b, c)\n",
    "print (coef)\n",
    "L = L.subs(a,coef[a]).subs(b, coef[b]).subs(c, coef[c])\n",
    "print(L, '= 0')\n",
    "L = L.subs(a,expand_complex(coef[a])).subs(b, expand_complex(coef[b])).subs(c, expand_complex(coef[c]))\n",
    "print(L, '= 0')"
   ]
  },
  {
   "cell_type": "markdown",
   "metadata": {},
   "source": [
    "If three points $[a_1:b_1:c_1]$, $[a_2:b_2:c_2]$ and $[a_3:b_3:c_3]$ in $\\mathbb{P}^2_{\\mathbb{C}}$\n",
    "are contained in a single line, then we say that they are *collinear*.\n",
    "Using determinant equation of a line passing through two given points in  $\\mathbb{P}^2_{\\mathbb{C}}$,\n",
    "we see that this happens if and only if\n",
    "\n",
    "$$\n",
    "\\mathrm{det}\\left(\n",
    "\\begin{array}{ccc}\n",
    "a_1&b_1&c_1 \\\\\n",
    "a_2&b_2&c_2 \\\\\n",
    "a_3&b_3&c_3 \\\\\n",
    "\\end{array}\\right)=0.\n",
    "$$"
   ]
  },
  {
   "cell_type": "markdown",
   "metadata": {},
   "source": [
    "### Exercise 2\n",
    "\n",
    "For this exercise we consider the points\n",
    "\n",
    "$$\n",
    "P_0 := [0:0:1], \\quad P_1 := [0:1:1], \\quad P_2 := [1:1:-1], \\quad P_3 := [1:3:1], \\quad P_4 := [2:5:1],  \\quad P_5 := [1:1:1], \\quad P_6 := [1:4:2].\n",
    "$$\n",
    "\n",
    "<b>a)</b> Write a Python script to determine whether the points $P_0$, $P_1$, $P_2$ are colinear."
   ]
  },
  {
   "cell_type": "code",
   "execution_count": 13,
   "metadata": {},
   "outputs": [
    {
     "name": "stdout",
     "output_type": "stream",
     "text": [
      "They are not colinear\n"
     ]
    }
   ],
   "source": [
    "from sympy import *\n",
    "\n",
    "P0 = (0, 0, 1)\n",
    "P1 = (0, 1, 1)\n",
    "P2 = (1, 1, -1)\n",
    "\n",
    "M = Matrix([P0, P1, P2])\n",
    "if M.det == 0:\n",
    "    print ('They are colinear')\n",
    "else:\n",
    "    print('They are not colinear')\n",
    "# add code here"
   ]
  },
  {
   "cell_type": "markdown",
   "metadata": {},
   "source": [
    "<b>b)</b> Consider the following Python script. Discuss with other members of your group what the code outputs and how each line works. Add comments to explain how the code works."
   ]
  },
  {
   "cell_type": "code",
   "execution_count": 4,
   "metadata": {},
   "outputs": [
    {
     "name": "stdout",
     "output_type": "stream",
     "text": [
      "(0, 0, 1) (1, 1, -1) (1, 1, 1)  are colinear\n",
      "(0, 1, 1) (1, 1, -1) (1, 3, 1)  are colinear\n",
      "(0, 1, 1) (1, 1, -1) (2, 5, 1)  are colinear\n",
      "(0, 1, 1) (1, 1, -1) (1, 4, 2)  are colinear\n",
      "(0, 1, 1) (1, 3, 1) (2, 5, 1)  are colinear\n",
      "(0, 1, 1) (1, 3, 1) (1, 4, 2)  are colinear\n",
      "(0, 1, 1) (2, 5, 1) (1, 4, 2)  are colinear\n",
      "(1, 1, -1) (1, 3, 1) (2, 5, 1)  are colinear\n",
      "(1, 1, -1) (1, 3, 1) (1, 4, 2)  are colinear\n",
      "(1, 1, -1) (2, 5, 1) (1, 4, 2)  are colinear\n",
      "(1, 3, 1) (2, 5, 1) (1, 4, 2)  are colinear\n",
      "Number of colinear triples: 11\n"
     ]
    }
   ],
   "source": [
    "from sympy import *\n",
    "\n",
    "# Define our points and collect them in a tuple\n",
    "\n",
    "P0 = (0, 0, 1)\n",
    "P1 = (0, 1, 1)\n",
    "P2 = (1, 1, -1)\n",
    "P3 = (1, 3, 1)\n",
    "P4 = (2, 5, 1)\n",
    "P5 = (1, 1, 1)\n",
    "P6 = (1, 4, 2)\n",
    "\n",
    "points = (P0, P1, P2, P3, P4, P5, P6)\n",
    "\n",
    "# add comment here\n",
    "\n",
    "count = 0\n",
    "\n",
    "# add comment here\n",
    "\n",
    "for l in range(len(points)):\n",
    "    for m in range(l + 1, len(points)):\n",
    "        for n in range(m + 1, len(points)):\n",
    "            \n",
    "            # add comment here\n",
    "            \n",
    "            M = Matrix([points[l], points[m], points[n]])\n",
    "            if M.det() == 0:\n",
    "                count = count + 1\n",
    "                print(points[l], points[m], points[n], ' are colinear')\n",
    "\n",
    "# add comment here\n",
    "                \n",
    "print('Number of colinear triples:', count)"
   ]
  },
  {
   "cell_type": "markdown",
   "metadata": {},
   "source": [
    "The above code is messy because it uses nested loops. We can clean this up using ```itertools.combinations``` from the ```itertools``` library.\n",
    "\n",
    "<b>c)</b> Consider the following Python script, which carries out the same task as in part b). As before, discuss with other members of your group how each line works and add comments. "
   ]
  },
  {
   "cell_type": "code",
   "execution_count": 3,
   "metadata": {},
   "outputs": [
    {
     "name": "stdout",
     "output_type": "stream",
     "text": [
      "(0, 0, 1) (1, 1, -1) (1, 1, 1)  are collinear\n",
      "(0, 1, 1) (1, 1, -1) (1, 3, 1)  are collinear\n",
      "(0, 1, 1) (1, 1, -1) (2, 5, 1)  are collinear\n",
      "(0, 1, 1) (1, 1, -1) (1, 4, 2)  are collinear\n",
      "(0, 1, 1) (1, 3, 1) (2, 5, 1)  are collinear\n",
      "(0, 1, 1) (1, 3, 1) (1, 4, 2)  are collinear\n",
      "(0, 1, 1) (2, 5, 1) (1, 4, 2)  are collinear\n",
      "(1, 1, -1) (1, 3, 1) (2, 5, 1)  are collinear\n",
      "(1, 1, -1) (1, 3, 1) (1, 4, 2)  are collinear\n",
      "(1, 1, -1) (2, 5, 1) (1, 4, 2)  are collinear\n",
      "(1, 3, 1) (2, 5, 1) (1, 4, 2)  are collinear\n",
      "Number of colinear triples: 11\n"
     ]
    }
   ],
   "source": [
    "from sympy import *\n",
    "import itertools\n",
    "\n",
    "# Define our points and collect them in a tuple\n",
    "\n",
    "P0 = (0, 0, 1)\n",
    "P1 = (0, 1, 1)\n",
    "P2 = (1, 1, -1)\n",
    "P3 = (1, 3, 1)\n",
    "P4 = (2, 5, 1)\n",
    "P5 = (1, 1, 1)\n",
    "P6 = (1, 4, 2)\n",
    "\n",
    "points = (P0, P1, P2, P3, P4, P5, P6)\n",
    "\n",
    "# define a list to store colinear triples \n",
    "triples = []\n",
    "\n",
    "# using cpmbination of itertools to check any three vectors if they are colinear\n",
    "\n",
    "for point0, point1, point2 in itertools.combinations(points, 3):\n",
    "    \n",
    "    # put three vector in a matrix M\n",
    "    \n",
    "    M = Matrix([point0, point1, point2])\n",
    "    \n",
    "    # check if determinate of M is zero, if yes stor triple in the list triples \n",
    "    \n",
    "    if M.det() == 0:\n",
    "        \n",
    "        print(point0, point1, point2, ' are collinear')\n",
    "        \n",
    "        triples.append((point0, point1, point2))\n",
    "\n",
    "# print the length of list triples        \n",
    "        \n",
    "print('Number of colinear triples:', len(triples))"
   ]
  },
  {
   "cell_type": "markdown",
   "metadata": {},
   "source": [
    "Why do we need the projective plane?\n",
    "Is $\\mathbb{C}^2$ not good enough? In many instances, working over the projective plane $\\mathbb{P}^2_{\\mathbb{C}}$ is much more convenient that working over $\\mathbb{C}^2$. The first evidence for this is given by:"
   ]
  },
  {
   "cell_type": "markdown",
   "metadata": {},
   "source": [
    "### Proposition\n",
    "\n",
    "Let $L$ and $L^{\\prime}$ be two distinct lines in $\\mathbb{P}^2_{\\mathbb{C}}$.\n",
    "Then $L\\cap L^{\\prime}$ consists of exactly one point in $\\mathbb{P}^2_{\\mathbb{C}}$.\n",
    "In particular, the intersection $L\\cap L^{\\prime}$ is not empty."
   ]
  },
  {
   "cell_type": "markdown",
   "metadata": {},
   "source": [
    "Thus, there are no *parallel* lines in $\\mathbb{P}^2_{\\mathbb{C}}$:\n",
    "every pair of lines in $\\mathbb{P}^2_{\\mathbb{C}}$ has a common point and this point is unique provided that the lines are distinct.\n",
    "For example, to find the unique intersection point of the lines $4x-3y-17z=0$ and $7x+5y-11z=0$ in $\\mathbb{P}^2_{\\mathbb{C}}$,\n",
    "we can use the determinant formula:\n",
    "\n",
    "$$\n",
    "\\mathrm{det}\\left(\n",
    "\\begin{array}{ccc}\n",
    "4 & -3 & -17 \\\\\n",
    "7 & 5 & -11 \\\\\n",
    "\\textbf{i} & \\textbf{j} & \\textbf{k} \\\\\n",
    "\\end{array}\\right)=118\\textbf{i}-75\\textbf{j}+41\\textbf{k},\n",
    "$$\n",
    "\n",
    "where $\\textbf{i}=(1,0,0)$, $\\textbf{j}=(0,1,0)$ and $\\textbf{k}=(0,0,1)$.\n",
    "It gives us the point $[118:-75:41]$. We can use Python to compute this determinant:"
   ]
  },
  {
   "cell_type": "code",
   "execution_count": 4,
   "metadata": {
    "scrolled": true
   },
   "outputs": [
    {
     "name": "stdout",
     "output_type": "stream",
     "text": [
      "118*i - 75*j + 41*k\n"
     ]
    }
   ],
   "source": [
    "from sympy import *\n",
    "\n",
    "i, j, k = symbols('i, j, k')\n",
    "\n",
    "M = Matrix([[4, -3, -17], [7, 5, -11], [i, j, k]])\n",
    "\n",
    "determinant = simplify(M.det())\n",
    "\n",
    "print(determinant)"
   ]
  },
  {
   "cell_type": "markdown",
   "metadata": {},
   "source": [
    "Alternatively, we can find the unique intersection point of the lines $4x-3y-17z=0$ and $7x+5y-11z=0$\n",
    "by solving the following system of linear equations:\n",
    "\n",
    "$$\n",
    "\\begin{aligned}\n",
    "4x-3y-17z&=0,\\\\\n",
    "7x+5y-11z&=0.\n",
    "\\end{aligned}\n",
    "$$\n",
    "\n",
    "This system has a unique solution $[x:y:z]\\in\\mathbb{P}^2_{\\mathbb{C}}$, which can be found using Python again:"
   ]
  },
  {
   "cell_type": "code",
   "execution_count": 5,
   "metadata": {
    "scrolled": true
   },
   "outputs": [
    {
     "name": "stdout",
     "output_type": "stream",
     "text": [
      "(118/41, -75/41, 1)\n"
     ]
    }
   ],
   "source": [
    "from sympy import *\n",
    "\n",
    "x, y, z = symbols('x, y, z')\n",
    "\n",
    "L1 = 4 * x - 3 * y - 17 * z\n",
    "L2 = 7 * x + 5 * y - 11 * z\n",
    "\n",
    "solution = solve((L1, L2, z - 1), x, y, z)\n",
    "P = (solution[x], solution[y], solution[z])\n",
    "\n",
    "print(P)"
   ]
  },
  {
   "cell_type": "markdown",
   "metadata": {},
   "source": [
    "This gives us the same intersection point $[\\frac{118}{41}:-\\frac{75}{41}:1]=[118:-75:41]$.\n",
    "Note that we used an extra condition $z=1$ in this Python code.\n",
    "Why did we do this?\n",
    "By definition, at least one number among $x$, $y$ and $z$ is not zero,\n",
    "because there is no point $[0:0:0]$. Thus, if $z\\ne 0$, then\n",
    "\n",
    "$$\n",
    "\\big[x:y:z\\big]=\\Big[\\frac{x}{z}:\\frac{y}{z}:1\\Big],\n",
    "$$\n",
    "\n",
    "so that we can assume that $z=1$.\n",
    "If $z=0$, then either $x\\ne 0$ or $y\\ne 0$ (or both), and we can do a similar trick in these cases.\n",
    "Here we guessed that $z\\ne 0$, since $(x,y,z)=(0,0,0)$ is the only solution to the system of equations\n",
    "\n",
    "$$\n",
    "\\begin{aligned}\n",
    "4x-3y-17z &= 0,\\\\\n",
    "7x+5y-11z &= 0,\\\\\n",
    "z &= 0,\n",
    "\\end{aligned}\n",
    "$$\n",
    "\n",
    "\n",
    "and we want to avoid the $(0, 0, 0)$ solution when working over the projective plane."
   ]
  },
  {
   "cell_type": "markdown",
   "metadata": {},
   "source": [
    "### Exercise 3\n",
    "\n",
    "Find the intersection point in $\\mathbb{P}^2_{\\mathbb{C}}$ of the line given by\n",
    "\n",
    "$$\n",
    "(-13+17i)x+(23+29i)y-(11-3i)z=0\n",
    "$$\n",
    "\n",
    "and the line given by $$(2-5i)x+(15+19i)y+(37+41i)z=0.$$"
   ]
  },
  {
   "cell_type": "code",
   "execution_count": 29,
   "metadata": {
    "scrolled": true
   },
   "outputs": [
    {
     "name": "stdout",
     "output_type": "stream",
     "text": [
      "i*(-116 + 2180*I) + j*(1171 - 35*I) + k*(-709 + 65*I)\n"
     ]
    }
   ],
   "source": [
    "from sympy import *\n",
    "\n",
    "i, j, k = symbols('i,j,k')\n",
    "P=(-13+17*I, 23+29*I,-(11-3*I))\n",
    "Q=((2-5*I),(15+19*I),(37+41*I))\n",
    "\n",
    "M=Matrix([P,Q,[i,j,k]])\n",
    "determinant = simplify(M.det())\n",
    "\n",
    "print(determinant)"
   ]
  },
  {
   "cell_type": "code",
   "execution_count": null,
   "metadata": {},
   "outputs": [],
   "source": []
  },
  {
   "cell_type": "code",
   "execution_count": null,
   "metadata": {},
   "outputs": [],
   "source": []
  },
  {
   "cell_type": "markdown",
   "metadata": {},
   "source": [
    "## 3. Conics in projective plane\n",
    "\n",
    "The natural subsets to work with in the complex projective plane are given by *homogeneous* polynomial equations in $x$, $y$ and $z$. A polynomial is said to be *homogeneous* if all terms have the same degree. Thus, \n",
    "\n",
    "$$\n",
    "f(x,y,z) = 3x^2y + 6xy^2 + 12z^3\n",
    "$$\n",
    "\n",
    "is homogeneous but \n",
    "\n",
    "$$\n",
    "g(x,y,z) = 3x^2y + 6xy^2 + 12z^2\n",
    "$$\n",
    "\n",
    "is not homogeneous. \n",
    "\n",
    "The simplest case is when we have one equation:\n",
    "\n",
    "$$\n",
    "f_d(x,y,z)=0,\n",
    "$$\n",
    "\n",
    "where $f_d(x,y,z)$ is a homogeneous polynomial of degree $d\\geqslant 1$. Such subsets are called *complex projective plane curves* of degree $d$ or simply *plane curves*.\n",
    "Plane curves of degree $1$ are just lines in $\\mathbb{P}^2_{\\mathbb{C}}$.\n",
    "Plane curves of degree $2$ are called *conics*, and plane projective curves of degree $3$ are called *cubic curves*.\n",
    "\n",
    "If the polynomial $f_d(x,y,z)$ is *irreducible*, we say that the curve it defines is *irreducible*.\n",
    "Otherwise, we say that the curve is *reducible*.\n",
    "Lines are always irreducible. But conics can be reducible.\n",
    "However, if a conic is reducible, then it is a union of two (not necessarily distinct) lines.\n",
    "\n",
    "Let $\\mathcal{C}$ be a conic in $\\mathbb{P}^2_{\\mathbb{C}}$. Then it is given by\n",
    "\n",
    "$$\n",
    "Ax^{2}+Bxy+Cy^{2}+Dxz+Eyz+Fz^2=0\n",
    "$$\n",
    "\n",
    "for some complex numbers $A$, $B$, $C$, $D$, $E$ and $F$ such that $(A,B,C,D,E,F)\\ne(0,0,0,0,0,0)$.\n",
    "We can rewrite this equation in the matrix form as:\n",
    "\n",
    "$$\n",
    " \\left(\n",
    "\\begin{array}{ccc}\n",
    "x & y & z \\\\\n",
    "\\end{array}\\right)\\left( \\begin{array}{ccc}\n",
    "A & \\frac{B}{2} & \\frac{D}{2} \\\\\n",
    "\\frac{B}{2} & C & \\frac{E}{2} \\\\\n",
    "\\frac{D}{2} & \\frac{E}{2} & F \\\\\n",
    "\\end{array}\\right)\\left(\\begin{array}{c}\n",
    "x\\\\\n",
    "y\\\\\n",
    "z\\\\\n",
    "\\end{array}\\right)=0.\n",
    "$$\n",
    "\n",
    "Denote the $3\\times 3$ matrix in this equation by $M$.\n",
    "Similar to the result in the complex plane, the conic $\\mathcal{C}$ is irreducible if and only if $\\mathrm{det}(M)\\ne 0$.\n",
    "\n",
    "Instead of the matrix $M$, it is often more handy to use the following matrix:\n",
    "\n",
    "\\begin{equation}\n",
    "\\label{equation:Hessian-conic}\n",
    "\\left(\\begin{array}{ccc}\n",
    "2A & B & D \\\\\n",
    "B & 2C & E \\\\\n",
    "D & E & 2F \\\\\n",
    "\\end{array}\\right).\n",
    "\\end{equation}\n",
    "\n",
    "Its determinant is $8\\times\\mathrm{det}(M)$, so we can use it to check the irreducibility of the conic $\\mathcal{C}$.\n",
    "This is slightly better than using matrix $M$, since we do not need to divide by $2$ anywhere.\n",
    "This matrix can be found using the following Python function:"
   ]
  },
  {
   "cell_type": "code",
   "execution_count": 6,
   "metadata": {
    "scrolled": true
   },
   "outputs": [
    {
     "name": "stdout",
     "output_type": "stream",
     "text": [
      "8*A*C*F - 2*A*E**2 - 2*B**2*F + 2*B*D*E - 2*C*D**2\n"
     ]
    }
   ],
   "source": [
    "from sympy import *\n",
    "\n",
    "x, y, z, A, B, C, D, E, F = symbols('x, y, z, A, B, C, D, E, F')\n",
    "\n",
    "# Here we are going to define our own Python function (using def). \n",
    "# This function takes a polynomial f as an its input, and returns the associated matrix.\n",
    "\n",
    "def conicMatrix(f):\n",
    "    \n",
    "# We extract the coefficients of the polynomial f using the coeff_monomial command\n",
    "\n",
    "    a11 = 2 * f.coeff_monomial(x ** 2)\n",
    "    a12 = f.coeff_monomial(x * y)\n",
    "    a13 = f.coeff_monomial(x * z)\n",
    "    a21 = a12\n",
    "    a22 = 2 * f.coeff_monomial(y ** 2)\n",
    "    a23 = f.coeff_monomial(y * z)\n",
    "    a31 = a13\n",
    "    a32 = a23\n",
    "    a33 = 2 * f.coeff_monomial(z * z)\n",
    "    \n",
    "    M = Matrix([[a11, a12, a13], [a21, a22, a23], [a31, a32, a33]])\n",
    "    \n",
    "    return M\n",
    "\n",
    "# We now test our Python function conicMatrix on a polynomial. \n",
    "# Note that we define f to be a polynomial in x, y, z using Poly. \n",
    "\n",
    "\n",
    "f = Poly(A * x ** 2 + B * x * y + C * y ** 2 + D * x * z + E * y * z + F * z ** 2, x, y, z)\n",
    "M = conicMatrix(f)\n",
    "\n",
    "print(simplify(M.det()))"
   ]
  },
  {
   "cell_type": "markdown",
   "metadata": {},
   "source": [
    "Here we need to define ```f``` using ```Poly```. If we try to run the code with just the expression\n",
    "\n",
    "```\n",
    "f = A * x ** 2 + B * x * y + C * y ** 2 + D * x * z + E * y * z + F * z ** 2\n",
    "```\n",
    "\n",
    "then it will return an error. This is because ```coeff_monomial``` must take a polynomial input, as defined using ```Poly```.\n",
    "\n",
    "\n",
    "\n",
    "\n",
    "Let's consider an explicit example.\n",
    "Let $\\mathcal{C}$ be the conic in $\\mathbb{P}^2_{\\mathbb{C}}$ given by the equation\n",
    "\n",
    "$$\n",
    "(1+i)x^{2}-7xy+(3-2i)y^{2}+(2+5i)xz+(-1+i)yz+(-11+13i)z^2=0.\n",
    "$$\n",
    "\n",
    "Then $\\mathcal{C}$ is irreducible conic, since\n",
    "\n",
    "$$\n",
    "\\mathrm{det}\\left(\\begin{matrix}\n",
    "2+2i&-7&2+5i\\\\\n",
    "-7&6-4i&-1+i\\\\\n",
    "2+5i&-1+i&-22+26i\n",
    "\\end{matrix}\\right)=674-1000i\\ne 0.\n",
    "$$\n",
    "\n",
    "This is checked by adding\n",
    "\n",
    "```A = 1 + I\n",
    " B = -7\n",
    " C = 3 - 2 * I\n",
    " D = 2 + 5 * I\n",
    " E = -1 + I\n",
    " F = -11 + 13 * I```\n",
    "\n",
    "to the previous Python script, in the line above the definition of ```f```. \n",
    "\n",
    "A slightly different approach is given noting the desired matrix corresponds to the *Hessian* matrix of second derivatives of $f$:\n",
    "\n",
    "$$\n",
    "\\mathrm{Hess}(f)(x, y, z) := \n",
    "\\left(\n",
    "\\begin{array}{ccc}\n",
    "\\frac{\\partial^2 f}{\\partial x^2}(x,y,z) & \\frac{\\partial^2 f}{\\partial x \\partial y}(x,y,z) & \\frac{\\partial^2 f}{\\partial x \\partial z}(x,y,z) \\\\\n",
    "\\frac{\\partial^2 f}{\\partial y \\partial x}(x,y,z) & \\frac{\\partial^2 f}{\\partial y^2}(x,y,z) & \\frac{\\partial^2 f}{\\partial y \\partial z}(x,y,z) \\\\\n",
    "\\frac{\\partial^2 f}{\\partial z \\partial x}(x,y,z) & \\frac{\\partial^2 f}{\\partial z \\partial y}(x,y,z) & \\frac{\\partial^2 f}{\\partial z^2}(x,y,z) \n",
    "\\end{array}\n",
    "\\right).\n",
    "$$\n",
    "\n",
    "```SymPy``` has an inbuilt Hessian function, which allows us to compute the matrix in an efficient manner. "
   ]
  },
  {
   "cell_type": "code",
   "execution_count": 7,
   "metadata": {},
   "outputs": [
    {
     "name": "stdout",
     "output_type": "stream",
     "text": [
      "674 - 1000*I\n"
     ]
    }
   ],
   "source": [
    "from sympy import *\n",
    "\n",
    "x, y, z = symbols('x, y, z')\n",
    "\n",
    "# Define our conic\n",
    "\n",
    "A = 1 + I\n",
    "B = -7\n",
    "C = 3 - 2 * I\n",
    "D = 2 + 5 * I\n",
    "E = -1 + I\n",
    "F = -11 + 13 * I\n",
    "\n",
    "f = A * x ** 2 + B * x * y + C * y ** 2 + D * x * z + E * y * z + F * z ** 2\n",
    "\n",
    "# Compute the Hessian matrix\n",
    "\n",
    "M = hessian(f, (x, y, z))\n",
    "\n",
    "# Print the determinant of the Hessian\n",
    "\n",
    "print(simplify(M.det()))"
   ]
  },
  {
   "cell_type": "markdown",
   "metadata": {},
   "source": [
    "Here the function ```hessian``` handles ```f``` an expression in the sense we are familiar with (whereas the ```conicMatrix``` function deals with polynomials as elements of the class ```Poly```). This is not a big difference, since we can always convert elements of the class ```Poly``` into expressions using Python function ```as_expr()```.\n"
   ]
  },
  {
   "cell_type": "code",
   "execution_count": 8,
   "metadata": {},
   "outputs": [
    {
     "name": "stdout",
     "output_type": "stream",
     "text": [
      "A*x**2 + B*x*y + C*y**2 + D*x*z + E*y*z + F*z**2\n"
     ]
    }
   ],
   "source": [
    "from sympy import *\n",
    "\n",
    "x, y, z, A, B, C, D, E, F = symbols('x, y, z, A, B, C, D, E, F')\n",
    "\n",
    "f = Poly(A * x ** 2 + B * x * y + C * y ** 2 + D * x * z + E * y * z + F * z ** 2, x, y, z)\n",
    "g = f.as_expr()\n",
    "\n",
    "print(g)"
   ]
  },
  {
   "cell_type": "markdown",
   "metadata": {},
   "source": [
    "### Exercise 4\n",
    "\n",
    "Let $\\mathcal{C}$ be the conic in $\\mathbb{P}^2_{\\mathbb{C}}$ that is given by\n",
    "\n",
    "$$\n",
    "x^2+xy-2y^2+3xz+3yz+z^2=0.\n",
    "$$\n",
    "\n",
    "Show that the conic $\\mathcal{C}$ is *irreducible*.\n",
    "Verify that $\\mathcal{C}$ contains the point $[-2:1:3]$."
   ]
  },
  {
   "cell_type": "code",
   "execution_count": 38,
   "metadata": {},
   "outputs": [
    {
     "name": "stdout",
     "output_type": "stream",
     "text": [
      "18\n",
      "0\n",
      "0\n",
      "on the curve\n"
     ]
    }
   ],
   "source": [
    "from sympy import *\n",
    "\n",
    "# Show that the conic  is irreducible. Verify that  contains the point [−2:1:3].\n",
    "\n",
    "A = 1\n",
    "B = 1\n",
    "C = -2\n",
    "D = 3\n",
    "E = 3\n",
    "F = 1\n",
    "\n",
    "x, y, z = symbols('x, y, z')\n",
    "f = A * x ** 2 + B * x * y + C * y ** 2 + D * x * z + E * y * z + F * z ** 2\n",
    "# save curve as C5 for exercise 5\n",
    "C5 = f\n",
    "M = hessian(f, (x, y, z))\n",
    "print(simplify(M.det()))\n",
    "\n",
    "V = expand_complex(f.subs(x,-2).subs(y,1).subs(z,3))\n",
    "\n",
    "print(V)\n",
    "\n",
    "V = simplify(f.subs(x,-2).subs(y,1).subs(z,3))\n",
    "print(V)\n",
    "\n",
    "if V == 0:\n",
    "    print('on the curve')"
   ]
  },
  {
   "cell_type": "markdown",
   "metadata": {},
   "source": [
    "A line and an irreducible conic in $\\mathbb{P}^2_{\\mathbb{C}}$ always meet.\n",
    "Moreover, their intersection consists of at most $2$ points by [Cheltsov, Lemma 2.13].\n",
    "In fact, it consists of **precisely** two points if we count them with appropriate multiplicities.\n",
    "Furthermore, to find the intersection points of a line and a conic in $\\mathbb{P}^2_{\\mathbb{C}}$,\n",
    "the only thing you need to know is how to solve a quadratic equation in one variable.\n",
    "\n",
    "\n",
    "For example, let $L$ be the line in $\\mathbb{P}^2_{\\mathbb{C}}$ given by \n",
    "\n",
    "$$\n",
    "2x+7y-5z=0\n",
    "$$\n",
    "\n",
    "and let $\\mathcal{C}$ be the conic in $\\mathbb{P}^2_{\\mathbb{C}}$ given by\n",
    "\n",
    "$$\n",
    "2x^{2}-3xy+7y^{2}-5xz+11yz-8z^2=0.\n",
    "$$\n",
    "\n",
    "Note that the intersection of $L\\cap\\mathcal{C}$ with the line at infinity $z = 0$ is empty, since the system\n",
    "\n",
    "$$\n",
    "\\begin{aligned}\n",
    "2x^{2}-3xy+7y^{2}-5xz+11yz-8z^2 &=0,\\\\\n",
    "2x+7y-5z&=0,\\\\\n",
    "z&=0\n",
    "\\end{aligned}\n",
    "$$\n",
    "\n",
    "does not have solutions in $\\mathbb{P}^2_{\\mathbb{C}}$.\n",
    "Thus, the intersection $L\\cap\\mathcal{C}$ is contained in the subset $U_z$ of $\\mathbb{P}^2_{\\mathbb{C}}$ given by $z\\ne 0$.\n",
    "Hence, to find $L\\cap\\mathcal{C}$, we have to solve the following system:\n",
    "\n",
    "$$\n",
    "\\begin{aligned}\n",
    "2x^{2}-3xy+7y^{2}-5xz+11yz-8z^2&=0,\\\\\n",
    "2x+7y-5z&=0,\\\\\n",
    "z&=1.\n",
    "\\end{aligned}\n",
    "$$\n",
    "\n",
    "This is easy to do with Python:"
   ]
  },
  {
   "cell_type": "code",
   "execution_count": 9,
   "metadata": {
    "scrolled": true
   },
   "outputs": [
    {
     "name": "stdout",
     "output_type": "stream",
     "text": [
      "(23/12 - sqrt(385)/12, 1/6 + sqrt(385)/42, 1)\n",
      "(sqrt(385)/12 + 23/12, 1/6 - sqrt(385)/42, 1)\n"
     ]
    }
   ],
   "source": [
    "from sympy import *\n",
    "\n",
    "x, y, z = symbols('x, y, z')\n",
    "\n",
    "f = 2 * x ** 2 - 3 * x * y + 7 * y ** 2 - 5 * x * z + 11 * y * z - 8 * z ** 2\n",
    "l = 2 * x + 7 * y - 5 * z\n",
    "\n",
    "solution = solve((f, l, z - 1), x , y ,z)\n",
    "P1 = solution[0]\n",
    "P2 = solution[1]\n",
    "\n",
    "print(P1)\n",
    "print(P2)"
   ]
  },
  {
   "cell_type": "markdown",
   "metadata": {},
   "source": [
    "Running this code, we see that the intersection $L\\cap\\mathcal{C}$ consists of two points\n",
    "\n",
    "$$\n",
    "\\Big[\\frac{23\\pm\\sqrt{385}}{12}:\\frac{7\\mp\\sqrt{385}}{42}:1\\Big]=\\Big[161\\pm7\\sqrt{385}:14\\mp2\\sqrt{385}:84\\Big].\n",
    "$$\n"
   ]
  },
  {
   "cell_type": "markdown",
   "metadata": {},
   "source": [
    "### Exercise 5\n",
    "\n",
    "Let $\\mathcal{C}$ be the conic in Exercise 4.\n",
    "Find the intersection $L\\cap \\mathcal{C}$, where $L$ is the line in $\\mathbb{P}^2_{\\mathbb{C}}$ containing the points $[-2:1:3]$ and $[1:2:3]$."
   ]
  },
  {
   "cell_type": "code",
   "execution_count": 39,
   "metadata": {
    "scrolled": true
   },
   "outputs": [
    {
     "name": "stdout",
     "output_type": "stream",
     "text": [
      "-3*x + 9*y - 5*z\n",
      "[(-83/30, -11/30, 1), (-2/3, 1/3, 1)]\n"
     ]
    }
   ],
   "source": [
    "from sympy import  *\n",
    "x, y, z = symbols('x, y, z')\n",
    "\n",
    "P = (-2, 1, 3)\n",
    "Q = (1, 2, 3)\n",
    "\n",
    "M = Matrix([P,Q,[x,y,z]])\n",
    "L = M.det()\n",
    "print(L)\n",
    "\n",
    "solution = solve((C5, L, z - 1), x , y ,z)\n",
    "print(solution)\n"
   ]
  },
  {
   "cell_type": "markdown",
   "metadata": {},
   "source": [
    "## 4. How many points determine a conic?\n",
    "\n",
    "For two points $[a_{11}:a_{12}:a_{13}]\\ne[a_{21}:a_{22}:a_{23}]$ in the projective plane $\\mathbb{P}^2_{\\mathbb{C}}$, the equation\n",
    "\n",
    "$$\n",
    " \\mathrm{det}\\left(\n",
    "\\begin{matrix}\n",
    "a_{11}& a_{12} & a_{13}\\cr\n",
    "a_{21}& a_{22} & a_{23} \\cr\n",
    "x& y & z \\cr\n",
    "\\end{matrix}\\right)=0\n",
    "$$\n",
    "\n",
    "determines the unique line in $\\mathbb{P}^2_{\\mathbb{C}}$ containing them if $[a_{11}:a_{12}:a_{13}]\\ne[a_{21}:a_{22}:a_{23}]$.\n",
    "This implies, in particular, that any three points $[a_{11}:a_{12}:a_{13}]$, $[a_{21}:a_{22}:a_{23}]$ and $[a_{31}:a_{32}:a_{33}]$\n",
    "in $\\mathbb{P}^2_{\\mathbb{C}}$ are collinear (contained in one line) if and only if\n",
    "\n",
    "$$\n",
    " \\mathrm{det}\\left(\n",
    "\\begin{matrix}\n",
    "a_{11}& a_{12} & a_{13}\\cr\n",
    "a_{21}& a_{22} & a_{23}\\cr\n",
    "a_{31}& a_{32} & a_{33}\\cr\n",
    "\\end{matrix}\\right)=0.\n",
    "$$"
   ]
  },
  {
   "cell_type": "markdown",
   "metadata": {},
   "source": [
    "### Theorem\n",
    "\n",
    "Suppose that every line in $\\mathbb{P}^2_{\\mathbb{C}}$ contains at most $3$ points among $P_1$, $P_2$, $P_3$, $P_4$, $P_5$.\n",
    "Then there exists a unique conic $\\mathcal{C}$ in $\\mathbb{P}^2_{\\mathbb{C}}$ that contains these five points.\n",
    "Moreover, the conic $\\mathcal{C}$ is irreducible if and only if every line in $\\mathbb{P}^2_{\\mathbb{C}}$\n",
    "contains at most $2$ points among $P_1$, $P_2$, $P_3$, $P_4$, $P_5$."
   ]
  },
  {
   "cell_type": "markdown",
   "metadata": {},
   "source": [
    "Let's use Python to illustrate this result.\n",
    "For example, if $P_1=[1:2:0]$, $P_2=[-1:2:1]$, $P_3=[3:1:2]$, $P_4=[2:5:0]$ and $P_5=[7:2:3]$, then the equation of the required conic is\n",
    "\n",
    "$$\n",
    "100x^2-90xy+20y^2-206xz-475yz+384z^2=0.\n",
    "$$\n",
    "\n",
    "This can be checked using the following Python script:"
   ]
  },
  {
   "cell_type": "code",
   "execution_count": 10,
   "metadata": {},
   "outputs": [
    {
     "name": "stdout",
     "output_type": "stream",
     "text": [
      "5\n",
      "100*x**2 - 90*x*y - 206*x*z + 20*y**2 - 475*y*z + 384*z**2\n"
     ]
    }
   ],
   "source": [
    "from sympy import *\n",
    "\n",
    "x, y, z, A, B, C, D, E, F = symbols('x, y, z, A, B, C, D, E, F')\n",
    "\n",
    "# Define a general conic\n",
    "\n",
    "f = A * x ** 2 + B * x * y + C * y ** 2 + D * x * z + E * y * z + F * z ** 2\n",
    "\n",
    "P1 = (1, 2, 0)\n",
    "P2 = (-1, 2, 1)\n",
    "P3 = (3, 1, 2)\n",
    "P4 = (2, 5, 0)\n",
    "P5 = (7, 2, 3)\n",
    "\n",
    "# Set up a system of equations corresponding to the conditions that the points Pi lie in the conic\n",
    "\n",
    "E1 = f.subs(((x, P1[0]), (y, P1[1]), (z, P1[2])))\n",
    "E2 = f.subs(((x, P2[0]), (y, P2[1]), (z, P2[2])))\n",
    "E3 = f.subs(((x, P3[0]), (y, P3[1]), (z, P3[2])))\n",
    "E4 = f.subs(((x, P4[0]), (y, P4[1]), (z, P4[2])))\n",
    "E5 = f.subs(((x, P5[0]), (y, P5[1]), (z, P5[2])))\n",
    "\n",
    "M, b = linear_eq_to_matrix([E1, E2, E3, E4, E5], A, B, C, D, E, F)\n",
    "\n",
    "# Print the rank of the system. If it is rank 5, then there is a unique solution (up to scaling). \n",
    "\n",
    "print(M.rank())\n",
    "\n",
    "solution = solve((E1, E2, E3, E4, E5, F - 384), A, B, C, D, E, F)\n",
    "coeff = (solution[A], solution[B], solution[C], solution[D], solution[E], solution[F])\n",
    "\n",
    "# The solution corresponds to the coefficients of the desired polynomial f \n",
    "\n",
    "f = f.subs(((A, coeff[0]), (B, coeff[1]), (C, coeff[2]), (D, coeff[3]), (E, coeff[4]), (F, coeff[5])))\n",
    "\n",
    "print(f)"
   ]
  },
  {
   "cell_type": "markdown",
   "metadata": {},
   "source": [
    "Let's rewrite the equation in matrix form:\n",
    "\n",
    "$$\n",
    " \\left(\n",
    "\\begin{array}{ccc} x & y & z \\\\\n",
    " \\end{array}\\right)\\left( \\begin{array}{ccc} 100 & -45 & -103 \\\\\n",
    " -45 & 20 & -\\frac{475}{2} \\\\\n",
    " -103& -\\frac{475}{2} & 384 \\\\\n",
    " \\end{array}\\right)\\left(\n",
    "\\begin{array}{c} x \\\\\n",
    " y \\\\\n",
    " z \\\\\n",
    " \\end{array}\\right)=0.\n",
    "$$\n",
    "\n",
    "Then the determinant of the $3\\times 3$ matrix in this equation equals $-8064030$, so that the conic we found is irreducible.\n",
    "These computations can be done by running the following Python script:"
   ]
  },
  {
   "cell_type": "code",
   "execution_count": 11,
   "metadata": {
    "scrolled": true
   },
   "outputs": [
    {
     "name": "stdout",
     "output_type": "stream",
     "text": [
      "-8064030\n"
     ]
    }
   ],
   "source": [
    "from sympy import *\n",
    "\n",
    "x, y, z = symbols('x,y,z')\n",
    "\n",
    "# Define our conic\n",
    "\n",
    "f = 100 * x ** 2 - 90 * x * y + 20 * y ** 2 - 206 * x * z - 475 * y * z + 384 * z ** 2\n",
    "\n",
    "# Compute the hessian\n",
    "\n",
    "M = hessian(f, (x, y, z))\n",
    "\n",
    "# Print the determinant of the Hessian, scaled by 1/8.\n",
    "# Recall, the determinant of the Hessian is 8 * the determinant of the coefficient matrix.\n",
    "\n",
    "print(simplify(M.det()) / 8)"
   ]
  },
  {
   "cell_type": "markdown",
   "metadata": {},
   "source": [
    "### Exercise 6\n",
    "\n",
    "Continuing the above example, show that no three points among $P_1$, $P_2$, $P_3$, $P_4$ and $P_5$ are collinear. Use this to give an alternative proof that the polynomial $100x^2-90xy+20y^2-206xz-475yz+384z^2$ is irreducible. \n",
    "\n",
    "Test your code by checking what happens when there are collinear triples. For example, consider adding a point ```P6 = (6, 4, 2)```. You should avoid deep loops by using  ```itertools.combinations``` from the ```itertools``` library."
   ]
  },
  {
   "cell_type": "code",
   "execution_count": 59,
   "metadata": {
    "scrolled": true
   },
   "outputs": [
    {
     "name": "stdout",
     "output_type": "stream",
     "text": [
      "no 3 point are colinear\n",
      "The point (1, 2, 0) is on the curve\n",
      "The point (-1, 2, 1) is on the curve\n",
      "The point (3, 1, 2) is on the curve\n",
      "The point (2, 5, 0) is on the curve\n",
      "The point (7, 2, 3) is on the curve\n",
      "since all 5 points are on the curve and they are all colinear, the curve is irreducible\n",
      "(1, 2, 0) (7, 2, 3) (6, 4, 2)  are collinear\n",
      "There are 1 colinear triples\n"
     ]
    }
   ],
   "source": [
    "from sympy import *\n",
    "import itertools\n",
    "\n",
    "P1 = (1, 2, 0)\n",
    "P2 = (-1, 2, 1)\n",
    "P3 = (3, 1, 2)\n",
    "P4 = (2, 5, 0)\n",
    "P5 = (7, 2, 3)\n",
    "\n",
    "x,y,z = symbols('x,y,z')\n",
    "f = 100*𝑥**2-90*𝑥*𝑦+20*𝑦**2-206*𝑥*𝑧-475*𝑦*𝑧+384*𝑧**2\n",
    "P6 = (6, 4, 2)\n",
    "\n",
    "points = [P1, P2, P3, P4, P5]\n",
    "triples = []\n",
    "\n",
    "for point0, point1, point2 in itertools.combinations(points, 3):\n",
    "    \n",
    "    # put three vector in a matrix M\n",
    "    \n",
    "    M = Matrix([point0, point1, point2])\n",
    "    \n",
    "    # check if determinate of M is zero, if yes stor triple in the list triples \n",
    "    \n",
    "    if M.det() == 0:\n",
    "        \n",
    "        print(point0, point1, point2, ' are collinear')\n",
    "        \n",
    "        triples.append((point0, point1, point2))\n",
    "\n",
    "if (len(triples)) == 0:\n",
    "    print('no 3 points are colinear')\n",
    "\n",
    "for point in points:\n",
    "    V =  f.subs(x,point[0]).subs(y,point[1]).subs(z,point[2])\n",
    "    if V== 0:\n",
    "        print('The point', point, 'is on the curve')\n",
    "print('since all 5 points are on the curve and they are all colinear, the curve is irreducible')\n",
    "\n",
    "# add 6th point, so there should have colinear triple\n",
    "points.append(P6)\n",
    "for point0, point1, point2 in itertools.combinations(points, 3):\n",
    "    # put three vector in a matrix M\n",
    "    M = Matrix([point0, point1, point2])  \n",
    "    # check if determinate of M is zero, if yes stor triple in the list triples \n",
    "    if M.det() == 0:\n",
    "        print(point0, point1, point2, ' are collinear')\n",
    "        triples.append((point0, point1, point2))\n",
    "print('There are', len(triples), 'colinear triples')\n"
   ]
  },
  {
   "cell_type": "markdown",
   "metadata": {},
   "source": [
    "### Exercise 7\n",
    "\n",
    "Find a conic in $\\mathbb{P}^2_{\\mathbb{C}}$ that contains the points\n",
    "\n",
    "$$\n",
    "[3:4:5],\\quad [5:12:13],\\quad [8:15:17],\\quad [7:24:25],\\quad [20:21:29].\n",
    "$$\n",
    "\n",
    "Explain why this conic is unique. Why is the solution not a surprise?"
   ]
  },
  {
   "cell_type": "code",
   "execution_count": 63,
   "metadata": {
    "scrolled": true
   },
   "outputs": [
    {
     "name": "stdout",
     "output_type": "stream",
     "text": [
      "6\n",
      "x**2 + y**2 - z**2\n"
     ]
    }
   ],
   "source": [
    "from sympy import *\n",
    "import itertools\n",
    "\n",
    "x, y, z, A, B, C, D, E, F = symbols('x, y, z, A, B, C, D, E, F')\n",
    "\n",
    "# Define a general conic\n",
    "\n",
    "f = A * x ** 2 + B * x * y + C * y ** 2 + D * x * z + E * y * z + F * z ** 2\n",
    "\n",
    "P1 = (3, 4, 5)\n",
    "P2 = (5, 12, 13)\n",
    "P3 = (8, 15, 17)\n",
    "P4 = (7, 24, 25)\n",
    "P5 = (20, 21, 29)\n",
    "\n",
    "E1 = f.subs(((x,P1[0]), (y, P1[1]), (z, P1[2])))\n",
    "E2 = f.subs(((x,P2[0]), (y, P2[1]), (z, P2[2])))\n",
    "E3 = f.subs(((x,P3[0]), (y, P3[1]), (z, P3[2])))\n",
    "E4 = f.subs(((x,P4[0]), (y, P4[1]), (z, P4[2])))\n",
    "E5 = f.subs(((x,P5[0]), (y, P5[1]), (z, P5[2])))\n",
    "\n",
    "solution = solve ((E1, E2, E3, E4, E5, A - 1), A, B, C, D, E, F)\n",
    "coeff = (solution[A], solution[B], solution[C], solution[D], solution[E], solution[F])\n",
    "f = f.subs(((A, coeff[0]), (B, coeff[1]), (C, coeff[2]), (D, coeff[3]), (E, coeff[4]), (F, coeff[5])))\n",
    "\n",
    "print(f)\n",
    "# add code here"
   ]
  },
  {
   "cell_type": "markdown",
   "metadata": {},
   "source": [
    "### Exercise 8\n",
    "\n",
    "Find a conic in $\\mathbb{P}^2_{\\mathbb{C}}$ that contains the points\n",
    "\n",
    "$$\n",
    "[0:1:2],\\quad [0:3:4],\\quad [0:5:6], \\quad [7:8:0], \\quad [9:10:0].\n",
    "$$\n",
    "\n",
    "Explain why this conic is unique. Why is the solution not a surprise?"
   ]
  },
  {
   "cell_type": "code",
   "execution_count": 79,
   "metadata": {
    "scrolled": true
   },
   "outputs": [
    {
     "name": "stdout",
     "output_type": "stream",
     "text": [
      "{A: -8*B/7 + 128*E/49 + 256*F/49, C: -2*E - 4*F, D: 1}\n",
      "x * z = 0\n"
     ]
    }
   ],
   "source": [
    "from sympy import *\n",
    "\n",
    "x, y, z, A, B, C, D, E, F = symbols('x, y, z, A, B, C, D, E, F')\n",
    "\n",
    "# Define a general conic\n",
    "\n",
    "f = A * x ** 2 + B * x * y + C * y ** 2 + D * x * z + E * y * z + F * z ** 2\n",
    "\n",
    "P1 = (0, 1, 2)\n",
    "P2 = (0, 3, 4)\n",
    "P3 = (0, 5, 6)\n",
    "P4 = (7, 8, 0)\n",
    "P5 = (9, 10, 0)\n",
    "\n",
    "E1 = f.subs(((x,P1[0]), (y, P1[1]), (z, P1[2])))\n",
    "E2 = f.subs(((x,P2[0]), (y, P2[1]), (z, P2[2])))\n",
    "E3 = f.subs(((x,P3[0]), (y, P3[1]), (z, P3[2])))\n",
    "E4 = f.subs(((x,P4[0]), (y, P4[1]), (z, P4[2])))\n",
    "E5 = f.subs(((x,P5[0]), (y, P5[1]), (z, P5[2])))\n",
    "\n",
    "solution = solve ((E1, E2, E3, E4, E5, D - 1 ), A, B, C, D, E, F)\n",
    "print (solution)\n",
    "\n",
    "print('x * z = 0')"
   ]
  },
  {
   "cell_type": "markdown",
   "metadata": {},
   "source": [
    "## 5. Smooth and singular curves\n",
    "\n",
    "Here we will define smooth conics, tangent lines and singular points in the setting of the projective plane. To do this, let's first consider an example. Let $\\mathcal{C}_2$ be the conic given by\n",
    "\n",
    "$$\n",
    "13x^2-10xy+2y^2-44xz+16yz+15z^2=0,\n",
    "$$\n",
    "\n",
    "and let $L$ be the line given by\n",
    "\n",
    "$$\n",
    "12x-2y-86z=0.\n",
    "$$\n",
    "\n",
    "Then $L\\cap\\mathcal{C}_2=\\{[11:23:1]\\}$. This point lies in $U_z$. Let $\\overline{\\mathcal{C}}_2=U_z\\cap\\mathcal{C}_2$ and $\\overline{L}=L\\cap U_z$.\n",
    "Then $\\overline{\\mathcal{C}}_2$ is a conic in $U_z$, which we identify with $\\mathbb{C}^2$, given by\n",
    "\n",
    "$$\n",
    " 13\\overline{x}^2-10\\overline{x}\\overline{y}+2\\overline{y}^2-44\\overline{x}+16\\overline{y}+15=0,\n",
    "$$\n",
    "\n",
    "and $\\overline{L}$ is a line in $U_z$ given by \n",
    "\n",
    "$$\n",
    "12\\overline{x}-2\\overline{y}-86=0.\n",
    "$$\n",
    "\n",
    "We also have $[11:23:1]=(11,23)$ in coordinates $\\overline{x}=\\frac{x}{z}$ and $\\overline{y}=\\frac{y}{z}$.\n",
    "Let $F(\\overline{x},\\overline{y})=13\\overline{x}^2-10\\overline{x}\\overline{y}+2\\overline{y}^2-44\\overline{x}+16\\overline{y}+15$. Then\n",
    "\n",
    "$$\n",
    "\\begin{aligned}\n",
    "&\\frac{\\partial F(\\overline{x},\\overline{y})}{\\partial\\overline{x}}=26\\overline{x}-10\\overline{y}-44,\\\\\n",
    "&\\frac{\\partial F(\\overline{x},\\overline{y})}{\\partial\\overline{y}}=-10\\overline{x}+4\\overline{y}+16.\n",
    "\\end{aligned}\n",
    "$$\n",
    "\n",
    "Evaluating these partial derivatives at $(11,23)$,\n",
    "we get $\\frac{\\partial F(\\overline{x},\\overline{y})}{\\partial\\overline{x}}(11,23)=12$\n",
    "and $\\frac{\\partial F(\\overline{x},\\overline{y})}{\\partial\\overline{y}}(11,23)=-2$.\n",
    "Hence, the equation of the tangent line to the curve $\\overline{\\mathcal{C}}_2$ at the point $(11,23)$ is given by\n",
    "\n",
    "$$\n",
    "12(\\overline{x}-11)-2(\\overline{y}-23)=0,\n",
    "$$\n",
    "\n",
    "which is exactly the equation of the line $\\overline{L}$.\n",
    "Thus, the line $\\overline{L}$ is tangent to the conic $\\overline{\\mathcal{C}}_2$ at the point $(11,23)$,\n",
    "so that $L$ is tangent to $\\mathcal{C}_2$ at the point $[11:23:1]$.\n",
    "\n",
    "\n",
    "Can we see this without using the subset $U_z$? Yes, we can.\n",
    "Let \n",
    "\n",
    "$$\n",
    "f(x,y,z)=13x^2-10xy+2y^2-44xz+16yz+15z^2.\n",
    "$$\n",
    "\n",
    "Then the polynomials $f(x,y,z)$ and $F(\\overline{x},\\overline{y})$ are related by \n",
    "\n",
    "$$\n",
    "F(\\overline{x},\\overline{y})=f(\\overline{x},\\overline{y},1) \\qquad \\textrm{and} \\qquad f(x,y,z)=z^2F\\Big(\\frac{x}{z},\\frac{y}{z}\\Big).\n",
    "$$\n",
    "\n",
    "Taking partial derivatives of the polynomial $f(x,y,z)$, we get\n",
    "\n",
    "$$\n",
    "\\frac{\\partial f(x,y,z)}{\\partial x}=26x-10y-44z,\\quad\n",
    "\\frac{\\partial f(x,y,z)}{\\partial y}=-10x-4y+16z,\\quad\n",
    "\\frac{\\partial f(x,y,z)}{\\partial z}=-44x+16y+30z.\n",
    "$$\n",
    "\n",
    "Evaluating them at $[11:23:1]$, we get\n",
    "\n",
    "$$\n",
    "\\frac{\\partial f(x,y,z)}{\\partial x}(11,23,1)=12,\\quad\n",
    "\\frac{\\partial f(x,y,z)}{\\partial y}(11,23,1)=2,\\quad\n",
    "\\frac{\\partial f(x,y,z)}{\\partial z}(11,23,1)=-86.\n",
    "$$\n",
    "\n",
    "Recall that $L$ is the tangent line to $\\mathcal{C}_2$ at the point $[11:23:1]$, and $L$ is given by $12x-2y-86z=0$,\n",
    "so that $L$ is given by\n",
    "\n",
    "$$\n",
    "\\frac{\\partial f(x,y,z)}{\\partial x}(11,23,1)x+\\frac{\\partial f(x,y,z)}{\\partial y}(11,23,1)y+\\frac{\\partial f(x,y,z)}{\\partial z}(11,23,1)z=0.\n",
    "$$\n",
    "\n",
    "This is not a coincidence. The tangent line to $\\mathcal{C}_2$ at every point $[a:b:c]\\in\\mathcal{C}_2$ is given by\n",
    "\n",
    "$$\n",
    "\\frac{\\partial f(x,y,z)}{\\partial x}(a,b,c)x+\\frac{\\partial f(x,y,z)}{\\partial y}(a,b,c)y+\\frac{\\partial f(x,y,z)}{\\partial z}(a,b,c)z=0.\n",
    "$$\n",
    "\n",
    "Of course, this formula works for all curves in $\\mathbb{P}^2_{\\mathbb{C}}$.\n",
    "It allows us to find tangent lines to curves of any degree.\n",
    "However, there is a hidden problem: what if all partial derivatives are zero at some point?\n",
    "Namely, if there is a point $[x:y:z]\\in\\mathcal{C}_2$ such that\n",
    "\n",
    "$$\n",
    "\\frac{\\partial f(x,y,z)}{\\partial x}=0,\\quad\n",
    "\\frac{\\partial f(x,y,z)}{\\partial y}=0,\\quad\n",
    "\\frac{\\partial f(x,y,z)}{\\partial z}=0.\n",
    "$$\n",
    "\n",
    "In our example, this cannot happen, because the system of equations\n",
    "\n",
    "$$\n",
    "\\begin{aligned}\n",
    "26x-10y-44z&=0\\\\\n",
    "-10x+4y+16z&=0\\\\\n",
    "-44x+16y+30z&=0\\\\\n",
    "\\end{aligned}\n",
    "$$\n",
    "\n",
    "has only a trivial solution $x=y=z=0$, since\n",
    "\n",
    "$$\n",
    "\\det\\left(\n",
    "\\begin{array}{ccc}\n",
    "26 & -10 & -44 \\\\\n",
    "-10 & -4 & 16 \\\\\n",
    "-44 & 16 & 30 \\\\\n",
    "\\end{array}\\right)=-200\\ne 0.\n",
    "$$\n",
    "\n",
    "This means that for every point $[a:b:c]\\in\\mathcal{C}_2$\n",
    "there is a line in $\\mathbb{P}^2_{\\mathbb{C}}$ that is tangent to this conic at this point.\n",
    "Note that the conic $\\mathcal{C}_2$ is irreducible, because it is given by\n",
    "\n",
    "$$\n",
    "\\left(\n",
    "\\begin{array}{ccc}\n",
    "x & y & z \\\\\n",
    "\\end{array}\\right)\\left(\\begin{array}{ccc}\n",
    "26 & -10 & -44 \\\\\n",
    "-10 & -4 & 16 \\\\\n",
    "-44 & 16 & 30 \\\\\n",
    "\\end{array}\\right)\\left(\\begin{array}{c}\n",
    "x \\\\\n",
    "y \\\\\n",
    "z \\\\\n",
    "\\end{array}\\right)=0,\n",
    "$$\n",
    "\n",
    "and we just computed the determinant of this $3\\times 3$ matrix."
   ]
  },
  {
   "cell_type": "markdown",
   "metadata": {},
   "source": [
    "Now we are ready to give a definition in general. Let $\\mathcal{C}_d$ be a curve in $\\mathbb{P}^2_{\\mathbb{C}}$ given by\n",
    "\n",
    "$$\n",
    "f_d(x,y,z)=0,\n",
    "$$\n",
    "\n",
    "where $f_d(x,y,z)$ is a homogeneous polynomial of degree $d\\geqslant 1$. Let $[a:b:c]$ be a point in $\\mathcal{C}_d$.\n",
    "We say that $[a:b:c]$ is a *singular point* of the curve $\\mathcal{C}_d$ if $[a:b:c]$ is a solution of the following system of equations:\n",
    "\n",
    "$$\n",
    "\\frac{\\partial f_d(x,y,z)}{\\partial x}=0,\\quad\n",
    "\\frac{\\partial f_d(x,y,z)}{\\partial y}=0,\\quad\n",
    "\\frac{\\partial f_d(x,y,z)}{\\partial z}=0.\n",
    "$$\n",
    "\n",
    "Otherwise, we say that $[a:b:c]$ is a *smooth point* or a *non-singular point* of the curve $\\mathcal{C}_d$\n",
    "or that the curve $\\mathcal{C}_d$ is *smooth* or *non-singular* at the point $[a:b:c]$.\n",
    "\n",
    "If $[a:b:c]$ is a smooth point of the curve $\\mathcal{C}_d$, then the equation\n",
    "\n",
    "$$\n",
    "\\frac{\\partial f_d(x,y,z)}{\\partial x}(a,b,c)x+\\frac{\\partial f_d(x,y,z)}{\\partial y}(a,b,c)y+\\frac{\\partial f_d(x,y,z)}{\\partial z}(a,b,c)z=0\n",
    "$$\n",
    "\n",
    "defines a line in $\\mathbb{P}^2_{\\mathbb{C}}$. This is a *tangent* line to the curve $\\mathcal{C}_d$ at the point $[a:b:c]$.\n",
    "If all points of the curve $\\mathcal{C}_d$ are smooth, we say that $\\mathcal{C}_d$ is smooth."
   ]
  },
  {
   "cell_type": "markdown",
   "metadata": {},
   "source": [
    "### Exercise 9\n",
    "\n",
    "Let $\\mathcal{C}_2$ be the conic in $\\mathbb{P}^2_{\\mathbb{C}}$ given by\n",
    "\n",
    "$$\n",
    "x^2+xy-2y^2+3xz+3yz+z^2=0.\n",
    "$$\n",
    "\n",
    "\n",
    "- Verify that $\\mathcal{C}_2$ does not have singular points.\n",
    "- Show $\\mathcal{C}_2$ contains $[-2:1:3]$.\n",
    "- Find the equation of the line that is tangent to $\\mathcal{C}_2$ at the point $[-2:1:3]$.\n",
    "- Find the intersection of the conic $\\mathcal{C}_2$ with this line."
   ]
  },
  {
   "cell_type": "code",
   "execution_count": 91,
   "metadata": {
    "scrolled": true
   },
   "outputs": [
    {
     "name": "stdout",
     "output_type": "stream",
     "text": [
      "The curve has no singular point\n",
      "The points lies on curve\n",
      "6*x + 3*y + 3*z = 0\n",
      "[(-2/3, 1/3, 1)]\n"
     ]
    }
   ],
   "source": [
    "from sympy import *\n",
    "\n",
    "x, y, z = symbols ('x, y, z')\n",
    "# irreducible ==? non singular ?\n",
    "f =  x ** 2 + x * y - 2 * y ** 2 + 3 * x * z + 3 * y * z +  z ** 2\n",
    "\n",
    "# Compute the hessian\n",
    "\n",
    "M = hessian(f, (x, y, z))\n",
    "\n",
    "if M.det() == 0:\n",
    "    print('The curve has singular point')\n",
    "else:\n",
    "    print('The curve has no singular point')\n",
    "    \n",
    "V = f.subs(((x, -2),(y,1),(z,3)))\n",
    "if V == 0:\n",
    "    print('The points lies on curve')\n",
    "else:\n",
    "    print('The point doesnot lie on curve')\n",
    "\n",
    "Cx = diff(f,x)\n",
    "Cy = diff(f,y)\n",
    "Cz = diff(f,z)\n",
    "\n",
    "Vx = Cx.subs(((x, -2),(y,1),(z,3)))\n",
    "Vy = Cy.subs(((x, -2),(y,1),(z,3)))\n",
    "Vz = Cz.subs(((x, -2),(y,1),(z,3)))\n",
    "\n",
    "L = Vx * x + Vy * y + Vz * z\n",
    "print(L, '= 0')\n",
    "solution = solve (( f, L, z-1 ), x, y, z)\n",
    "print(solution) # exact = (-2,1,3)"
   ]
  },
  {
   "cell_type": "markdown",
   "metadata": {},
   "source": [
    "### Exercise 10\n",
    "\n",
    "Find a smooth conic $\\mathcal{C}_2$ in $\\mathbb{P}^2_\\mathbb{C}$ such that the following conditions are satisfied:\n",
    "- the conic $\\mathcal{C}_2$ contains the points $[0:0:1]$, $[0:1:0]$, $[1:0:0]$;\n",
    "- the line $2x + y = 0$ is tangent to $\\mathcal{C}_2$  at the point $[0:0:1]$;\n",
    "- the line $y - z = 0$ is tangent to $\\mathcal{C}_2$ at the point $[1:0:0]$."
   ]
  },
  {
   "cell_type": "code",
   "execution_count": 101,
   "metadata": {
    "scrolled": true
   },
   "outputs": [
    {
     "name": "stdout",
     "output_type": "stream",
     "text": [
      "{F: 0, C: 0, A: 0, B: 2, D: 2, E: 1}\n",
      "2*x*y + 2*x*z + y*z\n"
     ]
    }
   ],
   "source": [
    "from sympy import *\n",
    "\n",
    "x, y, z, A, B, C, D, E, F = symbols('x, y, z, A, B, C, D, E, F')\n",
    "\n",
    "# Define a general conic\n",
    "\n",
    "f = A * x ** 2 + B * x * y + C * y ** 2 + D * x * z + E * y * z + F * z ** 2\n",
    "\n",
    "Cx = diff(f, x)\n",
    "Cy = diff(f, y)\n",
    "Cz = diff(f, z)\n",
    "\n",
    "P1 = (0, 0, 1)\n",
    "P2 = (0, 1, 0)\n",
    "P3 = (1, 0, 0)\n",
    "E1 = f.subs(((x,0),(y,0),(z,1)))\n",
    "E2 = f.subs(((x,0),(y,1),(z,0)))\n",
    "E3 = f.subs(((x,1),(y,0),(z,0)))\n",
    "E4 = Cx.subs(((x,0),(y,0),(z,1))) - 2 * Cy.subs(((x,0),(y,0),(z,1))) \n",
    "E5 = Cz.subs(((x,0),(y,0),(z,1)))\n",
    "E6 = Cx.subs(((x,1),(y,0),(z,0)))\n",
    "E7 = Cy.subs(((x,1),(y,0),(z,0))) -  Cz.subs(((x,1),(y,0),(z,0)))\n",
    "sol = solve((E1, E2, E3, E4, E5, E6, E7, E - 1 ), A, B, C, D, E, F)\n",
    "print(sol)\n",
    "coeff = (sol[A], sol[B], sol[C], sol[D], sol[E], sol[F])\n",
    "\n",
    "f = f.subs(((A, coeff[0]), (B, coeff[1]), (C, coeff[2]), (D, coeff[3]), (E, coeff[4]), (F, coeff[5])))\n",
    "print(f) "
   ]
  },
  {
   "cell_type": "markdown",
   "metadata": {},
   "source": [
    "Arguing as above, we see that a conic in $\\mathbb{P}^2_{\\mathbb{C}}$ is irreducible if and only if it is smooth.\n",
    "In fact, one can show that every smooth plane curve is irreducible (see [Cheltsov, Lemma 2.42]).\n",
    "However, there are irreducible singular cubic curves.\n"
   ]
  }
 ],
 "metadata": {
  "kernelspec": {
   "display_name": "Python 3",
   "language": "python",
   "name": "python3"
  },
  "language_info": {
   "codemirror_mode": {
    "name": "ipython",
    "version": 3
   },
   "file_extension": ".py",
   "mimetype": "text/x-python",
   "name": "python",
   "nbconvert_exporter": "python",
   "pygments_lexer": "ipython3",
   "version": "3.8.8"
  }
 },
 "nbformat": 4,
 "nbformat_minor": 2
}
