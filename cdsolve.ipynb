{
 "cells": [
  {
   "cell_type": "code",
   "execution_count": 2,
   "id": "999f4afc-3340-4931-9e3e-d748e8563118",
   "metadata": {},
   "outputs": [
    {
     "name": "stdout",
     "output_type": "stream",
     "text": [
      "ODE class:  separable\n"
     ]
    },
    {
     "data": {
      "text/latex": [
       "$\\displaystyle y{\\left(x \\right)} = \\frac{C_{1} e^{- 2 x^{2}}}{4} - \\frac{3}{4}$"
      ],
      "text/plain": [
       "Eq(y(x), C1*exp(-2*x**2)/4 - 3/4)"
      ]
     },
     "execution_count": 2,
     "metadata": {},
     "output_type": "execute_result"
    }
   ],
   "source": [
    "from sympy import *\n",
    "from sympy.solvers.ode import dsolve\n",
    "x, y = symbols ('x, y')\n",
    "y = Function('y')(x)\n",
    "eq = Eq((y.diff(x) + 4 * x * y), - 3 * x)\n",
    "print('ODE class: ', classify_ode(eq)[0])\n",
    "dsolve(eq, y)"
   ]
  }
 ],
 "metadata": {
  "kernelspec": {
   "display_name": "Python 3",
   "language": "python",
   "name": "python3"
  },
  "language_info": {
   "codemirror_mode": {
    "name": "ipython",
    "version": 3
   },
   "file_extension": ".py",
   "mimetype": "text/x-python",
   "name": "python",
   "nbconvert_exporter": "python",
   "pygments_lexer": "ipython3",
   "version": "3.8.8"
  }
 },
 "nbformat": 4,
 "nbformat_minor": 5
}
