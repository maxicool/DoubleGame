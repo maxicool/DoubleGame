{
 "cells": [
  {
   "cell_type": "markdown",
   "id": "421f4eb7-8eb0-4d40-8140-ef7ec14e51bd",
   "metadata": {},
   "source": [
    "### Workshop\n",
    "## 1. Caculate the general solution\n",
    "(a) $ y' + 4y = e^{-2t}$"
   ]
  },
  {
   "cell_type": "code",
   "execution_count": 2,
   "id": "38d72bc2-f1b6-4cb1-84dd-e56b26683fa2",
   "metadata": {},
   "outputs": [
    {
     "name": "stdout",
     "output_type": "stream",
     "text": [
      "ODE class:  1st_linear\n"
     ]
    },
    {
     "data": {
      "text/latex": [
       "$\\displaystyle y{\\left(t \\right)} = \\left(C_{1} - \\frac{e^{2 t}}{2}\\right) e^{- 4 t}$"
      ],
      "text/plain": [
       "Eq(y(t), (C1 - exp(2*t)/2)*exp(-4*t))"
      ]
     },
     "execution_count": 2,
     "metadata": {},
     "output_type": "execute_result"
    }
   ],
   "source": [
    "from sympy import *\n",
    "from sympy.solvers.ode import dsolve\n",
    "t, x, y, u, C1 = symbols ('t, x, y, u, C1')\n",
    "y = Function('y')(t)\n",
    "eq = Eq((y.diff(t) + 4 * y), - exp(-2 * t))\n",
    "print('ODE class: ', classify_ode(eq)[0])\n",
    "a1 = dsolve(eq, y)\n",
    "a1"
   ]
  },
  {
   "cell_type": "raw",
   "id": "513a62af-a722-4152-a2dd-64f4ef059e51",
   "metadata": {},
   "source": []
  },
  {
   "cell_type": "markdown",
   "id": "ed795582-0408-4cd7-b860-ff7b9f98b305",
   "metadata": {},
   "source": [
    "(b) $ty' + y = e^{2t} $"
   ]
  },
  {
   "cell_type": "code",
   "execution_count": 20,
   "id": "624c6a01-dacf-46ed-9746-66fbe4243bd2",
   "metadata": {},
   "outputs": [
    {
     "name": "stdout",
     "output_type": "stream",
     "text": [
      "ODE class:  separable\n"
     ]
    },
    {
     "data": {
      "text/latex": [
       "$\\displaystyle y{\\left(t \\right)} = \\frac{C_{1}}{t}$"
      ],
      "text/plain": [
       "Eq(y(t), C1/t)"
      ]
     },
     "execution_count": 20,
     "metadata": {},
     "output_type": "execute_result"
    }
   ],
   "source": [
    "# first solve t * y' + y = 0\n",
    "eq = Eq(t * y.diff(t) + y, 0)\n",
    "print('ODE class: ', classify_ode(eq)[0])\n",
    "dsolve(eq, y)"
   ]
  },
  {
   "cell_type": "code",
   "execution_count": 22,
   "id": "f6ba45aa-134d-4db4-a5c3-86d8177abe4b",
   "metadata": {},
   "outputs": [
    {
     "name": "stdout",
     "output_type": "stream",
     "text": [
      "2*t*Ei(2*t) - exp(2*t)\n",
      "ODE class:  1st_exact\n"
     ]
    },
    {
     "data": {
      "text/latex": [
       "$\\displaystyle y{\\left(t \\right)} = \\frac{C_{1} + \\frac{e^{2 t}}{2}}{t}$"
      ],
      "text/plain": [
       "Eq(y(t), (C1 + exp(2*t)/2)/t)"
      ]
     },
     "execution_count": 22,
     "metadata": {},
     "output_type": "execute_result"
    }
   ],
   "source": [
    "print(simplify((-t)*integrate(-exp(2*t)/t**2)))\n",
    "eq = Eq((t * y.diff(t) + y), exp(2*t))\n",
    "print('ODE class: ', classify_ode(eq)[0])\n",
    "b1 = dsolve(eq, y)\n",
    "b1"
   ]
  },
  {
   "cell_type": "raw",
   "id": "a3d1758e-5b2a-4ded-a2ff-133624101b11",
   "metadata": {},
   "source": []
  },
  {
   "cell_type": "markdown",
   "id": "cb392383-0fcc-4725-948c-409964db07a3",
   "metadata": {},
   "source": [
    "(c) $ y' -4y = t^2e^{4t}$"
   ]
  },
  {
   "cell_type": "code",
   "execution_count": 18,
   "id": "4ee91362-c350-48f2-8273-1b76cab7f86d",
   "metadata": {},
   "outputs": [
    {
     "name": "stdout",
     "output_type": "stream",
     "text": [
      "ODE class:  1st_linear\n"
     ]
    },
    {
     "data": {
      "text/latex": [
       "$\\displaystyle \\left(C_{1} + \\frac{t^{3}}{3}\\right) e^{4 t}$"
      ],
      "text/plain": [
       "(C1 + t**3/3)*exp(4*t)"
      ]
     },
     "execution_count": 18,
     "metadata": {},
     "output_type": "execute_result"
    }
   ],
   "source": [
    "eq = Eq((y.diff(t) - 4 * y), t ** 2 * exp(4*t))\n",
    "print('ODE class: ', classify_ode(eq)[0])\n",
    "c1 = dsolve(eq, y)\n",
    "b = c1.rhs\n",
    "b"
   ]
  },
  {
   "cell_type": "code",
   "execution_count": 5,
   "id": "659c0415-28da-48c3-9278-04f130c70a3a",
   "metadata": {},
   "outputs": [
    {
     "data": {
      "text/latex": [
       "$\\displaystyle t^{2} e^{4 t}$"
      ],
      "text/plain": [
       "t**2*exp(4*t)"
      ]
     },
     "execution_count": 5,
     "metadata": {},
     "output_type": "execute_result"
    }
   ],
   "source": [
    "# to check\n",
    "simplify(b.diff(t) - 4 * b)"
   ]
  },
  {
   "cell_type": "code",
   "execution_count": 6,
   "id": "86851efa-0681-4e61-b722-10a7e455b787",
   "metadata": {},
   "outputs": [
    {
     "name": "stdout",
     "output_type": "stream",
     "text": [
      "ODE class:  separable\n",
      "C1*exp(4*t)\n"
     ]
    },
    {
     "data": {
      "text/latex": [
       "$\\displaystyle e^{4 t}$"
      ],
      "text/plain": [
       "exp(4*t)"
      ]
     },
     "execution_count": 6,
     "metadata": {},
     "output_type": "execute_result"
    }
   ],
   "source": [
    "# first solve 𝑦′−4𝑦 = 0\n",
    "eq = Eq((y.diff(t) - 4 * y), 0)\n",
    "print('ODE class: ', classify_ode(eq)[0])\n",
    "a = dsolve(eq, y)\n",
    "print(a.rhs)\n",
    "a.rhs.subs(C1, 1)"
   ]
  },
  {
   "cell_type": "code",
   "execution_count": 7,
   "id": "1416dea2-2b43-488d-8586-e84819574fc9",
   "metadata": {},
   "outputs": [
    {
     "data": {
      "text/latex": [
       "$\\displaystyle y{\\left(t \\right)} = C_{1} + \\frac{t^{3}}{3}$"
      ],
      "text/plain": [
       "Eq(y(t), C1 + t**3/3)"
      ]
     },
     "execution_count": 7,
     "metadata": {},
     "output_type": "execute_result"
    }
   ],
   "source": [
    "# solve u'y_1 = f(x)\n",
    "eq = Eq(y.diff(t)*exp(4*t), t ** 2 * exp(4*t))\n",
    "b = dsolve(eq, y)\n",
    "b"
   ]
  },
  {
   "cell_type": "code",
   "execution_count": 8,
   "id": "ff6c5ce7-be44-451f-9ed6-b56700aa3d24",
   "metadata": {},
   "outputs": [
    {
     "data": {
      "text/latex": [
       "$\\displaystyle \\left(C_{1} + \\frac{t^{3}}{3}\\right) e^{4 t}$"
      ],
      "text/plain": [
       "(C1 + t**3/3)*exp(4*t)"
      ]
     },
     "execution_count": 8,
     "metadata": {},
     "output_type": "execute_result"
    }
   ],
   "source": [
    "b.rhs * a.rhs.subs(C1, 1)"
   ]
  },
  {
   "cell_type": "code",
   "execution_count": 9,
   "id": "8d4f611e-27e2-4c9d-8e34-936cff3145c3",
   "metadata": {},
   "outputs": [
    {
     "data": {
      "text/latex": [
       "$\\displaystyle t^{2} e^{4 t}$"
      ],
      "text/plain": [
       "t**2*exp(4*t)"
      ]
     },
     "execution_count": 9,
     "metadata": {},
     "output_type": "execute_result"
    }
   ],
   "source": [
    "# to double check\n",
    "c = exp(4*t) * b.rhs\n",
    "c.diff(t) - 4 * c"
   ]
  },
  {
   "cell_type": "raw",
   "id": "4bda1228-f649-4774-a91f-2ecdc9553251",
   "metadata": {},
   "source": []
  },
  {
   "cell_type": "markdown",
   "id": "6129440c-0c86-4d49-85ec-651d82585fd4",
   "metadata": {},
   "source": [
    "## Calculate the solution to the following initial value\n",
    "(d) $ y' + 4y = e^{-2t}, \\quad y(0) = 1 $"
   ]
  },
  {
   "cell_type": "code",
   "execution_count": 16,
   "id": "ca0307cd-a0d8-4803-98c3-2c458d72a064",
   "metadata": {},
   "outputs": [
    {
     "name": "stdout",
     "output_type": "stream",
     "text": [
      "(C1 - exp(2*t)/2)*exp(-4*t)\n",
      "[3/2]\n"
     ]
    }
   ],
   "source": [
    "print(a1.rhs)\n",
    "E1 = a1.rhs.subs(t, 0) - 1\n",
    "solution = solve(E1, C1)\n",
    "print(solution)"
   ]
  },
  {
   "cell_type": "raw",
   "id": "155db16e-ba79-4dfb-b081-bea609a526e8",
   "metadata": {},
   "source": []
  },
  {
   "cell_type": "markdown",
   "id": "ef97fedc-263a-4403-8928-8d0e22ca6126",
   "metadata": {},
   "source": [
    "(e) $ty' + y = e^{2t}, \\quad y(1) = \\frac{1}{2}e^2$ "
   ]
  },
  {
   "cell_type": "code",
   "execution_count": 23,
   "id": "b52e4b78-362c-431d-97be-bf9bf59d184d",
   "metadata": {},
   "outputs": [
    {
     "name": "stdout",
     "output_type": "stream",
     "text": [
      "(C1 + exp(2*t)/2)/t\n"
     ]
    },
    {
     "data": {
      "text/plain": [
       "[0]"
      ]
     },
     "execution_count": 23,
     "metadata": {},
     "output_type": "execute_result"
    }
   ],
   "source": [
    "print(b1.rhs)\n",
    "Ed = b1.rhs.subs(t,1) - 0.5 * exp(2)\n",
    "c = solve(Ed, C1)\n",
    "c"
   ]
  },
  {
   "cell_type": "markdown",
   "id": "b642e2cb-3852-4317-867c-31d699cca91d",
   "metadata": {},
   "source": [
    "# euler methode to calculate $\\frac{dy}{dt} = t + y \\quad y(0) = 1$\n",
    "$\\delta y = (t + y) \\delta t \\\\\n",
    "y_n - y_{n-1} = (t + y_{n-1}) * h\\\\\n",
    "y_n = (t + y_{n-1}) * h + y_{n-1}\n",
    "$\n"
   ]
  },
  {
   "cell_type": "code",
   "execution_count": 35,
   "id": "41433d98-3101-49ac-86d1-7611ff3c8f57",
   "metadata": {},
   "outputs": [
    {
     "name": "stdout",
     "output_type": "stream",
     "text": [
      "1.7974342978592333 0.5000000000003593\n"
     ]
    }
   ],
   "source": [
    "# take h = 0.01\n",
    "t = 0\n",
    "y = 1\n",
    "h = 0.00001\n",
    "while t <= 0.5:\n",
    "    y = (t + y) * h + y\n",
    "    t = t + h\n",
    "\n",
    "print (y, t)"
   ]
  },
  {
   "cell_type": "markdown",
   "id": "a55d50b6-c48b-423e-b2bd-4301e80ec6d5",
   "metadata": {},
   "source": [
    "\n",
    "$$\n",
    "\\frac {dy}{dx} = \\frac{4x^3-4y+3}{4x-4y^3}\n",
    "$$"
   ]
  },
  {
   "cell_type": "code",
   "execution_count": 59,
   "id": "9613a706-e810-43ed-a9b7-3c76a93f3242",
   "metadata": {},
   "outputs": [
    {
     "name": "stdout",
     "output_type": "stream",
     "text": [
      "ODE class:  1st_exact\n"
     ]
    },
    {
     "ename": "ValueError",
     "evalue": "ODE -4*x**3 + (4*x - 4*y(x)**3)*Derivative(y(x), x) + 4*y(x) - 3 does not match hint separable_Integral",
     "output_type": "error",
     "traceback": [
      "\u001b[1;31m---------------------------------------------------------------------------\u001b[0m",
      "\u001b[1;31mValueError\u001b[0m                                Traceback (most recent call last)",
      "\u001b[1;32m<ipython-input-59-704362c2bc12>\u001b[0m in \u001b[0;36m<module>\u001b[1;34m\u001b[0m\n\u001b[0;32m      1\u001b[0m \u001b[0meq\u001b[0m \u001b[1;33m=\u001b[0m \u001b[0mEq\u001b[0m\u001b[1;33m(\u001b[0m\u001b[1;33m(\u001b[0m\u001b[1;36m4\u001b[0m\u001b[1;33m*\u001b[0m\u001b[0mx\u001b[0m\u001b[1;33m-\u001b[0m\u001b[1;36m4\u001b[0m\u001b[1;33m*\u001b[0m\u001b[0my\u001b[0m\u001b[1;33m**\u001b[0m\u001b[1;36m3\u001b[0m\u001b[1;33m)\u001b[0m\u001b[1;33m*\u001b[0m\u001b[0my\u001b[0m\u001b[1;33m.\u001b[0m\u001b[0mdiff\u001b[0m\u001b[1;33m(\u001b[0m\u001b[0mx\u001b[0m\u001b[1;33m)\u001b[0m\u001b[1;33m,\u001b[0m \u001b[1;36m4\u001b[0m\u001b[1;33m*\u001b[0m\u001b[0mx\u001b[0m\u001b[1;33m**\u001b[0m\u001b[1;36m3\u001b[0m \u001b[1;33m-\u001b[0m \u001b[1;36m4\u001b[0m\u001b[1;33m*\u001b[0m\u001b[0my\u001b[0m \u001b[1;33m+\u001b[0m \u001b[1;36m3\u001b[0m\u001b[1;33m)\u001b[0m\u001b[1;33m\u001b[0m\u001b[1;33m\u001b[0m\u001b[0m\n\u001b[0;32m      2\u001b[0m \u001b[0mprint\u001b[0m\u001b[1;33m(\u001b[0m\u001b[1;34m'ODE class: '\u001b[0m\u001b[1;33m,\u001b[0m \u001b[0mclassify_ode\u001b[0m\u001b[1;33m(\u001b[0m\u001b[0meq\u001b[0m\u001b[1;33m)\u001b[0m\u001b[1;33m[\u001b[0m\u001b[1;36m0\u001b[0m\u001b[1;33m]\u001b[0m\u001b[1;33m)\u001b[0m\u001b[1;33m\u001b[0m\u001b[1;33m\u001b[0m\u001b[0m\n\u001b[1;32m----> 3\u001b[1;33m \u001b[0mw4\u001b[0m \u001b[1;33m=\u001b[0m \u001b[0mdsolve\u001b[0m\u001b[1;33m(\u001b[0m\u001b[0meq\u001b[0m\u001b[1;33m,\u001b[0m \u001b[0mhint\u001b[0m\u001b[1;33m=\u001b[0m\u001b[1;34m'separable_Integral'\u001b[0m\u001b[1;33m)\u001b[0m\u001b[1;33m\u001b[0m\u001b[1;33m\u001b[0m\u001b[0m\n\u001b[0m\u001b[0;32m      4\u001b[0m \u001b[0mw4\u001b[0m\u001b[1;33m\u001b[0m\u001b[1;33m\u001b[0m\u001b[0m\n",
      "\u001b[1;32mD:\\ProgramData\\Anaconda3\\lib\\site-packages\\sympy\\solvers\\ode\\ode.py\u001b[0m in \u001b[0;36mdsolve\u001b[1;34m(eq, func, hint, simplify, ics, xi, eta, x0, n, **kwargs)\u001b[0m\n\u001b[0;32m    627\u001b[0m \u001b[1;33m\u001b[0m\u001b[0m\n\u001b[0;32m    628\u001b[0m         \u001b[1;31m# See the docstring of _desolve for more details.\u001b[0m\u001b[1;33m\u001b[0m\u001b[1;33m\u001b[0m\u001b[1;33m\u001b[0m\u001b[0m\n\u001b[1;32m--> 629\u001b[1;33m         hints = _desolve(eq, func=func,\n\u001b[0m\u001b[0;32m    630\u001b[0m             \u001b[0mhint\u001b[0m\u001b[1;33m=\u001b[0m\u001b[0mhint\u001b[0m\u001b[1;33m,\u001b[0m \u001b[0msimplify\u001b[0m\u001b[1;33m=\u001b[0m\u001b[1;32mTrue\u001b[0m\u001b[1;33m,\u001b[0m \u001b[0mxi\u001b[0m\u001b[1;33m=\u001b[0m\u001b[0mxi\u001b[0m\u001b[1;33m,\u001b[0m \u001b[0meta\u001b[0m\u001b[1;33m=\u001b[0m\u001b[0meta\u001b[0m\u001b[1;33m,\u001b[0m \u001b[0mtype\u001b[0m\u001b[1;33m=\u001b[0m\u001b[1;34m'ode'\u001b[0m\u001b[1;33m,\u001b[0m \u001b[0mics\u001b[0m\u001b[1;33m=\u001b[0m\u001b[0mics\u001b[0m\u001b[1;33m,\u001b[0m\u001b[1;33m\u001b[0m\u001b[1;33m\u001b[0m\u001b[0m\n\u001b[0;32m    631\u001b[0m             x0=x0, n=n, **kwargs)\n",
      "\u001b[1;32mD:\\ProgramData\\Anaconda3\\lib\\site-packages\\sympy\\solvers\\deutils.py\u001b[0m in \u001b[0;36m_desolve\u001b[1;34m(eq, func, hint, ics, simplify, prep, **kwargs)\u001b[0m\n\u001b[0;32m    266\u001b[0m         \u001b[1;32mraise\u001b[0m \u001b[0mValueError\u001b[0m\u001b[1;33m(\u001b[0m\u001b[1;34m\"Hint not recognized: \"\u001b[0m \u001b[1;33m+\u001b[0m \u001b[0mhint\u001b[0m\u001b[1;33m)\u001b[0m\u001b[1;33m\u001b[0m\u001b[1;33m\u001b[0m\u001b[0m\n\u001b[0;32m    267\u001b[0m     \u001b[1;32melif\u001b[0m \u001b[0mhint\u001b[0m \u001b[1;32mnot\u001b[0m \u001b[1;32min\u001b[0m \u001b[0mhints\u001b[0m\u001b[1;33m:\u001b[0m\u001b[1;33m\u001b[0m\u001b[1;33m\u001b[0m\u001b[0m\n\u001b[1;32m--> 268\u001b[1;33m         \u001b[1;32mraise\u001b[0m \u001b[0mValueError\u001b[0m\u001b[1;33m(\u001b[0m\u001b[0mstring\u001b[0m \u001b[1;33m+\u001b[0m \u001b[0mstr\u001b[0m\u001b[1;33m(\u001b[0m\u001b[0meq\u001b[0m\u001b[1;33m)\u001b[0m \u001b[1;33m+\u001b[0m \u001b[1;34m\" does not match hint \"\u001b[0m \u001b[1;33m+\u001b[0m \u001b[0mhint\u001b[0m\u001b[1;33m)\u001b[0m\u001b[1;33m\u001b[0m\u001b[1;33m\u001b[0m\u001b[0m\n\u001b[0m\u001b[0;32m    269\u001b[0m     \u001b[1;32melse\u001b[0m\u001b[1;33m:\u001b[0m\u001b[1;33m\u001b[0m\u001b[1;33m\u001b[0m\u001b[0m\n\u001b[0;32m    270\u001b[0m         \u001b[1;31m# Key added to identify the hint needed to solve the equation\u001b[0m\u001b[1;33m\u001b[0m\u001b[1;33m\u001b[0m\u001b[1;33m\u001b[0m\u001b[0m\n",
      "\u001b[1;31mValueError\u001b[0m: ODE -4*x**3 + (4*x - 4*y(x)**3)*Derivative(y(x), x) + 4*y(x) - 3 does not match hint separable_Integral"
     ]
    }
   ],
   "source": [
    "eq = Eq((4*x-4*y**3)*y.diff(x), 4*x**3 - 4*y + 3)\n",
    "print('ODE class: ', classify_ode(eq)[0])\n",
    "w4 = dsolve(eq, hint='separable_Integral')\n",
    "w4"
   ]
  },
  {
   "cell_type": "markdown",
   "id": "5a87a61e-200a-4124-aab2-8460e826507b",
   "metadata": {},
   "source": [
    "# Hand in\n",
    "### 1. find an implicit expression for the solution of the ODE\n",
    "$$\n",
    "x \\frac{dy}{dx} = y + \\sqrt{x^2 + y^2}\n",
    "$$\n"
   ]
  },
  {
   "cell_type": "code",
   "execution_count": 8,
   "id": "11ecaa2e-ffa5-452d-8189-e458c8649374",
   "metadata": {},
   "outputs": [
    {
     "name": "stdout",
     "output_type": "stream",
     "text": [
      "ODE class:  separable\n",
      "Eq(u(x), sinh(C1 + log(x)))\n"
     ]
    },
    {
     "data": {
      "text/latex": [
       "$\\displaystyle u{\\left(x \\right)} = \\sinh{\\left(C_{1} + \\log{\\left(x \\right)} \\right)}$"
      ],
      "text/plain": [
       "Eq(u(x), sinh(C1 + log(x)))"
      ]
     },
     "execution_count": 8,
     "metadata": {},
     "output_type": "execute_result"
    }
   ],
   "source": [
    "# it is a homogenouse problem since devided by x it is only depends on y/x and let u = y/x it is separated virables problem\n",
    "from sympy import *\n",
    "from sympy.solvers.ode import dsolve\n",
    "t, x, y, u, C1 = symbols ('t, x, y, u, C1')\n",
    "\n",
    "# (u = y/x  dy = du x + u dx)\n",
    "u = Function('u')(x)\n",
    "eq = Eq(x * u.diff(x) ,  sqrt(1+u**2))\n",
    "print('ODE class: ', classify_ode(eq)[0])\n",
    "\n",
    "b = dsolve(eq, u, 'separable')\n",
    "print(b)\n",
    "b"
   ]
  },
  {
   "cell_type": "code",
   "execution_count": 3,
   "id": "1ad6aeec-9e3d-4b5d-8623-7946792f2645",
   "metadata": {},
   "outputs": [
    {
     "name": "stdout",
     "output_type": "stream",
     "text": [
      "ODE class:  1st_homogeneous_coeff_best\n",
      "Eq(y(x), -x*sinh(C1 - log(x)))\n"
     ]
    },
    {
     "data": {
      "text/latex": [
       "$\\displaystyle y{\\left(x \\right)} = - x \\sinh{\\left(C_{1} - \\log{\\left(x \\right)} \\right)}$"
      ],
      "text/plain": [
       "Eq(y(x), -x*sinh(C1 - log(x)))"
      ]
     },
     "execution_count": 3,
     "metadata": {},
     "output_type": "execute_result"
    }
   ],
   "source": [
    "# solve directly\n",
    "y = Function('y')(x)\n",
    "\n",
    "eq = Eq(x*y.diff(x), y + sqrt(x**2+y**2))\n",
    "print('ODE class: ', classify_ode(eq)[0])\n",
    "\n",
    "b = dsolve(eq, y)\n",
    "print(b)\n",
    "b"
   ]
  },
  {
   "cell_type": "markdown",
   "id": "83c6ce02-f16f-4323-9b9a-077f3e729920",
   "metadata": {},
   "source": [
    "### 2. Consider the ODE\n",
    "$$\n",
    "6 x y + 5 (x^2 + y)\\frac{dy}{dx}=0\n",
    "$$"
   ]
  },
  {
   "cell_type": "code",
   "execution_count": 17,
   "id": "ef67c01c-4f82-4610-bdac-125b4b223b11",
   "metadata": {},
   "outputs": [
    {
     "name": "stdout",
     "output_type": "stream",
     "text": [
      "ODE class:  1st_exact\n",
      "Eq((3*x**2 + 15*y(x)/8)*y(x)**(5/3), C1)\n"
     ]
    },
    {
     "data": {
      "text/latex": [
       "$\\displaystyle \\left(3 x^{2} + \\frac{15 y{\\left(x \\right)}}{8}\\right) y^{\\frac{5}{3}}{\\left(x \\right)} = C_{1}$"
      ],
      "text/plain": [
       "Eq((3*x**2 + 15*y(x)/8)*y(x)**(5/3), C1)"
      ]
     },
     "execution_count": 17,
     "metadata": {},
     "output_type": "execute_result"
    }
   ],
   "source": [
    "eq = Eq((6*x*y+5*(x**2+y)*y.diff(x)),0)\n",
    "print('ODE class: ', classify_ode(eq)[0])\n",
    "b = dsolve(eq, y)\n",
    "print(b)\n",
    "b"
   ]
  },
  {
   "cell_type": "code",
   "execution_count": 19,
   "id": "2b8be71a-819a-41f6-88b9-40a35237e2fe",
   "metadata": {},
   "outputs": [
    {
     "name": "stdout",
     "output_type": "stream",
     "text": [
      "ODE class:  nth_linear_constant_coeff_homogeneous\n",
      "Eq(y(x), (C1 + C2*x)*exp(-x/100))\n"
     ]
    },
    {
     "data": {
      "text/latex": [
       "$\\displaystyle y{\\left(x \\right)} = \\left(C_{1} + C_{2} x\\right) e^{- \\frac{x}{100}}$"
      ],
      "text/plain": [
       "Eq(y(x), (C1 + C2*x)*exp(-x/100))"
      ]
     },
     "execution_count": 19,
     "metadata": {},
     "output_type": "execute_result"
    }
   ],
   "source": [
    "c = Rational(1,100)\n",
    "a = Rational(1,50)\n",
    "eq = Eq((y.diff(x).diff(x) + a * y.diff(x) + c**2 * y),0)\n",
    "print('ODE class: ', classify_ode(eq)[0])\n",
    "b = dsolve(eq, y)\n",
    "print(b)\n",
    "b\n"
   ]
  },
  {
   "cell_type": "code",
   "execution_count": 23,
   "id": "7bba67f2-c8b1-4893-b182-b9549e70b3ab",
   "metadata": {},
   "outputs": [
    {
     "name": "stdout",
     "output_type": "stream",
     "text": [
      "ODE class:  nth_linear_constant_coeff_homogeneous\n",
      "Eq(y(x), (C1*sin(sqrt(199)*x/9900) + C2*cos(sqrt(199)*x/9900))*exp(-x/100))\n"
     ]
    },
    {
     "data": {
      "text/latex": [
       "$\\displaystyle y{\\left(x \\right)} = \\left(C_{1} \\sin{\\left(\\frac{\\sqrt{199} x}{9900} \\right)} + C_{2} \\cos{\\left(\\frac{\\sqrt{199} x}{9900} \\right)}\\right) e^{- \\frac{x}{100}}$"
      ],
      "text/plain": [
       "Eq(y(x), (C1*sin(sqrt(199)*x/9900) + C2*cos(sqrt(199)*x/9900))*exp(-x/100))"
      ]
     },
     "execution_count": 23,
     "metadata": {},
     "output_type": "execute_result"
    }
   ],
   "source": [
    "c = Rational(1,99) \n",
    "a = Rational(1,50)\n",
    "eq = Eq((y.diff(x).diff(x) + a * y.diff(x) + c**2 * y),0)\n",
    "print('ODE class: ', classify_ode(eq)[0])\n",
    "b = dsolve(eq, y)\n",
    "print(b)\n",
    "b\n"
   ]
  },
  {
   "cell_type": "markdown",
   "id": "263430fe-8a4f-4a79-b625-7a60ce1a6246",
   "metadata": {},
   "source": [
    "# Quiz\n",
    "### 1) find general solution using integrating factor\n",
    "$$\n",
    "y' + 3y = 2e^{3 x}\n",
    "$$"
   ]
  },
  {
   "cell_type": "code",
   "execution_count": 44,
   "id": "8478036c-75e2-42f7-a75b-ecc52e887bfd",
   "metadata": {},
   "outputs": [
    {
     "name": "stdout",
     "output_type": "stream",
     "text": [
      "ODE class:  1st_linear\n"
     ]
    },
    {
     "data": {
      "text/latex": [
       "$\\displaystyle y{\\left(x \\right)} = \\left(C_{1} + \\frac{e^{6 x}}{3}\\right) e^{- 3 x}$"
      ],
      "text/plain": [
       "Eq(y(x), (C1 + exp(6*x)/3)*exp(-3*x))"
      ]
     },
     "execution_count": 44,
     "metadata": {},
     "output_type": "execute_result"
    }
   ],
   "source": [
    "from sympy import *\n",
    "from sympy.abc import x\n",
    "y = Function('y')(x)\n",
    "eq = Eq((y.diff(x) + 3 * y),  2 * exp(3 * x))\n",
    "print('ODE class: ', classify_ode(eq)[0])\n",
    "a1 = dsolve(eq, y)\n",
    "a1"
   ]
  },
  {
   "cell_type": "code",
   "execution_count": 26,
   "id": "27568d39-5380-4ddb-96be-acbd30181d8d",
   "metadata": {},
   "outputs": [
    {
     "data": {
      "text/latex": [
       "$\\displaystyle y{\\left(x \\right)} = C_{1} e^{- 3 x}$"
      ],
      "text/plain": [
       "Eq(y(x), C1*exp(-3*x))"
      ]
     },
     "execution_count": 26,
     "metadata": {},
     "output_type": "execute_result"
    }
   ],
   "source": [
    "# i dont like integrating factor, like more linear, first solve y' + 3y = 0 (denote as y_0 later)\n",
    "eq = Eq((y.diff(x) + 3 * y),  0)\n",
    "q1 = dsolve(eq, y)\n",
    "q1"
   ]
  },
  {
   "cell_type": "markdown",
   "id": "16a97405-8d16-4fb5-8a3a-7e67a73a3b0e",
   "metadata": {},
   "source": [
    "now let $y = u  y_0$ and notice that $y_0' + 3 * y_0 = 0$\n",
    "and $y' = u'  y_0 + y_0'  u  $\n",
    "$$\n",
    "u' * y_0 + y_0'  u + 3  ( u * y_0)  = u'  y_0 + u  (y_0' + 3  y_0) = u'  y_0\n",
    "$$\n",
    "we need just solve \n",
    "$$\n",
    " u'  y_0 = 2e^{3 x} \\\\\n",
    " u' e^{-3x} = 2 e^{3 x}\n",
    "$$"
   ]
  },
  {
   "cell_type": "code",
   "execution_count": 28,
   "id": "f0215889-eda2-4e4a-a306-da41bce96acf",
   "metadata": {},
   "outputs": [
    {
     "data": {
      "text/latex": [
       "$\\displaystyle y{\\left(x \\right)} = C_{1} + \\frac{e^{6 x}}{3}$"
      ],
      "text/plain": [
       "Eq(y(x), C1 + exp(6*x)/3)"
      ]
     },
     "execution_count": 28,
     "metadata": {},
     "output_type": "execute_result"
    }
   ],
   "source": [
    "eq = Eq(y.diff(x)*exp(-3*x), 2 * exp(3*x))\n",
    "u = dsolve(eq)\n",
    "u"
   ]
  },
  {
   "cell_type": "markdown",
   "id": "af69dddc-1cb2-4d76-a77e-4e476f9cfd1b",
   "metadata": {},
   "source": [
    "now finally $y = u  y_0$,\n",
    "$$\n",
    "y(x) = C_1 e ^{-3x} + \\frac{e^{3x}}{3}\n",
    "$$\n",
    "### 2) solve $ y'+4y=20, \\quad y(0)=1 $"
   ]
  },
  {
   "cell_type": "code",
   "execution_count": 31,
   "id": "87a78c4f-6b80-465e-a819-3b5fab6f4590",
   "metadata": {},
   "outputs": [
    {
     "name": "stdout",
     "output_type": "stream",
     "text": [
      "ODE class:  separable\n"
     ]
    },
    {
     "data": {
      "text/latex": [
       "$\\displaystyle y{\\left(x \\right)} = C_{1} e^{- 4 x} + 5$"
      ],
      "text/plain": [
       "Eq(y(x), C1*exp(-4*x) + 5)"
      ]
     },
     "execution_count": 31,
     "metadata": {},
     "output_type": "execute_result"
    }
   ],
   "source": [
    "eq = Eq(y.diff(x) + 4 *y, 20)\n",
    "q2 = dsolve(eq)\n",
    "print('ODE class: ', classify_ode(eq)[0])\n",
    "\n",
    "q2\n"
   ]
  },
  {
   "cell_type": "markdown",
   "id": "44529d43-2b31-43e0-831b-7270e26b7614",
   "metadata": {},
   "source": [
    "\n",
    "subtuting $x = 0 $,\n",
    "$$\n",
    "1 = C_1 * 1 + 5; \\quad C_1 = -4 \\\\\n",
    "y(x) = -4 e ^{-4x} +5\n",
    "$$\n"
   ]
  },
  {
   "cell_type": "markdown",
   "id": "8e127615-0b06-4c30-b0ac-0ee69c1c293f",
   "metadata": {},
   "source": [
    "### 3 Consider the linear homogeneous differential equation y′′+y′−6y=0. Find the roots of the corresponding characteristic equation."
   ]
  },
  {
   "cell_type": "code",
   "execution_count": 42,
   "id": "6fb9e2c5-122c-4901-b50e-731c23cbc5d8",
   "metadata": {},
   "outputs": [
    {
     "data": {
      "text/plain": [
       "[-3, 2]"
      ]
     },
     "execution_count": 42,
     "metadata": {},
     "output_type": "execute_result"
    }
   ],
   "source": [
    "eq = x**2+x-6\n",
    "solve(eq)"
   ]
  },
  {
   "cell_type": "code",
   "execution_count": 40,
   "id": "476a96d4-3669-4ab9-aa0e-53b5db3c5cb7",
   "metadata": {},
   "outputs": [
    {
     "name": "stdout",
     "output_type": "stream",
     "text": [
      "ODE class:  nth_linear_constant_coeff_homogeneous\n"
     ]
    },
    {
     "data": {
      "text/latex": [
       "$\\displaystyle y{\\left(x \\right)} = C_{1} e^{- 3 x} + C_{2} e^{2 x}$"
      ],
      "text/plain": [
       "Eq(y(x), C1*exp(-3*x) + C2*exp(2*x))"
      ]
     },
     "execution_count": 40,
     "metadata": {},
     "output_type": "execute_result"
    }
   ],
   "source": [
    "eq = Eq(y.diff(x).diff(x) +y.diff(x)-6*y, 0)\n",
    "print('ODE class: ', classify_ode(eq)[0])\n",
    "q3 = dsolve(eq)\n",
    "q3\n"
   ]
  },
  {
   "cell_type": "markdown",
   "id": "87488d3a-a2cb-406f-96d8-9afecb044357",
   "metadata": {},
   "source": [
    "### 4\n",
    "(a)y′′(t)−7y′(t)+10y(t)=0,\n",
    "(b)y′′(t)+12y′(t)+36y(t)=0,\n",
    "(c)y′′(t)+4y′(t)+8y(t)=0"
   ]
  },
  {
   "cell_type": "code",
   "execution_count": 46,
   "id": "e1f35344-0fad-4f5d-9a80-f3731e99f18a",
   "metadata": {},
   "outputs": [
    {
     "data": {
      "text/latex": [
       "$\\displaystyle y{\\left(x \\right)} = \\left(C_{1} + C_{2} e^{3 x}\\right) e^{2 x}$"
      ],
      "text/plain": [
       "Eq(y(x), (C1 + C2*exp(3*x))*exp(2*x))"
      ]
     },
     "execution_count": 46,
     "metadata": {},
     "output_type": "execute_result"
    }
   ],
   "source": [
    "eq = Eq(y.diff(x).diff(x)-7*y.diff(x)+10*y, 0)\n",
    "dsolve(eq)"
   ]
  },
  {
   "cell_type": "code",
   "execution_count": 47,
   "id": "151befb3-cc69-4038-8adc-14540fc26e7c",
   "metadata": {},
   "outputs": [
    {
     "data": {
      "text/latex": [
       "$\\displaystyle y{\\left(x \\right)} = \\left(C_{1} + C_{2} x\\right) e^{- 6 x}$"
      ],
      "text/plain": [
       "Eq(y(x), (C1 + C2*x)*exp(-6*x))"
      ]
     },
     "execution_count": 47,
     "metadata": {},
     "output_type": "execute_result"
    }
   ],
   "source": [
    "eq = Eq(y.diff(x).diff(x)+12*y.diff(x)+36*y, 0)\n",
    "dsolve(eq)"
   ]
  },
  {
   "cell_type": "code",
   "execution_count": 48,
   "id": "2766ca84-e325-4cc9-956d-f1f56db37dc9",
   "metadata": {},
   "outputs": [
    {
     "data": {
      "text/latex": [
       "$\\displaystyle y{\\left(x \\right)} = \\left(C_{1} \\sin{\\left(2 x \\right)} + C_{2} \\cos{\\left(2 x \\right)}\\right) e^{- 2 x}$"
      ],
      "text/plain": [
       "Eq(y(x), (C1*sin(2*x) + C2*cos(2*x))*exp(-2*x))"
      ]
     },
     "execution_count": 48,
     "metadata": {},
     "output_type": "execute_result"
    }
   ],
   "source": [
    "eq = Eq(y.diff(x).diff(x)+4*y.diff(x)+8*y, 0)\n",
    "dsolve(eq)"
   ]
  },
  {
   "cell_type": "markdown",
   "id": "fcfa4029-24c1-4fd2-af0b-e233b51a0230",
   "metadata": {},
   "source": [
    "### 5) Find the general solution to the differential equation y′′−5y′+6y=5x+6, by determining the general solution to the homogeneous equation and a particular solution to the non-homogeneous equation."
   ]
  },
  {
   "cell_type": "code",
   "execution_count": 50,
   "id": "203f78b8-134f-496e-9459-feb69b283fc1",
   "metadata": {},
   "outputs": [
    {
     "data": {
      "text/latex": [
       "$\\displaystyle y{\\left(x \\right)} = C_{1} e^{2 x} + C_{2} e^{3 x} + \\frac{5 x}{6} + \\frac{61}{36}$"
      ],
      "text/plain": [
       "Eq(y(x), C1*exp(2*x) + C2*exp(3*x) + 5*x/6 + 61/36)"
      ]
     },
     "execution_count": 50,
     "metadata": {},
     "output_type": "execute_result"
    }
   ],
   "source": [
    "eq = Eq(y.diff(x).diff(x)-5*y.diff(x)+6*y, 5*x+6)\n",
    "dsolve(eq)"
   ]
  },
  {
   "cell_type": "markdown",
   "id": "deac185b-1f3a-42fa-80ea-386c9efa3498",
   "metadata": {},
   "source": [
    "### 6 Consider the following initial value problem:\n",
    "y′′(x)+2y′(x)+4y(x)=0,\n",
    "y(0)=1, y′(0)=2. How does the solution y(x) of this differential equation behave, when x→∞?\n"
   ]
  },
  {
   "cell_type": "code",
   "execution_count": 53,
   "id": "7b0dbe92-3677-4118-90e1-7a3034a82d8d",
   "metadata": {},
   "outputs": [
    {
     "data": {
      "text/latex": [
       "$\\displaystyle y{\\left(x \\right)} = \\left(C_{1} \\sin{\\left(\\sqrt{3} x \\right)} + C_{2} \\cos{\\left(\\sqrt{3} x \\right)}\\right) e^{- x}$"
      ],
      "text/plain": [
       "Eq(y(x), (C1*sin(sqrt(3)*x) + C2*cos(sqrt(3)*x))*exp(-x))"
      ]
     },
     "execution_count": 53,
     "metadata": {},
     "output_type": "execute_result"
    }
   ],
   "source": [
    "eq = Eq(y.diff(x).diff(x)+2*y.diff(x)+4*y, 0)\n",
    "q6 = dsolve(eq)\n",
    "q6"
   ]
  },
  {
   "cell_type": "code",
   "execution_count": 57,
   "id": "c7634462-a9a3-4042-b199-d095c5db2764",
   "metadata": {},
   "outputs": [
    {
     "name": "stdout",
     "output_type": "stream",
     "text": [
      "(C1*sin(sqrt(3)*x) + C2*cos(sqrt(3)*x))*exp(-x)\n"
     ]
    },
    {
     "data": {
      "text/latex": [
       "$\\displaystyle \\sqrt{3} C_{1} - C_{2}$"
      ],
      "text/plain": [
       "sqrt(3)*C1 - C2"
      ]
     },
     "execution_count": 57,
     "metadata": {},
     "output_type": "execute_result"
    }
   ],
   "source": [
    "C2 = 1\n",
    "print(q6.rhs)\n",
    "q6.rhs.diff(x).subs(x,0)"
   ]
  },
  {
   "cell_type": "markdown",
   "id": "0efe3886-8162-4e4b-b62e-6a56f27f690e",
   "metadata": {},
   "source": [
    "$C_1 = \\sqrt{3}, C_2 = 1$\n"
   ]
  }
 ],
 "metadata": {
  "kernelspec": {
   "display_name": "Python 3",
   "language": "python",
   "name": "python3"
  },
  "language_info": {
   "codemirror_mode": {
    "name": "ipython",
    "version": 3
   },
   "file_extension": ".py",
   "mimetype": "text/x-python",
   "name": "python",
   "nbconvert_exporter": "python",
   "pygments_lexer": "ipython3",
   "version": "3.8.8"
  }
 },
 "nbformat": 4,
 "nbformat_minor": 5
}
