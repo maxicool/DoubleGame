{
 "cells": [
  {
   "cell_type": "markdown",
   "id": "f2ed8ff1",
   "metadata": {},
   "source": [
    "# Facets of Mathematics - Week 8\n",
    "# Regression Modelling\n",
    "\n",
    "### Aims\n",
    "\n",
    "By the end of this notebook you \n",
    "\n",
    "* fitted some simple regression models to a data set\n",
    "* understand how plots work and how to label them nicely\n",
    "\n",
    "### Topics\n",
    "\n",
    "* Loading data from stored numpy arrays\n",
    "* Plotting functions and data points\n",
    "* Fitting simple linear models\n",
    "* Fitting quadratic and cubic models\n",
    "* Creating data\n",
    "* Randomness in python\n",
    "\n",
    "### References\n",
    "\n",
    "**Montgomery, Peck, and Vining:** D. C, Montgomery, E. A. Peck, and G. G. Vining, \"Introduction to Linear Regression Analysis\", 5th Edition, Wiley Series in Probability and Statistics, 2012\n",
    "\n",
    "* Simple Linear Regression: Chapter 2, Sections 2.1 and 2.2\n",
    "\n",
    "---\n",
    "\n",
    "## Example 1\n",
    "\n",
    "We firstly load the required packages with their 'standard' abbreviations. The `numpy` package is one of the most popular python packages for mathematical calculations, and is commonly loaded as `np`. The reason for loading it `as np` is merely a convenience as one can save a few letters whenever calling a numpy function, as illustrated in the next few lines. \n",
    "\n",
    "`import numpy\n",
    "x = numpy.ones(12)\n",
    "x[0:6]= numpy.arange(6)\n",
    "print(numpy.mean(x))\n",
    "print(numpy.var(x))`\n",
    "\n",
    "is rather lengthy, while the following lines are shorter:\n",
    "\n",
    "`import numpy as np\n",
    "x = np.ones(12)\n",
    "x[0:6]= np.arange(6)\n",
    "print(np.mean(x))\n",
    "print(np.var(x))`\n",
    "\n",
    "As we will use a lot of python plots throughout this workshop, we also use an abbreviated version to call the respective functions. `plt` is the standard one for the `matplotlib.pyplot` library. Recall that the '%' in front of matplotlib tells jupyter how to show figures, the '#' allows commenting. \n",
    "\n",
    "The setup file contains some lines of code dealing with the presentation of figures, we will look at this in more detail in later workshops."
   ]
  },
  {
   "cell_type": "code",
   "execution_count": 1,
   "id": "b962ffdd",
   "metadata": {},
   "outputs": [],
   "source": [
    "import numpy as np  # standard library for most maths functions\n",
    "import matplotlib.pyplot as plt   # standard library for plots\n",
    "\n",
    "%matplotlib inline \n",
    "\n",
    "%run setup.py"
   ]
  },
  {
   "cell_type": "markdown",
   "id": "895ca7e1",
   "metadata": {},
   "source": [
    "We now look at the first regression example, a very simple setup with one dependent variable $x$ and one independent variable $y$. The data consists of 20 data points $\\mathcal D=(x_i,y_i)_{i=1}^{20}$. The next cell initialises the variables, then loads a vector $y\\in\\mathbb R^{20}$ of responses and a vector $x\\in\\mathbb R^{20}$ of predictors. These vectors are stored in numpy arrays. \n",
    "\n",
    "It is worth noting that the predictor 'matrix' here is a vector - we will only work with data *matrices* in the next workshop."
   ]
  },
  {
   "cell_type": "code",
   "execution_count": 3,
   "id": "c0f262e1",
   "metadata": {},
   "outputs": [],
   "source": [
    "''' Set the fixed parameters for the number of data points and the dimension '''\n",
    "n = 20\n",
    "d = 1\n",
    "\n",
    "''' Initialise the predictor matrix and response vector '''\n",
    "x = np.zeros(n) # Initialise a n-dimensional vector\n",
    "y = np.zeros(n)  # Initialise a n-dimensional vector\n",
    "\n",
    "''' Load the data which is stored in numpy arrays '''\n",
    "x = np.load('rm1_ex1_x.npy') \n",
    "y = np.load('rm1_ex1_y.npy')"
   ]
  },
  {
   "cell_type": "markdown",
   "id": "d2e30fab",
   "metadata": {},
   "source": [
    "In the next cell, we plot the data as a scatter plot, where each circle corresponds to a data point. \n",
    "\n",
    "### Exercise\n",
    "Change the title, data label and axis labels to something more appropriate, and play around with different colours. What does the \"x\" in the first line do, what happens if you replace it with \"o\" or \".\"? What does the 'Center' in the second line achieve?\n",
    "\n",
    "\n",
    "### Question\n",
    "What could be a good class of regression functions for this problem?\n"
   ]
  },
  {
   "cell_type": "code",
   "execution_count": 4,
   "id": "3b915a83",
   "metadata": {},
   "outputs": [
    {
     "data": {
      "image/png": "[encoded data removed]",
      "text/plain": [
       "<Figure size 960x600 with 1 Axes>"
      ]
     },
     "metadata": {
      "needs_background": "light"
     },
     "output_type": "display_data"
    }
   ],
   "source": [
    "plt.plot(x,y,\"x\",color='Green',label='label')\n",
    "plt.title('Title',loc='Center')\n",
    "plt.xlabel('xlabel')\n",
    "plt.ylabel('ylabel')\n",
    "plt.legend()\n",
    "plt.show()"
   ]
  },
  {
   "cell_type": "markdown",
   "id": "2b678ef5",
   "metadata": {},
   "source": [
    "---\n",
    "\n",
    "### Side note: RMSE\n",
    "\n",
    "The root mean square error (RMSE) is a related quantity to the sum of squares \n",
    "$\\left(\\sum_{i=1}^n (y_i - \\hat{y}_i)^2\\right)$\n",
    "and is defined as,\n",
    "\n",
    "$$ \\text{RMSE} = \\sqrt{ \\frac{1}{n} \\sum_{i=1}^n(y_i - \\hat{y}_i)^2 }. $$\n",
    "\n",
    "The RMSE is often prefered, for reporting purposes, to the sum of squares since it has a more natural interpretation, a smaller scale, and has the same units as the dependent variable. Since the RMSE involves a monotonic transformation of the SS, minimizing the RMSE is equivalent to minimizing the SS and vice versa.\n",
    "\n",
    "---\n",
    "\n",
    "We now conduct our first regression analysis by loading a pre-defined function that allows interacting on the plot. The aim is to find values of $\\beta$ resulting in small errors between the data and fitted values. The Root Mean Squared Error (RMSE) is printed to allow a quantitative comparison of different values. The dotted lines in the figure show the errors between the data points $y_i$ and the fitted values $\\hat y_i$.\n",
    "\n",
    "### Exercise\n",
    "Firstly, try manually fitting a linear function $f_\\beta(x)=\\beta_0+\\beta_1 x$ by playing around with the regression parameters $\\beta=(\\beta_0,\\beta_1)$ over the sliding bars under the figure. Which values $\\hat\\beta$ seem to be fitting well? "
   ]
  },
  {
   "cell_type": "code",
   "execution_count": 5,
   "id": "67ad86b0",
   "metadata": {},
   "outputs": [
    {
     "data": {
      "application/vnd.jupyter.widget-view+json": {
       "model_id": "3ff48eeeab004514938ced4e9d8ce75a",
       "version_major": 2,
       "version_minor": 0
      },
      "text/plain": [
       "interactive(children=(FloatSlider(value=0.0, description='beta_hat_0', max=20.0, min=-20.0), FloatSlider(value…"
      ]
     },
     "metadata": {},
     "output_type": "display_data"
    },
    {
     "data": {
      "text/plain": [
       "<function __main__.reg_line2(beta_hat_0, beta_hat_1)>"
      ]
     },
     "execution_count": 5,
     "metadata": {},
     "output_type": "execute_result"
    }
   ],
   "source": [
    "''' Define a python function for the regression '''\n",
    "def reg_line2(beta_hat_0, beta_hat_1):\n",
    "    reg_line(x, y, beta_hat_0, beta_hat_1)\n",
    "\n",
    "''' Call the interact function which is defined in the setup.py file '''\n",
    "interact(reg_line2, beta_hat_0=(-20,20,0.1), beta_hat_1=(-10,10,0.1))"
   ]
  },
  {
   "cell_type": "markdown",
   "id": "b389fd87",
   "metadata": {},
   "source": [
    "### Exercise\n",
    "Copy the code from the data plot, and amend it to include the fitted values."
   ]
  },
  {
   "cell_type": "code",
   "execution_count": 6,
   "id": "c8ad3b19",
   "metadata": {},
   "outputs": [
    {
     "ename": "SyntaxError",
     "evalue": "invalid syntax (<ipython-input-6-4f02bc849a82>, line 6)",
     "output_type": "error",
     "traceback": [
      "\u001b[0;36m  File \u001b[0;32m\"<ipython-input-6-4f02bc849a82>\"\u001b[0;36m, line \u001b[0;32m6\u001b[0m\n\u001b[0;31m    beta_hat[0] = # INSERT CODE\u001b[0m\n\u001b[0m                               ^\u001b[0m\n\u001b[0;31mSyntaxError\u001b[0m\u001b[0;31m:\u001b[0m invalid syntax\n"
     ]
    }
   ],
   "source": [
    "''' Copy the amended code from earlier, but omit the 'plt.show()' '''\n",
    "# INSERT CODE\n",
    "\n",
    "''' Input your estimates of beta from the interactive figure '''\n",
    "beta_hat = np.zeros(2)  # initialise estimates\n",
    "beta_hat[0] = # INSERT CODE\n",
    "beta_hat[1] = # INSERT CODE\n",
    "\n",
    "''' Plot the fitted regression function'''\n",
    "x_vals = np.linspace(x.min()-1,x.max()+1,21)\n",
    "y_vals = beta_OLS[0]+beta_OLS[1]*x_vals\n",
    "plt.plot(x_vals,y_vals,\"-\",color='Blue',label='Regression function')\n",
    "\n",
    "''' Show the plot '''\n",
    "plt.legend()\n",
    "plt.show()\n",
    "\n",
    "print('Estimated value for beta = ',beta_hat)"
   ]
  },
  {
   "cell_type": "markdown",
   "id": "901c7f3e",
   "metadata": {},
   "source": [
    "---\n",
    "### Exercise\n",
    "We calcuate the fitted values $\\hat y$ for your estimates $\\hat\\beta$ using $\\hat y_i=\\hat\\beta_0+\\hat\\beta_1 x_i$. Using these fitted values, compute the sum of squares and the RMSE (you can check you got it right by comparing it to the RMSE computed in the plot). How do these values compare to your coursemates' ones? Would you expect the RMSE to be $0$?"
   ]
  },
  {
   "cell_type": "code",
   "execution_count": 11,
   "id": "aebddc02",
   "metadata": {},
   "outputs": [
    {
     "ename": "SyntaxError",
     "evalue": "invalid syntax (<ipython-input-11-ab845cfd964e>, line 14)",
     "output_type": "error",
     "traceback": [
      "\u001b[0;36m  File \u001b[0;32m\"<ipython-input-11-ab845cfd964e>\"\u001b[0;36m, line \u001b[0;32m14\u001b[0m\n\u001b[0;31m    sum_of_squares = # INSERT CODE to calculate sum of squares\u001b[0m\n\u001b[0m                                                              ^\u001b[0m\n\u001b[0;31mSyntaxError\u001b[0m\u001b[0;31m:\u001b[0m invalid syntax\n"
     ]
    }
   ],
   "source": [
    "\"\"\"\n",
    "Calculation of the fitted values\n",
    "\"\"\"\n",
    "\n",
    "''' Compute the fitted values '''\n",
    "y_hat = np.zeros(n)\n",
    "for i in range(n):\n",
    "    y_hat[i] = # Insert Code\n",
    "\n",
    "''' Calculate the sum of squares, and the root mean squared error '''\n",
    "sum_of_squares = # INSERT CODE to calculate sum of squares\n",
    "print('SS = ',sum_of_squares)    \n",
    "\n",
    "# INSERT CODE to calculate and print RMSE\n",
    "\n"
   ]
  },
  {
   "cell_type": "markdown",
   "id": "f65e04de",
   "metadata": {},
   "source": [
    "---\n",
    "### Exercise\n",
    "\n",
    "Calculate the optimal $\\hat\\beta_{OLS}$ explicitly using ordinary least squares. \n",
    "\n",
    "How does the optimal $\\hat\\beta_{OLS}$ compare to your estimates? Compute the residual sum of squares for both the fitted values obtained using your estimates $\\hat\\beta$ and the fitted values from the OLS estimate $\\hat\\beta_{OLS}$."
   ]
  },
  {
   "cell_type": "code",
   "execution_count": 8,
   "id": "8bfb41d9",
   "metadata": {},
   "outputs": [
    {
     "ename": "NameError",
     "evalue": "name 'beta_hat' is not defined",
     "output_type": "error",
     "traceback": [
      "\u001b[0;31m---------------------------------------------------------------------------\u001b[0m",
      "\u001b[0;31mNameError\u001b[0m                                 Traceback (most recent call last)",
      "\u001b[0;32m<ipython-input-8-b65e4c9d81e7>\u001b[0m in \u001b[0;36m<module>\u001b[0;34m\u001b[0m\n\u001b[1;32m      9\u001b[0m \u001b[0;31m# Plot the fitted regression function using your estimates\u001b[0m\u001b[0;34m\u001b[0m\u001b[0;34m\u001b[0m\u001b[0;34m\u001b[0m\u001b[0m\n\u001b[1;32m     10\u001b[0m \u001b[0mx_vals\u001b[0m \u001b[0;34m=\u001b[0m \u001b[0mnp\u001b[0m\u001b[0;34m.\u001b[0m\u001b[0mlinspace\u001b[0m\u001b[0;34m(\u001b[0m\u001b[0mx\u001b[0m\u001b[0;34m.\u001b[0m\u001b[0mmin\u001b[0m\u001b[0;34m(\u001b[0m\u001b[0;34m)\u001b[0m\u001b[0;34m-\u001b[0m\u001b[0;36m1\u001b[0m\u001b[0;34m,\u001b[0m\u001b[0mx\u001b[0m\u001b[0;34m.\u001b[0m\u001b[0mmax\u001b[0m\u001b[0;34m(\u001b[0m\u001b[0;34m)\u001b[0m\u001b[0;34m+\u001b[0m\u001b[0;36m1\u001b[0m\u001b[0;34m,\u001b[0m\u001b[0;36m21\u001b[0m\u001b[0;34m)\u001b[0m\u001b[0;34m\u001b[0m\u001b[0;34m\u001b[0m\u001b[0m\n\u001b[0;32m---> 11\u001b[0;31m \u001b[0my_vals\u001b[0m \u001b[0;34m=\u001b[0m \u001b[0mbeta_hat\u001b[0m\u001b[0;34m[\u001b[0m\u001b[0;36m0\u001b[0m\u001b[0;34m]\u001b[0m\u001b[0;34m+\u001b[0m\u001b[0mbeta_hat\u001b[0m\u001b[0;34m[\u001b[0m\u001b[0;36m1\u001b[0m\u001b[0;34m]\u001b[0m\u001b[0;34m*\u001b[0m\u001b[0mx_vals\u001b[0m\u001b[0;34m\u001b[0m\u001b[0;34m\u001b[0m\u001b[0m\n\u001b[0m\u001b[1;32m     12\u001b[0m \u001b[0mplt\u001b[0m\u001b[0;34m.\u001b[0m\u001b[0mplot\u001b[0m\u001b[0;34m(\u001b[0m\u001b[0mx_vals\u001b[0m\u001b[0;34m,\u001b[0m\u001b[0my_vals\u001b[0m\u001b[0;34m,\u001b[0m\u001b[0;34m\"-\"\u001b[0m\u001b[0;34m,\u001b[0m\u001b[0mcolor\u001b[0m\u001b[0;34m=\u001b[0m\u001b[0;34m'Blue'\u001b[0m\u001b[0;34m,\u001b[0m\u001b[0mlabel\u001b[0m\u001b[0;34m=\u001b[0m\u001b[0;34m'manual fit'\u001b[0m\u001b[0;34m)\u001b[0m\u001b[0;34m\u001b[0m\u001b[0;34m\u001b[0m\u001b[0m\n\u001b[1;32m     13\u001b[0m \u001b[0;34m\u001b[0m\u001b[0m\n",
      "\u001b[0;31mNameError\u001b[0m: name 'beta_hat' is not defined"
     ]
    },
    {
     "data": {
      "image/png": "[encoded data removed]",
      "text/plain": [
       "<Figure size 960x600 with 1 Axes>"
      ]
     },
     "metadata": {
      "needs_background": "light"
     },
     "output_type": "display_data"
    }
   ],
   "source": [
    "''' Compute the OLS parameters '''\n",
    "\n",
    "beta_OLS = np.zeros(2)\n",
    "beta_OLS[1] = # Insert code here\n",
    "beta_OLS[0] = # Insert code here\n",
    "\n",
    "# Plot the data points\n",
    "plt.plot(x,y,\"x\",color='Green',label='Data')\n",
    "\n",
    "# Plot the fitted regression function using your estimates\n",
    "x_vals = np.linspace(x.min()-1,x.max()+1,21)\n",
    "y_vals = beta_hat[0]+beta_hat[1]*x_vals\n",
    "plt.plot(x_vals,y_vals,\"-\",color='Blue',label='manual fit')\n",
    "\n",
    "# Plot the fitted regression function using the OLS estimate\n",
    "x_vals = np.linspace(x.min()-1,x.max()+1,21)\n",
    "y_vals = beta_OLS[0]+beta_OLS[1]*x_vals\n",
    "plt.plot(x_vals,y_vals,\"-\",color='Red',label='OLS fit')\n",
    "\n",
    "# Show the plot\n",
    "plt.legend()\n",
    "plt.show()"
   ]
  },
  {
   "cell_type": "markdown",
   "id": "7e927efb",
   "metadata": {},
   "source": [
    "---\n",
    "\n",
    "## Example 2\n",
    "\n",
    "Now it's your turn to generate data and conduct a regression analysis. In practice, we won't have access to the true data generating function (otherwise there is no need to conduct a regression analysis!), but it is useful to understand how the true function may influence our analysis.\n",
    "\n",
    "### Exercise\n",
    "Firstly pick some parameters for $n\\in\\mathbb N$, $\\beta\\in\\mathbb R^3$, and $\\sigma\\in\\mathbb R^+$ (i.e. $\\sigma>0$ and $\\sigma\\in\\mathbb R$). The provided code will use these values to generate $n$ data points using the function `generate_noisy_observation(x)` which in turn calls the function `true_function(x)` and adds noise to the 'true' values that we would see in an idealised world. This noise is generated by the function `np.random.normal()` - multiplying it with $\\sigma$ results in very little (small $\\sigma$) or a lot of noise (large $\\sigma$). For those familiar with random variables, the noise is drawn from a Gaussian distribution with mean $0$ and variance $\\sigma^2$ (i.e. standard deviation $\\sigma$), which is how noise is modelled in many applications (but not all!!).\n",
    "\n",
    "Plot your data and add an appropriate title, legend, and axis labels to your plot.\n",
    "\n",
    "### Question\n",
    "\n",
    "What is the purpose of the line `np.random.seed(420)`? "
   ]
  },
  {
   "cell_type": "code",
   "execution_count": 8,
   "id": "29355d8d",
   "metadata": {},
   "outputs": [
    {
     "ename": "SyntaxError",
     "evalue": "invalid syntax (<ipython-input-8-865d37a903c3>, line 4)",
     "output_type": "error",
     "traceback": [
      "\u001b[0;36m  File \u001b[0;32m\"<ipython-input-8-865d37a903c3>\"\u001b[0;36m, line \u001b[0;32m4\u001b[0m\n\u001b[0;31m    n = # Choose a value and play around with it\u001b[0m\n\u001b[0m                                                ^\u001b[0m\n\u001b[0;31mSyntaxError\u001b[0m\u001b[0;31m:\u001b[0m invalid syntax\n"
     ]
    }
   ],
   "source": [
    "\"\"\" \n",
    "These are the parameters you should play around with\n",
    "\"\"\"\n",
    "n = # Choose a value and play around with it\n",
    "beta_0 = # Choose a value and play around with it\n",
    "beta_1 = # Choose a value and play around with it\n",
    "beta_2 = # Choose a value and play around with it\n",
    "sigma = # Choose a value and play around with it\n",
    "\n",
    "\n",
    "\n",
    "\"\"\"\n",
    "These are the functions that will generate your true values and noisy observations thereof. \n",
    "The functions use whichever value the variables beta_0, beta_1, beta_2, and sigma have, they are called\n",
    "_global_ variables. On the other hand, the variable f_x is only defined in the function 'true_function(x)' \n",
    "and is thus a _local_ variable, that can not be used outside the function 'true_function(x)'.\n",
    "\"\"\"\n",
    "\n",
    "''' True function that we want to estimate '''\n",
    "def true_function(x):\n",
    "    f_x = beta_0+beta_1*x+beta_2*(x**2)\n",
    "    return f_x\n",
    "\n",
    "''' Function that gives us noisy observations '''\n",
    "def generate_noisy_observation(x):\n",
    "    true_f_x = true_function(x)\n",
    "    noise = sigma*np.random.normal()\n",
    "    return true_f_x + noise\n",
    "\n",
    "\n",
    "\n",
    "\"\"\"\n",
    "The next few lines generate n data points which depend on your choice of the parameters above!\n",
    "\"\"\"\n",
    "np.random.seed(420) \n",
    "x = np.zeros(n)\n",
    "Y = np.zeros(n)\n",
    "for i in range(n):\n",
    "    x[i] = 1+np.random.normal()  # the dependent variables x_i are simulated from a normal distribution centered at 1\n",
    "    Y[i] = generate_noisy_observation(x[i]) # the independent variable is a function of x and includes some noise\n",
    "    \n",
    "    \n",
    "\n",
    "\"\"\"\n",
    "Plot your data\n",
    "\"\"\"\n",
    "# INSERT CODE"
   ]
  },
  {
   "cell_type": "markdown",
   "id": "7544786a",
   "metadata": {},
   "source": [
    "---\n",
    "### Computing entry-wise squares and cubes\n",
    "When working with numpy arrays, the entry-wise squares and cubes can be computed as shown in the following cell:"
   ]
  },
  {
   "cell_type": "code",
   "execution_count": 9,
   "id": "103b3939",
   "metadata": {},
   "outputs": [
    {
     "name": "stdout",
     "output_type": "stream",
     "text": [
      "a =  [0 1 2 3 4]\n",
      "a_squared =  [ 0  1  4  9 16]\n",
      "a_cubed =  [ 0  1  8 27 64]\n"
     ]
    }
   ],
   "source": [
    "a = np.arange(5) # create the array a=[0,1,2,3,4]\n",
    "a_squared = a**2 # square the array and store it as a_squared\n",
    "a_cubed = a**3   # cube the array and store it as a_cubed\n",
    "\n",
    "''' Print all arrays '''\n",
    "print('a = ', a) \n",
    "print('a_squared = ', a_squared) \n",
    "print('a_cubed = ', a_cubed) "
   ]
  },
  {
   "cell_type": "markdown",
   "id": "be022845",
   "metadata": {},
   "source": [
    "---\n",
    "\n",
    "### Exercise\n",
    "\n",
    "Looking at your data, decide on an appropriate regression model$^\\dagger$ and estimate the 'unknown' parameters $\\beta$ using this model. Include the fitted values and the fitted regression function in the plot, and add labels for the data points, the fitted values, and the fitted regression line. Calculate the RMSE. The RMSE is minimised by the Ordinary Least Squares fit which thhe provided code computes via `beta_OLS = np.dot(np.linalg.inv(np.dot(X.transpose(),X)),np.dot(X.transpose(),Y)`. What is the mathematical expression for this? We will go over the justification for this in the next lecture, for now we just accept that this $\\beta_{OLS}$ gives us a good regression fit.\n",
    "\n",
    "Add an appropriate title, legend, and axis labels to your plot.\n",
    "\n",
    "$^\\dagger$ This will likely be either a constant, linear, quadratic, or cubic model, i.e. one of \n",
    "* $y=\\beta_0$ such that we need to estimate $p=1$ parameter\n",
    "* $y=\\beta_0+\\beta_1x$ such that we need to estimate $p=2$ parameters\n",
    "* $y=\\beta_0+\\beta_1x+\\beta_2x^2$ such that we need to estimate $p=3$ parameters\n",
    "* $y=\\beta_0+\\beta_1x+\\beta_2x^2+\\beta_3x^3$ such that we need to estimate $p=4$ parameters"
   ]
  },
  {
   "cell_type": "code",
   "execution_count": 10,
   "id": "aa8aa885",
   "metadata": {},
   "outputs": [
    {
     "ename": "SyntaxError",
     "evalue": "invalid syntax (<ipython-input-10-948b509b5e7f>, line 5)",
     "output_type": "error",
     "traceback": [
      "\u001b[0;36m  File \u001b[0;32m\"<ipython-input-10-948b509b5e7f>\"\u001b[0;36m, line \u001b[0;32m5\u001b[0m\n\u001b[0;31m    p = # insert your choice of p\u001b[0m\n\u001b[0m                                 ^\u001b[0m\n\u001b[0;31mSyntaxError\u001b[0m\u001b[0;31m:\u001b[0m invalid syntax\n"
     ]
    }
   ],
   "source": [
    "\"\"\"\n",
    "Initialise your design matrix. The first column should be ones, the other columns should include\n",
    "whatever your model requires.\n",
    "\"\"\"\n",
    "p = # insert your choice of p\n",
    "\n",
    "\n",
    "\"\"\"\n",
    "The next few lines of code calculate the 'optimal' beta_OLS depending on your choice of p. Recall that the\n",
    "model impacts the dimensionality of the vector beta_OLS!\n",
    "\"\"\"\n",
    "X = np.zeros((n,p))\n",
    "if p>=1:\n",
    "    X[:,0] = np.ones(n)\n",
    "if p>=2:\n",
    "    X[:,1] = x\n",
    "if p>=3:\n",
    "    X[:,2] = x**2\n",
    "if p==4:\n",
    "    X[:,3] = x**3\n",
    "# Calculate the OLS fit for beta\n",
    "beta_OLS = np.dot(np.linalg.inv(np.dot(X.transpose(),X)),np.dot(X.transpose(),Y))\n",
    "\n",
    "\n",
    "\n",
    "\n",
    "\"\"\"\n",
    "Calculate the fitted value\n",
    "\"\"\"\n",
    "y_hat = # INSERT CODE\n",
    "\n",
    "\n",
    "\n",
    "\"\"\"\n",
    "Calculate and print the RMSE  \n",
    "\"\"\"\n",
    "RMSE = # INSERT CODE\n",
    "print('RMSE = ',RMSE)\n",
    "    \n",
    "    \n",
    "    \n",
    "\"\"\"\n",
    "Plot the true regression function - this is not normally available but allows you to compare your fit \n",
    "to the true function that you are interested in :-)\n",
    "\"\"\" \n",
    "x_vals = np.linspace(x.min()-1,x.max()+1,21)\n",
    "plt.plot(x_vals,true_function(x_vals),\"-\",color='Yellow',label='True function')\n",
    "    \n",
    "    \n",
    "    \n",
    "\"\"\"\n",
    "Plot the data and the regression curve\n",
    "\"\"\"\n",
    "# Insert code here to plot data and regression function\n"
   ]
  },
  {
   "cell_type": "markdown",
   "id": "7f81123f",
   "metadata": {},
   "source": [
    "### Exercise\n",
    "Now play around with the parameters $n$, $\\beta$, and $\\sigma$, and see how the different parameters influence your analysis. Is your regression model always able to estimate the truth well? When is it easy to estimate the true parameters? When is it difficult? Does this depend on the noise ($\\sigma$) and on the parameters ($\\beta$)? How does it depend on the number of data points ($n$)?"
   ]
  },
  {
   "cell_type": "code",
   "execution_count": null,
   "id": "f1eb0b57",
   "metadata": {},
   "outputs": [],
   "source": []
  }
 ],
 "metadata": {
  "kernelspec": {
   "display_name": "Python 3",
   "language": "python",
   "name": "python3"
  },
  "language_info": {
   "codemirror_mode": {
    "name": "ipython",
    "version": 3
   },
   "file_extension": ".py",
   "mimetype": "text/x-python",
   "name": "python",
   "nbconvert_exporter": "python",
   "pygments_lexer": "ipython3",
   "version": "3.6.13"
  }
 },
 "nbformat": 4,
 "nbformat_minor": 5
}
