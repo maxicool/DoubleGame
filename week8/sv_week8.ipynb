{
 "cells": [
  {
   "cell_type": "code",
   "execution_count": 1,
   "id": "5a4aa74b-549f-4109-b4c1-b1080e5ad0e6",
   "metadata": {},
   "outputs": [
    {
     "name": "stdout",
     "output_type": "stream",
     "text": [
      "11\n"
     ]
    }
   ],
   "source": [
    "from sympy import *\n",
    "from sympy.vector import CoordSys3D, ParametricRegion, ImplicitRegion, vector_integrate\n",
    "from sympy.vector import scalar_potential, divergence\n",
    "C = CoordSys3D('C')\n",
    "from sympy.abc import r, x, y, z, theta, phi, u, v, w\n",
    "x, y, z = C.x, C.y, C.z\n",
    "UnitCube = ParametricRegion((x, y, z),(x,0,1),(y,0,1),(z,0,1))\n",
    "s1 = ParametricRegion((0, y, z),(y,0,1),(z,0,1))\n",
    "\n",
    "s2 = ParametricRegion((1, y, z),(y,0,1),(z,0,1))\n",
    "s3 = ParametricRegion((x, 0, z),(x,0,1),(z,0,1))\n",
    "s4 = ParametricRegion((x, 1, z),(x,0,1),(z,0,1))\n",
    "s5 = ParametricRegion((x, y, 0),(x,0,1),(y,0,1))\n",
    "s6 = ParametricRegion((x, y, 1),(x,0,1),(y,0,1))\n",
    "\n",
    "\n",
    "F = 3 * x * C.i + 5 * y * C.j + 3 * z ** 2 * C.k\n",
    "\n",
    "\n",
    "S1 = vector_integrate(F, s1)\n",
    "S2 = vector_integrate(F, s2)\n",
    "# s3 , s4 the norm vector is not positive y direction need be times -1\n",
    "S3 = +vector_integrate(F, s3)\n",
    "S4 = -vector_integrate(F, s4)\n",
    "\n",
    "S5 = -vector_integrate(F, s5)\n",
    "S6 = vector_integrate(F, s6)\n",
    "\n",
    "print(S1+S2+S3+S4+S5+S6)"
   ]
  },
  {
   "cell_type": "code",
   "execution_count": 2,
   "id": "fbd8f264-429b-470f-b628-9ce87eacd339",
   "metadata": {},
   "outputs": [
    {
     "data": {
      "text/latex": [
       "$\\displaystyle 6 \\mathbf{{z}_{C}} + 8$"
      ],
      "text/plain": [
       "6*C.z + 8"
      ]
     },
     "execution_count": 2,
     "metadata": {},
     "output_type": "execute_result"
    }
   ],
   "source": [
    "D = divergence(F)\n",
    "D"
   ]
  },
  {
   "cell_type": "code",
   "execution_count": 3,
   "id": "fe9cd8fc-374c-498b-b0de-67a850828d43",
   "metadata": {},
   "outputs": [
    {
     "data": {
      "text/latex": [
       "$\\displaystyle 11$"
      ],
      "text/plain": [
       "11"
      ]
     },
     "execution_count": 3,
     "metadata": {},
     "output_type": "execute_result"
    }
   ],
   "source": [
    "simplify(vector_integrate(D, UnitCube))"
   ]
  },
  {
   "cell_type": "markdown",
   "id": "fdf2e500-59be-4964-9a0e-d8600d0be961",
   "metadata": {},
   "source": [
    "# Hand-In: \n",
    "Use divergence theorem to evaluate the surface integral\n",
    "\n",
    "$$\n",
    "\\iint_S \\vec{F} \\cdot d\\vec{S} \n",
    "$$\n",
    "\n",
    "where the vector field is $ \\vec{F} = (3x+1)\\vec{i}+y(2z^2+1)\\vec{j}+(x^3+2zy^2)\\vec{k}$\n",
    "and $S$ is the cylindrical surface (without disks) specified by\n",
    "\n",
    "$$\n",
    "S = \\{(x, y, z) | y^2 + z^2 = 2,  \\quad 0 \\le x \\le 1\\}\n",
    "$$\n",
    "oriented outwards."
   ]
  },
  {
   "cell_type": "code",
   "execution_count": 4,
   "id": "d1678b7b-8ff4-43db-9c63-107fe3397e7f",
   "metadata": {},
   "outputs": [
    {
     "data": {
      "text/latex": [
       "$\\displaystyle 2 \\pi$"
      ],
      "text/plain": [
       "2*pi"
      ]
     },
     "execution_count": 4,
     "metadata": {},
     "output_type": "execute_result"
    }
   ],
   "source": [
    "x, y, z = C.x, C.y, C.z\n",
    "\n",
    "F = (3*x+1)*C.i + y*(2*z**2+1)*C.j + (x**3+2*z*y**2)*C.k\n",
    "sx0 = ParametricRegion((0, r*cos(theta), r*sin(theta)),(r,0,sqrt(2)),(theta,0,2*pi))\n",
    "sx1 = ParametricRegion((1, r*cos(theta), r*sin(theta)),(r,0,sqrt(2)),(theta,0,2*pi))\n",
    "sc  = ParametricRegion((x, sqrt(2)*cos(theta), sqrt(2)*sin(theta)),(x,0,1),(theta,0,2*pi))\n",
    "Cylinder = ParametricRegion((x, r*cos(theta), r*sin(theta)),(x, 0, 1), (r,0,sqrt(2)), (theta,0,2*pi))\n",
    "Sx0 = vector_integrate(F.dot(C.i), sx0)\n",
    "Sx1 = vector_integrate(F.dot(C.i), sx1)\n",
    "Sc  = vector_integrate(F.dot(cos(theta)*C.j+sin(theta)*C.k), sc)\n",
    "I_disk = Sx1 - Sx0\n",
    "Sx0"
   ]
  },
  {
   "cell_type": "code",
   "execution_count": 5,
   "id": "c13ac111-671b-423b-8e76-48ad5c61eec2",
   "metadata": {},
   "outputs": [
    {
     "data": {
      "text/latex": [
       "$\\displaystyle 8 \\pi$"
      ],
      "text/plain": [
       "8*pi"
      ]
     },
     "execution_count": 5,
     "metadata": {},
     "output_type": "execute_result"
    }
   ],
   "source": [
    "Sx1"
   ]
  },
  {
   "cell_type": "code",
   "execution_count": 6,
   "id": "04942f07-39ef-4881-828b-6a380af0457e",
   "metadata": {},
   "outputs": [
    {
     "data": {
      "text/latex": [
       "$\\displaystyle 6 \\pi$"
      ],
      "text/plain": [
       "6*pi"
      ]
     },
     "execution_count": 6,
     "metadata": {},
     "output_type": "execute_result"
    }
   ],
   "source": [
    "I_disk"
   ]
  },
  {
   "cell_type": "code",
   "execution_count": 7,
   "id": "8efda0b3-1087-4b4b-a7c7-3b6817f1f3c4",
   "metadata": {},
   "outputs": [
    {
     "name": "stdout",
     "output_type": "stream",
     "text": [
      "2*C.y**2 + 2*C.z**2 + 4\n"
     ]
    },
    {
     "data": {
      "text/latex": [
       "$\\displaystyle 12 \\pi$"
      ],
      "text/plain": [
       "12*pi"
      ]
     },
     "execution_count": 7,
     "metadata": {},
     "output_type": "execute_result"
    }
   ],
   "source": [
    "divF = divergence(F)\n",
    "print(divF)\n",
    "divF_Cyln=vector_integrate(divF,Cylinder)\n",
    "divF_Cyln"
   ]
  },
  {
   "cell_type": "code",
   "execution_count": 9,
   "id": "9f5ab8f1-a518-4d52-921d-c3e9bda8d4a7",
   "metadata": {},
   "outputs": [
    {
     "data": {
      "text/latex": [
       "$\\displaystyle 6 \\pi$"
      ],
      "text/plain": [
       "6*pi"
      ]
     },
     "execution_count": 9,
     "metadata": {},
     "output_type": "execute_result"
    }
   ],
   "source": [
    "divF_Cyln-I_disk"
   ]
  },
  {
   "cell_type": "code",
   "execution_count": 10,
   "id": "95c9cd72-c9e6-4b00-8fea-79e7ac74ea3a",
   "metadata": {},
   "outputs": [
    {
     "data": {
      "text/latex": [
       "$\\displaystyle 6 \\pi$"
      ],
      "text/plain": [
       "6*pi"
      ]
     },
     "execution_count": 10,
     "metadata": {},
     "output_type": "execute_result"
    }
   ],
   "source": [
    "Sc"
   ]
  },
  {
   "cell_type": "markdown",
   "id": "4aa738e1-2cee-4a33-abdd-6e5fc2c77072",
   "metadata": {},
   "source": [
    "## Quiz"
   ]
  },
  {
   "cell_type": "markdown",
   "id": "bbf4b07a-157d-4616-8471-961342f9f7cc",
   "metadata": {},
   "source": [
    "### Q1"
   ]
  },
  {
   "cell_type": "code",
   "execution_count": 15,
   "id": "a6de46ce-4453-49d7-afa1-c8910062a19f",
   "metadata": {},
   "outputs": [
    {
     "data": {
      "text/latex": [
       "$\\displaystyle 10 \\mathbf{{x}_{C}} \\mathbf{{y}_{C}}$"
      ],
      "text/plain": [
       "10*C.x*C.y"
      ]
     },
     "execution_count": 15,
     "metadata": {},
     "output_type": "execute_result"
    }
   ],
   "source": [
    "x, y, z = C.x, C.y, C.z\n",
    "F = 5 * x**2 * y * C.i + 5 * x * z * C.j + 2 * exp(2*x) * y ** 3 * C.k\n",
    "divF = divergence(F)\n",
    "divF"
   ]
  },
  {
   "cell_type": "code",
   "execution_count": 16,
   "id": "ecf4b3cf-9f17-474d-93ce-9deff1bffdb5",
   "metadata": {},
   "outputs": [
    {
     "data": {
      "text/latex": [
       "$\\displaystyle \\frac{5}{2}$"
      ],
      "text/plain": [
       "5/2"
      ]
     },
     "execution_count": 16,
     "metadata": {},
     "output_type": "execute_result"
    }
   ],
   "source": [
    "vector_integrate(divF, UnitCube)"
   ]
  },
  {
   "cell_type": "markdown",
   "id": "5920abce-8103-4fed-adc9-917dec075288",
   "metadata": {},
   "source": [
    "### Q2"
   ]
  },
  {
   "cell_type": "code",
   "execution_count": 58,
   "id": "297932ef-5453-426c-bce3-ee4fd7cac9a3",
   "metadata": {},
   "outputs": [
    {
     "name": "stdout",
     "output_type": "stream",
     "text": [
      "C.z - 2\n",
      "-3/2\n",
      "-3*pi/2\n"
     ]
    },
    {
     "data": {
      "text/latex": [
       "$\\displaystyle - \\frac{3 \\pi}{2}$"
      ],
      "text/plain": [
       "-3*pi/2"
      ]
     },
     "execution_count": 58,
     "metadata": {},
     "output_type": "execute_result"
    }
   ],
   "source": [
    "x, y, z = C.x, C.y, C.z\n",
    "F = x * z * C.i + 4 * x * C.j - 2 * z * C.k\n",
    "cylinder = ParametricRegion((r*cos(theta), r*sin(theta), z),(r,0,1),(theta,0,2*pi),(z,0,3))\n",
    "cylSuf   = ParametricRegion((cos(theta), sin(theta), z),(theta,0,2*pi),(z,0,3))\n",
    "disk0    = ParametricRegion((r*cos(theta), r*sin(theta), 0),(r,0,1),(theta,0,2*pi))\n",
    "disk1    = ParametricRegion((r*cos(theta), r*sin(theta), 3),(r,0,1),(theta,0,2*pi))\n",
    "divF = divergence(F)\n",
    "print(divF)\n",
    "Flux = vector_integrate(divF,cylinder)\n",
    "print(integrate(u-2, (u,0,3)))\n",
    "print(vector_integrate(z, cylinder)-vector_integrate(2, cylinder))\n",
    "Flux "
   ]
  },
  {
   "cell_type": "code",
   "execution_count": 59,
   "id": "3a471d64-9cf8-46aa-ba3b-beca9714b000",
   "metadata": {},
   "outputs": [
    {
     "name": "stdout",
     "output_type": "stream",
     "text": [
      "-6*pi\n"
     ]
    },
    {
     "data": {
      "text/latex": [
       "$\\displaystyle \\frac{9 \\pi}{2}$"
      ],
      "text/plain": [
       "9*pi/2"
      ]
     },
     "execution_count": 59,
     "metadata": {},
     "output_type": "execute_result"
    }
   ],
   "source": [
    "Id0 = vector_integrate(F, disk0)\n",
    "Id1 = vector_integrate(F, disk1)\n",
    "print(Id1)\n",
    "Icylinder = Flux - Id1 + Id0\n",
    "Icylinder"
   ]
  },
  {
   "cell_type": "code",
   "execution_count": 60,
   "id": "a2af1d6c-cf8a-4b80-bdd5-113a4a432218",
   "metadata": {},
   "outputs": [
    {
     "name": "stdout",
     "output_type": "stream",
     "text": [
      "C.x*C.z*cos(theta) + 4*C.x*sin(theta)\n",
      "9*pi/2\n",
      "9*pi/2\n"
     ]
    }
   ],
   "source": [
    "print (F.dot(cos(theta)*C.i+sin(theta)*C.j))\n",
    "I3 = vector_integrate(F.dot(cos(theta)*C.i+sin(theta)*C.j),cylSuf)\n",
    "print(I3)\n",
    "print(integrate((cos(theta)*cos(theta)*r+4*cos(theta)*sin(theta)),(r,0,3),(theta,0,2*pi)))\n"
   ]
  },
  {
   "cell_type": "code",
   "execution_count": 69,
   "id": "08947101-8a71-4c23-a28a-30cb5b25c368",
   "metadata": {},
   "outputs": [
    {
     "name": "stdout",
     "output_type": "stream",
     "text": [
      "-15*sin(5*x)/13 - 23*cos(5*x)/13\n"
     ]
    }
   ],
   "source": [
    "# q4\n",
    "x, y = symbols('x, y')\n",
    "A = Rational(2,13); B= Rational(-5,13)\n",
    "y = A*cos(5*x)+B*sin(5*x)\n",
    "print(diff(y)+y)"
   ]
  },
  {
   "cell_type": "code",
   "execution_count": 73,
   "id": "f2e3e7f6-9f6c-4844-a9da-fd3b9ffce940",
   "metadata": {},
   "outputs": [
    {
     "data": {
      "text/latex": [
       "$\\displaystyle y{\\left(x \\right)} = C_{1} e^{- x} + \\frac{2 \\sin{\\left(5 x \\right)}}{13} - \\frac{10 \\cos{\\left(5 x \\right)}}{13}$"
      ],
      "text/plain": [
       "Eq(y(x), C1*exp(-x) + 2*sin(5*x)/13 - 10*cos(5*x)/13)"
      ]
     },
     "execution_count": 73,
     "metadata": {},
     "output_type": "execute_result"
    }
   ],
   "source": [
    "from sympy.solvers.ode import dsolve\n",
    "y = Function('y')(x)\n",
    "\n",
    "eq = Eq((y.diff(x)+y),4*sin(5*x))\n",
    "simplify(dsolve(eq, y))"
   ]
  },
  {
   "cell_type": "markdown",
   "id": "8223705d-1c7e-4e22-b249-4465051dae1d",
   "metadata": {},
   "source": [
    "# Q7\n",
    "solve $y' + 4xy = -3x$,\n",
    "we will use integrater $\\int e^{P(x)} dx$"
   ]
  },
  {
   "cell_type": "code",
   "execution_count": 66,
   "id": "df9ddd3d-e791-411f-a23a-8f9698d9f8e2",
   "metadata": {},
   "outputs": [
    {
     "name": "stdout",
     "output_type": "stream",
     "text": [
      "ODE class:  separable\n"
     ]
    },
    {
     "data": {
      "text/latex": [
       "$\\displaystyle y{\\left(x \\right)} = \\frac{C_{1} e^{- 2 x^{2}}}{4} - \\frac{3}{4}$"
      ],
      "text/plain": [
       "Eq(y(x), C1*exp(-2*x**2)/4 - 3/4)"
      ]
     },
     "execution_count": 66,
     "metadata": {},
     "output_type": "execute_result"
    }
   ],
   "source": [
    "from sympy.solvers.ode import dsolve\n",
    "x, y = symbols ('x, y')\n",
    "y = Function('y')(x)\n",
    "eq = Eq((y.diff(x) + 4 * x * y), - 3 * x)\n",
    "print('ODE class: ', classify_ode(eq)[0])\n",
    "dsolve(eq, y)"
   ]
  },
  {
   "cell_type": "markdown",
   "id": "f256d5d9-7633-4924-ab5f-36a9adf11a3f",
   "metadata": {},
   "source": [
    "Question 8\n",
    "\n",
    "$ y' + \\frac{16x + 12}{2x^2 + 3x} y = 0 $\n",
    "it is seperate variables problem"
   ]
  },
  {
   "cell_type": "code",
   "execution_count": 67,
   "id": "46fac047-d938-4b42-9814-88518b268437",
   "metadata": {},
   "outputs": [
    {
     "data": {
      "text/latex": [
       "$\\displaystyle y{\\left(x \\right)} = \\frac{C_{1}}{x^{4} \\left(16 x^{4} + 96 x^{3} + 216 x^{2} + 216 x + 81\\right)}$"
      ],
      "text/plain": [
       "Eq(y(x), C1/(x**4*(16*x**4 + 96*x**3 + 216*x**2 + 216*x + 81)))"
      ]
     },
     "execution_count": 67,
     "metadata": {},
     "output_type": "execute_result"
    }
   ],
   "source": [
    "eq = Eq(y.diff(x) + (16*x+12)/(2*x**2+3*x)*y)\n",
    "dsolve(eq, y)"
   ]
  },
  {
   "cell_type": "code",
   "execution_count": null,
   "id": "3dbbc421-1878-45d9-b2db-cc09ee71e56e",
   "metadata": {},
   "outputs": [],
   "source": []
  },
  {
   "cell_type": "markdown",
   "id": "23cde08f-1fd6-4931-ae62-a022a8578247",
   "metadata": {},
   "source": [
    "# Workshop"
   ]
  },
  {
   "cell_type": "code",
   "execution_count": null,
   "id": "33d365aa-bd3d-472f-b7d7-5ed85d02803f",
   "metadata": {},
   "outputs": [],
   "source": []
  }
 ],
 "metadata": {
  "kernelspec": {
   "display_name": "Python 3",
   "language": "python",
   "name": "python3"
  },
  "language_info": {
   "codemirror_mode": {
    "name": "ipython",
    "version": 3
   },
   "file_extension": ".py",
   "mimetype": "text/x-python",
   "name": "python",
   "nbconvert_exporter": "python",
   "pygments_lexer": "ipython3",
   "version": "3.8.8"
  }
 },
 "nbformat": 4,
 "nbformat_minor": 5
}
