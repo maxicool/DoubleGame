{
 "cells": [
  {
   "cell_type": "code",
   "execution_count": 1,
   "id": "d40da1cf",
   "metadata": {},
   "outputs": [
    {
     "name": "stdout",
     "output_type": "stream",
     "text": [
      "Fxy: 2*x\n",
      "Fyx: 2*x\n",
      "(2*x*y + 3)*N.i + (x**2 - 3*y**2)*N.j is conservative!\n"
     ]
    }
   ],
   "source": [
    "from sympy import *\n",
    "from sympy.vector import CoordSys3D\n",
    "N = CoordSys3D('N')\n",
    "x, y = symbols('x, y')\n",
    "F = (3 + 2 * x * y) * N.i + (x ** 2 - 3 * y ** 2) * N.j\n",
    "\n",
    "# a) show that F is conservative\n",
    "Fxy = diff(F.dot(N.i), y)\n",
    "Fyx = diff(F.dot(N.j), x)\n",
    "print('Fxy:', Fxy)\n",
    "print('Fyx:', Fyx)\n",
    "\n",
    "if Fxy == Fyx:\n",
    "    print(F, 'is conservative!')\n",
    "else:\n",
    "    print(F, 'is not conservative!')\n"
   ]
  },
  {
   "cell_type": "code",
   "execution_count": 2,
   "id": "382018f0",
   "metadata": {},
   "outputs": [
    {
     "data": {
      "text/latex": [
       "$\\displaystyle \\mathbf{{x}_{N}}^{2} \\mathbf{{y}_{N}} + 3 \\mathbf{{x}_{N}} - \\mathbf{{y}_{N}}^{3}$"
      ],
      "text/plain": [
       "N.x**2*N.y + 3*N.x - N.y**3"
      ]
     },
     "execution_count": 2,
     "metadata": {},
     "output_type": "execute_result"
    }
   ],
   "source": [
    "# b) find a function f(x, y) such that F = \\grad f\n",
    "from sympy.vector import scalar_potential\n",
    "f = Function('f')(x,y)\n",
    "conservative_field = (3 + 2 * N.x * N.y) * N.i + (N.x ** 2 - 3 * N.y ** 2) * N.j\n",
    "scalar_potential(conservative_field, N)\n"
   ]
  },
  {
   "cell_type": "code",
   "execution_count": 3,
   "id": "9c84a5b4",
   "metadata": {},
   "outputs": [
    {
     "name": "stdout",
     "output_type": "stream",
     "text": [
      "x**3*y**2*(x**3*y**3*z**3 + 14*x**2*y**2*z**2 + 52*x*y*z + 48)*exp(x*y*z)\n"
     ]
    }
   ],
   "source": [
    "x, y, z = symbols ('x,y,z')\n",
    "expr = exp(x*y*z)\n",
    "deriv = Derivative(expr, x, y, 2, z, 4)\n",
    "print(simplify(deriv))"
   ]
  },
  {
   "cell_type": "code",
   "execution_count": 4,
   "id": "9d5ab255",
   "metadata": {},
   "outputs": [
    {
     "data": {
      "text/latex": [
       "$\\displaystyle 2 \\pi \\left(- \\frac{1}{12} + \\frac{37 \\sqrt{37}}{12}\\right)$"
      ],
      "text/plain": [
       "2*pi*(-1/12 + 37*sqrt(37)/12)"
      ]
     },
     "execution_count": 4,
     "metadata": {},
     "output_type": "execute_result"
    }
   ],
   "source": [
    "2*pi*integrate(x*sqrt(1+4*x**2), (x, 0, 3))"
   ]
  },
  {
   "cell_type": "code",
   "execution_count": 5,
   "id": "3556e832",
   "metadata": {},
   "outputs": [
    {
     "data": {
      "text/latex": [
       "$\\displaystyle \\frac{4 \\pi}{3}$"
      ],
      "text/plain": [
       "4*pi/3"
      ]
     },
     "execution_count": 5,
     "metadata": {},
     "output_type": "execute_result"
    }
   ],
   "source": [
    "from sympy.vector import CoordSys3D, ParametricRegion, ImplicitRegion, vector_integrate\n",
    "from sympy.abc import r, x, y, z, theta, phi, u, v\n",
    "param_sphere = ParametricRegion((cos(theta)*sin(phi), sin(theta)*sin(phi), cos(phi)), (theta, 0, 2*pi),(phi, 0, pi))\n",
    "x = cos(theta)*sin(phi)\n",
    "vector_integrate(x**2,param_sphere)"
   ]
  },
  {
   "cell_type": "code",
   "execution_count": 6,
   "id": "ffdbf71e",
   "metadata": {},
   "outputs": [
    {
     "data": {
      "text/latex": [
       "$\\displaystyle \\frac{13 \\sqrt{2}}{3}$"
      ],
      "text/plain": [
       "13*sqrt(2)/3"
      ]
     },
     "execution_count": 6,
     "metadata": {},
     "output_type": "execute_result"
    }
   ],
   "source": [
    "surface = ParametricRegion((u, v, u + v ** 2), (u, 0, 1), (v, 0, 2))\n",
    "vector_integrate(v, surface)"
   ]
  },
  {
   "cell_type": "code",
   "execution_count": 7,
   "id": "5c668470",
   "metadata": {},
   "outputs": [
    {
     "data": {
      "text/latex": [
       "$\\displaystyle \\frac{\\sqrt{19} \\pi^{3}}{3}$"
      ],
      "text/plain": [
       "sqrt(19)*pi**3/3"
      ]
     },
     "execution_count": 7,
     "metadata": {},
     "output_type": "execute_result"
    }
   ],
   "source": [
    "# hand in \n",
    "# 1\n",
    "y = r * sin(theta)\n",
    "z = r * cos(theta)\n",
    "parametric_plane = ParametricRegion(((12 + 3 * y - z)/3, y, z), (r, 0, pi), (theta, 0, 2 * pi))\n",
    "vector_integrate(1, parametric_plane)\n"
   ]
  },
  {
   "cell_type": "code",
   "execution_count": 8,
   "id": "c1b8a0bc",
   "metadata": {},
   "outputs": [
    {
     "name": "stdout",
     "output_type": "stream",
     "text": [
      "x - 3\n"
     ]
    },
    {
     "data": {
      "text/latex": [
       "$\\displaystyle -3$"
      ],
      "text/plain": [
       "-3"
      ]
     },
     "execution_count": 8,
     "metadata": {},
     "output_type": "execute_result"
    }
   ],
   "source": [
    "# hand in 2\n",
    "from sympy.abc import r, x, y, z, theta, phi, u, v\n",
    "P = exp(y) + 4 * x ** 3 * y ** 3 - y * x\n",
    "Q = x * exp(y) + 3 * x ** 4 * y ** 2 - 3 * x - cos(y ** 3)\n",
    "Qx = diff(Q, x)\n",
    "Py = diff(P, y) \n",
    "print(simplify(Qx - Py))\n",
    "from sympy.geometry import Point, Polygon\n",
    "triangle = ParametricRegion((x, y), (x, -y, y), (y, 0, 1))\n",
    "vector_integrate(Qx - Py , triangle)"
   ]
  },
  {
   "cell_type": "code",
   "execution_count": 5,
   "id": "abb0e2fc",
   "metadata": {},
   "outputs": [
    {
     "data": {
      "text/plain": [
       "{b: 0, a: 3}"
      ]
     },
     "execution_count": 5,
     "metadata": {},
     "output_type": "execute_result"
    }
   ],
   "source": [
    "# workshop 7\n",
    "# 1\n",
    "from sympy import *\n",
    "from sympy.abc import a, b, c, r, x, y, z, theta, phi, u, v\n",
    "from sympy.vector import CoordSys3D\n",
    "\n",
    "N = CoordSys3D('N')\n",
    "F = (1 + a * N.x ** 2 * N.y ** 2 * N.z) * N.i + 2 * N.x ** 3 * N.y * N.z * N.j + (N.x ** 3 * N.y ** 2 + b * N.y) * N.k\n",
    "from sympy.vector import curl, scalar_potential\n",
    "Cf = curl(F)\n",
    "e1 = Cf.dot(N.i)\n",
    "e2 = Cf.dot(N.j)\n",
    "e3 = Cf.dot(N.k)\n",
    "solution = solve((e1, e2, e3), a , b)\n",
    "print(solution)\n",
    "conservative_field = F.subs(a, solution[a]).subs(b, solution[b])\n",
    "conservative_field"
   ]
  },
  {
   "cell_type": "code",
   "execution_count": 6,
   "id": "a3c66526-fec4-4d4d-90ed-021a7400f4eb",
   "metadata": {},
   "outputs": [
    {
     "data": {
      "text/latex": [
       "$\\displaystyle \\mathbf{{x}_{N}}^{3} \\mathbf{{y}_{N}}^{2} \\mathbf{{z}_{N}} + \\mathbf{{x}_{N}}$"
      ],
      "text/plain": [
       "N.x**3*N.y**2*N.z + N.x"
      ]
     },
     "execution_count": 6,
     "metadata": {},
     "output_type": "execute_result"
    }
   ],
   "source": [
    "phi = scalar_potential(conservative_field, N)\n",
    "phi\n",
    "# b\n"
   ]
  },
  {
   "cell_type": "code",
   "execution_count": 7,
   "id": "f730a480-5d64-442c-8af0-df0321f8aa8c",
   "metadata": {},
   "outputs": [
    {
     "name": "stdout",
     "output_type": "stream",
     "text": [
      "13\n"
     ]
    }
   ],
   "source": [
    "print(phi.subs(N.x, 1).subs(N.y, 2).subs(N.z, 3) - phi.subs(N.x, 0).subs(N.y, 0).subs(N.z, 0))"
   ]
  },
  {
   "cell_type": "code",
   "execution_count": 31,
   "id": "89201391-858b-4980-b1d3-5014acacf4ef",
   "metadata": {},
   "outputs": [
    {
     "name": "stdout",
     "output_type": "stream",
     "text": [
      "64*sqrt(sin(phi)**2)\n"
     ]
    },
    {
     "data": {
      "text/latex": [
       "$\\displaystyle 16 \\pi$"
      ],
      "text/plain": [
       "16*pi"
      ]
     },
     "execution_count": 31,
     "metadata": {},
     "output_type": "execute_result"
    }
   ],
   "source": [
    "# 2 the portion of x^2 + y^2 + z^2 = 16z , in z = x^2 + y^2\n",
    "from sympy.vector import *\n",
    "from sympy.vector import CoordSys3D, ParametricRegion, ImplicitRegion, vector_integrate\n",
    "from sympy.abc import r, x, y, z, theta, phi, u, v\n",
    "phi_end = acos(Rational(7, 8))\n",
    "u_end = sin(phi_end)\n",
    "param_sphere = ParametricRegion((8*cos(theta)*sin(phi), 8*sin(theta)*sin(phi), 8+8*cos(phi)), (theta, 0, 2*pi),(phi, 0, phi_end))\n",
    "X = 8*cos(theta)*sin(phi)\n",
    "Y = 8*sin(theta)*sin(phi)\n",
    "Z = 8+8*cos(phi)\n",
    "X_theta = diff(X, theta) * N.i \n",
    "X_phi   = diff(X, phi)   * N.i\n",
    "Y_theta = diff(Y, theta) * N.j\n",
    "Y_phi   = diff(Y, phi)   * N.j\n",
    "Z_theta = diff(Z, theta) * N.k\n",
    "Z_phi   = diff(Z, phi)   * N.k\n",
    "v_theta = X_theta + Y_theta + Z_theta\n",
    "v_phi   = X_phi + Y_phi + Z_phi\n",
    "m = simplify((v_theta.cross(v_phi)).magnitude())\n",
    "print(m)\n",
    "vector_integrate(1, param_sphere)"
   ]
  },
  {
   "cell_type": "code",
   "execution_count": 10,
   "id": "960cecc5",
   "metadata": {},
   "outputs": [
    {
     "data": {
      "text/latex": [
       "$\\displaystyle 20 \\pi$"
      ],
      "text/plain": [
       "20*pi"
      ]
     },
     "execution_count": 10,
     "metadata": {},
     "output_type": "execute_result"
    }
   ],
   "source": [
    "# quiz 1\n",
    "#Use Green's Theorem to evaluate\n",
    "#∫C(x**2−3y)dx+2xdy\n",
    "#where C is the circle y2+x2=4.\n",
    "from sympy.vector import CoordSys3D, ParametricRegion, ImplicitRegion, vector_integrate\n",
    "implicit_circle = ImplicitRegion((N.x, N.y), N.x ** 2 + N.y ** 2 - 4)\n",
    "P = N.x ** 2 - 3 * N.y\n",
    "Q = 2 * N.x \n",
    "vector_integrate(P * N.i + Q * N.j, implicit_circle)\n"
   ]
  },
  {
   "cell_type": "code",
   "execution_count": 11,
   "id": "4d31de97",
   "metadata": {},
   "outputs": [
    {
     "name": "stdout",
     "output_type": "stream",
     "text": [
      "5\n"
     ]
    }
   ],
   "source": [
    "Qx = diff(Q, N.x)\n",
    "Py = diff(P, N.y)\n",
    "print(Qx - Py)\n"
   ]
  },
  {
   "cell_type": "code",
   "execution_count": 12,
   "id": "192dc3c6",
   "metadata": {},
   "outputs": [
    {
     "data": {
      "text/latex": [
       "$\\displaystyle 20 \\pi$"
      ],
      "text/plain": [
       "20*pi"
      ]
     },
     "execution_count": 12,
     "metadata": {},
     "output_type": "execute_result"
    }
   ],
   "source": [
    "from sympy.abc import r, theta, phi, u, v\n",
    "parametice_circle = ParametricRegion((r*cos(theta), r*sin(theta)), \n",
    "                                     (r,0,2),(theta,0,2*pi))\n",
    "vector_integrate(Qx - Py, parametice_circle)"
   ]
  },
  {
   "cell_type": "code",
   "execution_count": 21,
   "id": "bdd865f0",
   "metadata": {},
   "outputs": [
    {
     "name": "stdout",
     "output_type": "stream",
     "text": [
      "3*N.x**2 + 3*N.y**2\n"
     ]
    },
    {
     "data": {
      "text/latex": [
       "$\\displaystyle 6 \\pi$"
      ],
      "text/plain": [
       "6*pi"
      ]
     },
     "execution_count": 21,
     "metadata": {},
     "output_type": "execute_result"
    }
   ],
   "source": [
    "# quiz 2 \n",
    "# why two answer not same !!!!\n",
    "#Find the work done by the force field\n",
    "# F(x,y)=(3ex−y3)i^+(2cos(y)+x3)j^\n",
    "# on a particle that travels once around the unit circle C in the counterclockwise direction. Use Green's Theorem if that simplifies the calculation of the integral.\n",
    "from sympy.abc import r, x, y, z, theta, phi, u, v\n",
    "\n",
    "F = ( 3 * exp(N.x) - N.y ** 3) * N.i + (2 * cos(N.y) + N.x ** 3) * N.j\n",
    "Qx = diff(F.dot(N.j), N.x)\n",
    "Py = diff(F.dot(N.i), N.y)\n",
    "print(Qx - Py)\n",
    "implicit_circle = ImplicitRegion((N.x, N.y), N.x ** 2 + N.y ** 2 - 1)\n",
    "parametice_circle = ParametricRegion((r*cos(theta),r*sin(theta)), (r, 0, 1), (theta, 0, 2 * pi))\n",
    "# to use green theorem need to remember: intergral in the region not on the board the answer is wrong \n",
    "vector_integrate(Qx - Py , implicit_circle) "
   ]
  },
  {
   "cell_type": "code",
   "execution_count": 22,
   "id": "16348279",
   "metadata": {},
   "outputs": [
    {
     "data": {
      "text/latex": [
       "$\\displaystyle \\frac{3 \\pi}{2}$"
      ],
      "text/plain": [
       "3*pi/2"
      ]
     },
     "execution_count": 22,
     "metadata": {},
     "output_type": "execute_result"
    }
   ],
   "source": [
    "vector_integrate(Qx - Py , parametice_circle)"
   ]
  },
  {
   "cell_type": "code",
   "execution_count": 23,
   "id": "c25c1b75",
   "metadata": {},
   "outputs": [
    {
     "data": {
      "text/latex": [
       "$\\displaystyle \\frac{3 \\pi}{2}$"
      ],
      "text/plain": [
       "3*pi/2"
      ]
     },
     "execution_count": 23,
     "metadata": {},
     "output_type": "execute_result"
    }
   ],
   "source": [
    "vector_integrate(F, implicit_circle)"
   ]
  },
  {
   "cell_type": "code",
   "execution_count": 14,
   "id": "bb2cf3d5",
   "metadata": {},
   "outputs": [
    {
     "data": {
      "text/latex": [
       "$\\displaystyle 8 \\mathbf{{x}_{N}} \\mathbf{{y}_{N}} + 6 \\mathbf{{y}_{N}}^{2} \\mathbf{{z}_{N}} + 5$"
      ],
      "text/plain": [
       "8*N.x*N.y + 6*N.y**2*N.z + 5"
      ]
     },
     "execution_count": 14,
     "metadata": {},
     "output_type": "execute_result"
    }
   ],
   "source": [
    "# quiz 3\n",
    "# \\mathbf{F}(x,y,z) = {4\\,x^2\\,y} \\mathbf{\\hat{i}}+{2\\,y^3\\,z} \\mathbf{\\hat{j}}+{5\\,z} \\mathbf{\\hat{k}}.\n",
    "from sympy.vector import divergence, curl\n",
    "F = 4 * N.x ** 2 * N.y * N.i + 2 * N.y ** 3 * N.z * N.j + 5 * N.z * N.k\n",
    "divergence(F)"
   ]
  },
  {
   "cell_type": "code",
   "execution_count": 15,
   "id": "fd950e07",
   "metadata": {},
   "outputs": [
    {
     "data": {
      "text/latex": [
       "$\\displaystyle (- 2 \\mathbf{{y}_{N}}^{3})\\mathbf{\\hat{i}_{N}} + (- 4 \\mathbf{{x}_{N}}^{2})\\mathbf{\\hat{k}_{N}}$"
      ],
      "text/plain": [
       "(-2*N.y**3)*N.i + (-4*N.x**2)*N.k"
      ]
     },
     "execution_count": 15,
     "metadata": {},
     "output_type": "execute_result"
    }
   ],
   "source": [
    "curl(F)"
   ]
  },
  {
   "cell_type": "code",
   "execution_count": 16,
   "id": "64bf1d87",
   "metadata": {},
   "outputs": [
    {
     "data": {
      "text/latex": [
       "$\\displaystyle 4 \\mathbf{{y}_{N}}$"
      ],
      "text/plain": [
       "4*N.y"
      ]
     },
     "execution_count": 16,
     "metadata": {},
     "output_type": "execute_result"
    }
   ],
   "source": [
    "# quiz 4\n",
    "# F(x,y,z)=4xyi^−3sin(z)j^+6k^.\n",
    "F = 4 * N.x * N.y * N.i - 3 * sin(N.z) * N.j + 6 * N.k\n",
    "divergence(F)"
   ]
  },
  {
   "cell_type": "code",
   "execution_count": 17,
   "id": "c3eba38f",
   "metadata": {},
   "outputs": [
    {
     "data": {
      "text/latex": [
       "$\\displaystyle (3 \\cos{\\left(\\mathbf{{z}_{N}} \\right)})\\mathbf{\\hat{i}_{N}} + (- 4 \\mathbf{{x}_{N}})\\mathbf{\\hat{k}_{N}}$"
      ],
      "text/plain": [
       "(3*cos(N.z))*N.i + (-4*N.x)*N.k"
      ]
     },
     "execution_count": 17,
     "metadata": {},
     "output_type": "execute_result"
    }
   ],
   "source": [
    "curl(F)"
   ]
  },
  {
   "cell_type": "code",
   "execution_count": 18,
   "id": "54c805a8",
   "metadata": {},
   "outputs": [
    {
     "data": {
      "text/latex": [
       "$\\displaystyle \\frac{1}{6}$"
      ],
      "text/plain": [
       "1/6"
      ]
     },
     "execution_count": 18,
     "metadata": {},
     "output_type": "execute_result"
    }
   ],
   "source": [
    "# quiz 6 \n",
    "F = 4 * x * (1 - x - y)\n",
    "#vector_integrate(1, triangle)\n",
    "triangle = ParametricRegion((x, y), (y, 0, 1-x), (x, 0, 1))\n",
    "vector_integrate(F, triangle)"
   ]
  }
 ],
 "metadata": {
  "kernelspec": {
   "display_name": "Python 3",
   "language": "python",
   "name": "python3"
  },
  "language_info": {
   "codemirror_mode": {
    "name": "ipython",
    "version": 3
   },
   "file_extension": ".py",
   "mimetype": "text/x-python",
   "name": "python",
   "nbconvert_exporter": "python",
   "pygments_lexer": "ipython3",
   "version": "3.8.8"
  }
 },
 "nbformat": 4,
 "nbformat_minor": 5
}
