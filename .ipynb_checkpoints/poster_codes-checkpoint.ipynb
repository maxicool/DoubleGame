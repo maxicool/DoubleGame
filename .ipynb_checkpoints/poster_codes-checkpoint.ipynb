{
 "cells": [
  {
   "cell_type": "markdown",
   "id": "d30355c5-d6e6-4bd9-bb56-c8fe4f8403ad",
   "metadata": {},
   "source": [
    "# Doble game and FiniteField\n",
    "### version 0.1.0 Nov 25, 2021\n",
    "#### 1) to seperate functions from the main program. \n",
    "        it will be easy to reusing those function by inline code:\n",
    "        %run poster_function.ipynb\n",
    "\n",
    "### version 0.0.2 Nov 22, 2021\n",
    "#### 1) fixed double defined card function\n",
    "#### 2) changed error in function finitefield (using function modulus was wrong\n",
    "#### 3) add debug option in Doble fuction"
   ]
  },
  {
   "cell_type": "code",
   "execution_count": 1,
   "id": "a4de205a-6944-4f03-9f21-524e6ecf7374",
   "metadata": {},
   "outputs": [],
   "source": [
    "%run poster_functions.ipynb\n",
    "p = 7\n",
    "L = Doble(p)"
   ]
  },
  {
   "cell_type": "code",
   "execution_count": 2,
   "id": "9d0f70c9-8506-498b-bfe1-1d30a9deb54a",
   "metadata": {},
   "outputs": [
    {
     "data": {
      "image/png": "[encoded data removed]",
      "text/plain": [
       "<Figure size 360x360 with 1 Axes>"
      ]
     },
     "metadata": {
      "needs_background": "light"
     },
     "output_type": "display_data"
    }
   ],
   "source": [
    "p = 3\n",
    "L=Doble(p)\n",
    "\n",
    "# set figure size\n",
    "plt.rcParams[\"figure.figsize\"] = (5,5)\n",
    "#set x and y ticks and labels\n",
    "ncols = nrows = p*p + p +1\n",
    "col_labels = range(ncols)\n",
    "row_labels = range(nrows)\n",
    "plt.xticks(range(1,ncols+1), col_labels)\n",
    "plt.yticks(range(nrows), row_labels);\n",
    "#plt.grid(which = 'minor')\n",
    "plt.grid(true)\n",
    "i = 0\n",
    "for l in L:\n",
    "    plt.plot(l, np.ones(p+1) * i, '*')\n",
    "    i = i + 1\n",
    "plt.savefig('finite3x1.png')"
   ]
  },
  {
   "cell_type": "code",
   "execution_count": 3,
   "id": "8f2a8b7f-5217-4d85-8e85-d9e2af24d879",
   "metadata": {},
   "outputs": [
    {
     "name": "stdout",
     "output_type": "stream",
     "text": [
      "Doble game with order  2\n",
      "Card 1 is [5, 6, 7]\n",
      "Card 2 is [2, 4, 7]\n",
      "Card 3 is [3, 4, 5]\n",
      "Card 4 is [2, 3, 6]\n",
      "Card 5 is [1, 3, 7]\n",
      "Card 6 is [1, 4, 6]\n",
      "Card 7 is [1, 2, 5]\n"
     ]
    },
    {
     "data": {
      "text/plain": [
       "[[5, 6, 7], [2, 4, 7], [3, 4, 5], [2, 3, 6], [1, 3, 7], [1, 4, 6], [1, 2, 5]]"
      ]
     },
     "execution_count": 3,
     "metadata": {},
     "output_type": "execute_result"
    }
   ],
   "source": [
    "Doble(2, debug = True) # which is fano plane"
   ]
  },
  {
   "cell_type": "code",
   "execution_count": 4,
   "id": "b138c720-4d18-43d1-a497-ae251e68f040",
   "metadata": {},
   "outputs": [
    {
     "name": "stdout",
     "output_type": "stream",
     "text": [
      "Card 1 is [17, 18, 19, 20, 21]\n",
      "Card 2 is [2, 6, 10, 14, 21]\n",
      "Card 3 is [4, 8, 12, 16, 21]\n",
      "Card 4 is [3, 7, 11, 15, 21]\n",
      "Card 5 is [5, 6, 7, 8, 17]\n",
      "Card 6 is [2, 5, 12, 15, 18]\n",
      "Card 7 is [4, 5, 11, 14, 19]\n",
      "Card 8 is [3, 5, 10, 16, 20]\n",
      "Card 9 is [13, 14, 15, 16, 17]\n",
      "Card 10 is [2, 8, 11, 13, 20]\n",
      "Card 11 is [4, 7, 10, 13, 18]\n",
      "Card 12 is [3, 6, 12, 13, 19]\n",
      "Card 13 is [9, 10, 11, 12, 17]\n",
      "Card 14 is [2, 7, 9, 16, 19]\n",
      "Card 15 is [4, 6, 9, 15, 20]\n",
      "Card 16 is [3, 8, 9, 14, 18]\n",
      "Card 17 is [1, 5, 9, 13, 21]\n",
      "Card 18 is [1, 6, 11, 16, 18]\n",
      "Card 19 is [1, 7, 12, 14, 20]\n",
      "Card 20 is [1, 8, 10, 15, 19]\n",
      "Card 21 is [1, 2, 3, 4, 17]\n"
     ]
    }
   ],
   "source": [
    "from sympy.abc import t\n",
    "E = [0, 1, t, t**2]\n",
    "f = 1+t+t**2\n",
    "q = len(E)\n",
    "r = 1\n",
    "cards = set()\n",
    "# define a doble card generator of 2^2 generated finitefield \n",
    "def f2Card(a, b, c):\n",
    "    card = []\n",
    "    for x in range(0, q):\n",
    "        for y in range(0, q):\n",
    "            g = a * E[x] + b * E[y] + c\n",
    "            # rr = r + 2*t*t since 2*t*t is zero will not efect result \n",
    "            if div((div(g, f, domain='Z')[1]+2*t*t), 2, domain='Z')[1] == 0:\n",
    "                #print(a,m,r,q * x + y + 1)\n",
    "                card.append(q * x + y + 1)\n",
    "    for x in range(0, q):\n",
    "        g = a * E[x] + b \n",
    "        if div((div(g, f, domain='Z')[1]+2*t*t), 2, domain='Z')[1] == 0:\n",
    "            card.append(q * q + x + 1)\n",
    "            #print(a,m,r,q * q + x + 1)\n",
    "    if a==0:\n",
    "        card.append(q * q + q + 1)\n",
    "        #print(a,m,r,q * q + q + 1)\n",
    "    return card\n",
    "\n",
    "#'''\n",
    "# z <> 0\n",
    "for i in range(0, q):\n",
    "    for j in range(0, q):\n",
    "        C =  f2Card(E[i], E[j], 1)\n",
    "        print('Card', i * q + j + 1, 'is', C)\n",
    "        cards.add(tuple(C))\n",
    "# z == 0, y <> 0\n",
    "for i in range(0, q):\n",
    "    C =  f2Card(E[i], 1 , 0)\n",
    "    print('Card', q * q + i + 1, 'is', C)\n",
    "    cards.add(tuple(C))\n",
    "# z = y = 0\n",
    "C = f2Card(1, 0, 0)\n",
    "print('Card', q * q + q + 1, 'is', C)\n",
    "cards.add(tuple(C))\n",
    "#'''\n",
    "#print(i * q + q, f2Card(1,1,0))"
   ]
  },
  {
   "cell_type": "code",
   "execution_count": 5,
   "id": "d386a8b7-6057-49b9-8383-ec5f01621633",
   "metadata": {},
   "outputs": [
    {
     "name": "stdout",
     "output_type": "stream",
     "text": [
      "all cards have and only have one intersection point\n",
      "21\n"
     ]
    }
   ],
   "source": [
    "#check have and only have one intersection point\n",
    "import itertools\n",
    "STW = False\n",
    "for c1, c2 in itertools.combinations(cards,2):\n",
    "    if len(set(c1).intersection(set(c2)) )!= 1:\n",
    "        print(c1,c2,set(c1)-set(c2))\n",
    "        STW = True\n",
    "        break\n",
    "if not STW: print('all cards have and only have one intersection point')\n",
    "print(len(cards))"
   ]
  },
  {
   "cell_type": "code",
   "execution_count": 6,
   "id": "337e528d-cbf4-439f-a8c4-490a0baffd54",
   "metadata": {},
   "outputs": [
    {
     "name": "stdout",
     "output_type": "stream",
     "text": [
      "Card 1 is [17, 18, 19, 20, 21]\n",
      "Card 2 is [4, 8, 12, 16, 21]\n",
      "Card 3 is [3, 7, 11, 15, 21]\n",
      "Card 4 is [2, 6, 10, 14, 21]\n",
      "Card 5 is [13, 14, 15, 16, 17]\n",
      "Card 6 is [4, 7, 10, 13, 19]\n",
      "Card 7 is [3, 6, 12, 13, 20]\n",
      "Card 8 is [2, 8, 11, 13, 18]\n",
      "Card 9 is [9, 10, 11, 12, 17]\n",
      "Card 10 is [4, 6, 9, 15, 18]\n",
      "Card 11 is [3, 8, 9, 14, 19]\n",
      "Card 12 is [2, 7, 9, 16, 20]\n",
      "Card 13 is [5, 6, 7, 8, 17]\n",
      "Card 14 is [4, 5, 11, 14, 20]\n",
      "Card 15 is [3, 5, 10, 16, 18]\n",
      "Card 16 is [2, 5, 12, 15, 19]\n",
      "Card 17 is [1, 5, 9, 13, 21]\n",
      "Card 18 is [1, 8, 10, 15, 20]\n",
      "Card 19 is [1, 6, 11, 16, 19]\n",
      "Card 20 is [1, 7, 12, 14, 18]\n",
      "Card 21 is [1, 2, 3, 4, 17]\n"
     ]
    }
   ],
   "source": [
    "from sympy.abc import t\n",
    "'''\n",
    "E = [0, 1, t, t**2]\n",
    "f = 1+t+t**2\n",
    "q = len(E)\n",
    "'''\n",
    "# using my own function finitefield\n",
    "E, f, q = finitefield(2,2)\n",
    "#define a card  generator for my own finitefield \n",
    "\n",
    "#'''\n",
    "cards = set ()\n",
    "for i in range(0, q):\n",
    "    for j in range(0, q):\n",
    "        card = fCard(E[i], E[j], 1 , 2, E, f, q)\n",
    "        cards.add(tuple(card))\n",
    "        print('Card', i * q + j + 1, 'is', card )\n",
    "for i in range(0, q):\n",
    "    card = fCard(E[i], 1, 0, 2, E, f, q)\n",
    "    cards.add(tuple(card))\n",
    "    print('Card', q * q + i + 1, 'is', card)\n",
    "card = fCard(1, 0, 0, 2, E, f, q)\n",
    "cards.add(tuple(card))\n",
    "print('Card', q * q + q + 1, 'is', card)\n",
    "#'''\n",
    "#print(fCard(1,1,0))"
   ]
  },
  {
   "cell_type": "code",
   "execution_count": 7,
   "id": "9f254e4c-4c5a-4ba4-beff-3535aee58e3b",
   "metadata": {},
   "outputs": [
    {
     "name": "stdout",
     "output_type": "stream",
     "text": [
      "all cards have and only have one intersection point\n",
      "21\n"
     ]
    }
   ],
   "source": [
    "#check have and only have one intersection point\n",
    "import itertools\n",
    "STW = False\n",
    "for c1, c2 in itertools.combinations(cards,2):\n",
    "    if len(set(c1).intersection(set(c2)) )!= 1:\n",
    "        print(c1,c2,set(c1)-set(c2))\n",
    "        STW = True\n",
    "        break\n",
    "if not STW: print('all cards have and only have one intersection point')\n",
    "print(len(cards))"
   ]
  },
  {
   "cell_type": "code",
   "execution_count": 8,
   "id": "db52fcba-1f9b-4556-92f1-287f75e6c52c",
   "metadata": {},
   "outputs": [
    {
     "name": "stdout",
     "output_type": "stream",
     "text": [
      "Card 1 is [82, 83, 84, 85, 86, 87, 88, 89, 90, 91]\n",
      "Card 2 is [2, 11, 20, 29, 38, 47, 56, 65, 74, 91]\n",
      "Card 3 is [3, 12, 21, 30, 39, 48, 57, 66, 75, 91]\n",
      "Card 4 is [7, 16, 25, 34, 43, 52, 61, 70, 79, 91]\n",
      "Card 5 is [6, 15, 24, 33, 42, 51, 60, 69, 78, 91]\n",
      "Card 6 is [5, 14, 23, 32, 41, 50, 59, 68, 77, 91]\n",
      "Card 7 is [4, 13, 22, 31, 40, 49, 58, 67, 76, 91]\n",
      "Card 8 is [9, 18, 27, 36, 45, 54, 63, 72, 81, 91]\n",
      "Card 9 is [8, 17, 26, 35, 44, 53, 62, 71, 80, 91]\n",
      "Card 10 is [10, 11, 12, 13, 14, 15, 16, 17, 18, 82]\n",
      "Card 11 is [2, 10, 21, 35, 43, 54, 59, 67, 78, 88]\n",
      "Card 12 is [3, 10, 20, 33, 40, 50, 63, 70, 80, 85]\n",
      "Card 13 is [7, 10, 22, 36, 39, 51, 62, 65, 77, 83]\n",
      "Card 14 is [6, 10, 26, 34, 41, 48, 56, 72, 76, 89]\n",
      "Card 15 is [5, 10, 27, 30, 44, 49, 61, 69, 74, 86]\n",
      "Card 16 is [4, 10, 25, 32, 38, 53, 60, 66, 81, 84]\n",
      "Card 17 is [9, 10, 23, 29, 42, 52, 58, 71, 75, 90]\n",
      "Card 18 is [8, 10, 24, 31, 45, 47, 57, 68, 79, 87]\n",
      "Card 19 is [19, 20, 21, 22, 23, 24, 25, 26, 27, 82]\n",
      "Card 20 is [2, 12, 19, 32, 42, 49, 62, 72, 79, 85]\n",
      "Card 21 is [3, 11, 19, 36, 44, 52, 60, 68, 76, 88]\n",
      "Card 22 is [7, 13, 19, 35, 41, 47, 63, 69, 75, 84]\n",
      "Card 23 is [6, 17, 19, 29, 40, 54, 61, 66, 77, 87]\n",
      "Card 24 is [5, 18, 19, 34, 38, 51, 57, 67, 80, 90]\n",
      "Card 25 is [4, 16, 19, 33, 45, 48, 59, 71, 74, 83]\n",
      "Card 26 is [9, 14, 19, 31, 39, 53, 56, 70, 78, 86]\n",
      "Card 27 is [8, 15, 19, 30, 43, 50, 58, 65, 81, 89]\n",
      "Card 28 is [55, 56, 57, 58, 59, 60, 61, 62, 63, 82]\n",
      "Card 29 is [2, 17, 23, 30, 45, 51, 55, 70, 76, 84]\n",
      "Card 30 is [3, 15, 27, 29, 41, 53, 55, 67, 79, 83]\n",
      "Card 31 is [7, 18, 26, 31, 42, 50, 55, 66, 74, 88]\n",
      "Card 32 is [6, 16, 20, 35, 39, 49, 55, 68, 81, 90]\n",
      "Card 33 is [5, 12, 25, 36, 40, 47, 55, 71, 78, 89]\n",
      "Card 34 is [4, 14, 24, 34, 44, 54, 55, 65, 75, 85]\n",
      "Card 35 is [9, 11, 22, 32, 43, 48, 55, 69, 80, 87]\n",
      "Card 36 is [8, 13, 21, 33, 38, 52, 55, 72, 77, 86]\n",
      "Card 37 is [46, 47, 48, 49, 50, 51, 52, 53, 54, 82]\n",
      "Card 38 is [2, 16, 24, 36, 41, 46, 58, 66, 80, 86]\n",
      "Card 39 is [3, 13, 26, 32, 45, 46, 61, 65, 78, 90]\n",
      "Card 40 is [7, 12, 23, 33, 44, 46, 56, 67, 81, 87]\n",
      "Card 41 is [6, 14, 22, 30, 38, 46, 63, 71, 79, 88]\n",
      "Card 42 is [5, 17, 20, 31, 43, 46, 60, 72, 75, 83]\n",
      "Card 43 is [4, 11, 27, 35, 42, 46, 57, 70, 77, 89]\n",
      "Card 44 is [9, 15, 21, 34, 40, 46, 62, 68, 74, 84]\n",
      "Card 45 is [8, 18, 25, 29, 39, 46, 59, 69, 76, 85]\n",
      "Card 46 is [37, 38, 39, 40, 41, 42, 43, 44, 45, 82]\n",
      "Card 47 is [2, 18, 22, 33, 37, 53, 61, 68, 75, 89]\n",
      "Card 48 is [3, 14, 25, 35, 37, 51, 58, 72, 74, 87]\n",
      "Card 49 is [7, 15, 20, 32, 37, 54, 57, 71, 76, 86]\n",
      "Card 50 is [6, 12, 27, 31, 37, 52, 59, 65, 80, 84]\n",
      "Card 51 is [5, 13, 24, 29, 37, 48, 62, 70, 81, 88]\n",
      "Card 52 is [4, 17, 21, 36, 37, 50, 56, 69, 79, 90]\n",
      "Card 53 is [9, 16, 26, 30, 37, 47, 60, 67, 77, 85]\n",
      "Card 54 is [8, 11, 23, 34, 37, 49, 63, 66, 78, 83]\n",
      "Card 55 is [28, 29, 30, 31, 32, 33, 34, 35, 36, 82]\n",
      "Card 56 is [2, 14, 26, 28, 40, 52, 57, 69, 81, 83]\n",
      "Card 57 is [3, 18, 24, 28, 43, 49, 56, 71, 77, 84]\n",
      "Card 58 is [7, 17, 27, 28, 38, 48, 58, 68, 78, 85]\n",
      "Card 59 is [6, 11, 25, 28, 45, 50, 62, 67, 75, 86]\n",
      "Card 60 is [5, 16, 21, 28, 42, 53, 63, 65, 76, 87]\n",
      "Card 61 is [4, 15, 23, 28, 39, 47, 61, 72, 80, 88]\n",
      "Card 62 is [9, 13, 20, 28, 44, 51, 59, 66, 79, 89]\n",
      "Card 63 is [8, 12, 22, 28, 41, 54, 60, 70, 74, 90]\n",
      "Card 64 is [73, 74, 75, 76, 77, 78, 79, 80, 81, 82]\n",
      "Card 65 is [2, 13, 27, 34, 39, 50, 60, 71, 73, 87]\n",
      "Card 66 is [3, 16, 23, 31, 38, 54, 62, 69, 73, 89]\n",
      "Card 67 is [7, 11, 24, 30, 40, 53, 59, 72, 73, 90]\n",
      "Card 68 is [6, 18, 21, 32, 44, 47, 58, 70, 73, 83]\n",
      "Card 69 is [5, 15, 22, 35, 45, 52, 56, 66, 73, 85]\n",
      "Card 70 is [4, 12, 26, 29, 43, 51, 63, 68, 73, 86]\n",
      "Card 71 is [9, 17, 25, 33, 41, 49, 57, 65, 73, 88]\n",
      "Card 72 is [8, 14, 20, 36, 42, 48, 61, 67, 73, 84]\n",
      "Card 73 is [64, 65, 66, 67, 68, 69, 70, 71, 72, 82]\n",
      "Card 74 is [2, 15, 25, 31, 44, 48, 63, 64, 77, 90]\n",
      "Card 75 is [3, 17, 22, 34, 42, 47, 59, 64, 81, 86]\n",
      "Card 76 is [7, 14, 21, 29, 45, 49, 60, 64, 80, 89]\n",
      "Card 77 is [6, 13, 23, 36, 43, 53, 57, 64, 74, 85]\n",
      "Card 78 is [5, 11, 26, 33, 39, 54, 58, 64, 79, 84]\n",
      "Card 79 is [4, 18, 20, 30, 41, 52, 62, 64, 78, 87]\n",
      "Card 80 is [9, 12, 24, 35, 38, 50, 61, 64, 76, 83]\n",
      "Card 81 is [8, 16, 27, 32, 40, 51, 56, 64, 75, 88]\n",
      "Card 82 is [1, 10, 19, 28, 37, 46, 55, 64, 73, 91]\n",
      "Card 83 is [1, 13, 25, 30, 42, 54, 56, 68, 80, 83]\n",
      "Card 84 is [1, 16, 22, 29, 44, 50, 57, 72, 78, 84]\n",
      "Card 85 is [1, 12, 20, 34, 45, 53, 58, 69, 77, 88]\n",
      "Card 86 is [1, 15, 26, 36, 38, 49, 59, 70, 75, 87]\n",
      "Card 87 is [1, 18, 23, 35, 40, 48, 60, 65, 79, 86]\n",
      "Card 88 is [1, 11, 21, 31, 41, 51, 61, 71, 81, 85]\n",
      "Card 89 is [1, 14, 27, 33, 43, 47, 62, 66, 76, 90]\n",
      "Card 90 is [1, 17, 24, 32, 39, 52, 63, 67, 74, 89]\n",
      "Card 91 is [1, 2, 3, 4, 5, 6, 7, 8, 9, 82]\n"
     ]
    }
   ],
   "source": [
    "p = 3\n",
    "n = 2\n",
    "E, f, q = finitefield(p,n)\n",
    "cards = set()\n",
    "for i in range(0, q):\n",
    "    for j in range(0, q):\n",
    "        card = fCard(E[i], E[j], 1 , p, E, f, q)\n",
    "        cards.add(tuple(card))\n",
    "        print('Card', i * q + j + 1, 'is', card )\n",
    "for i in range(0, q):\n",
    "    card = fCard(E[i], 1, 0, p, E, f, q)\n",
    "    cards.add(tuple(card))\n",
    "    print('Card', q * q + i + 1, 'is', card)\n",
    "card = fCard(1, 0, 0, p, E, f, q)\n",
    "cards.add(tuple(card))\n",
    "print('Card', q * q + q + 1, 'is', card)"
   ]
  },
  {
   "cell_type": "code",
   "execution_count": 9,
   "id": "a7532d6b-3773-4036-b434-a07e6e20e37b",
   "metadata": {},
   "outputs": [
    {
     "name": "stdout",
     "output_type": "stream",
     "text": [
      "all cards have and only have one intersection point\n",
      "91\n"
     ]
    }
   ],
   "source": [
    "#check have and only have one intersection point\n",
    "import itertools\n",
    "STW = False\n",
    "for c1, c2 in itertools.combinations(cards,2):\n",
    "    if len(set(c1).intersection(set(c2)) )!= 1:\n",
    "        print(c1,c2,set(c1)-set(c2))\n",
    "        STW = True\n",
    "        break\n",
    "if not STW: print('all cards have and only have one intersection point')\n",
    "print(len(cards))"
   ]
  },
  {
   "cell_type": "code",
   "execution_count": 10,
   "id": "7731f083-a4de-47a7-bfd3-c62ea3c4e8be",
   "metadata": {},
   "outputs": [
    {
     "name": "stdout",
     "output_type": "stream",
     "text": [
      "Card 1 is [65, 66, 67, 68, 69, 70, 71, 72, 73]\n",
      "Card 2 is [7, 15, 23, 31, 39, 47, 55, 63, 73]\n",
      "Card 3 is [4, 12, 20, 28, 36, 44, 52, 60, 73]\n",
      "Card 4 is [3, 11, 19, 27, 35, 43, 51, 59, 73]\n",
      "Card 5 is [5, 13, 21, 29, 37, 45, 53, 61, 73]\n",
      "Card 6 is [8, 16, 24, 32, 40, 48, 56, 64, 73]\n",
      "Card 7 is [2, 10, 18, 26, 34, 42, 50, 58, 73]\n",
      "Card 8 is [6, 14, 22, 30, 38, 46, 54, 62, 73]\n",
      "Card 9 is [49, 50, 51, 52, 53, 54, 55, 56, 65]\n",
      "Card 10 is [7, 16, 21, 30, 35, 44, 49, 58, 69]\n",
      "Card 11 is [4, 15, 19, 32, 34, 45, 49, 62, 68]\n",
      "Card 12 is [3, 13, 22, 28, 40, 42, 49, 63, 72]\n",
      "Card 13 is [5, 12, 18, 31, 38, 43, 49, 64, 71]\n",
      "Card 14 is [8, 14, 20, 26, 37, 47, 49, 59, 67]\n",
      "Card 15 is [2, 11, 24, 29, 39, 46, 49, 60, 70]\n",
      "Card 16 is [6, 10, 23, 27, 36, 48, 49, 61, 66]\n",
      "Card 17 is [25, 26, 27, 28, 29, 30, 31, 32, 65]\n",
      "Card 18 is [7, 13, 19, 25, 38, 48, 50, 60, 67]\n",
      "Card 19 is [4, 11, 18, 25, 40, 47, 54, 61, 69]\n",
      "Card 20 is [3, 14, 24, 25, 36, 45, 55, 58, 71]\n",
      "Card 21 is [5, 10, 22, 25, 39, 44, 56, 59, 68]\n",
      "Card 22 is [8, 12, 21, 25, 34, 46, 51, 63, 66]\n",
      "Card 23 is [2, 16, 23, 25, 37, 43, 52, 62, 72]\n",
      "Card 24 is [6, 15, 20, 25, 35, 42, 53, 64, 70]\n",
      "Card 25 is [17, 18, 19, 20, 21, 22, 23, 24, 65]\n",
      "Card 26 is [7, 14, 17, 28, 34, 43, 56, 61, 70]\n",
      "Card 27 is [4, 16, 17, 29, 38, 42, 55, 59, 66]\n",
      "Card 28 is [3, 12, 17, 26, 39, 48, 53, 62, 69]\n",
      "Card 29 is [5, 15, 17, 27, 40, 46, 52, 58, 67]\n",
      "Card 30 is [8, 10, 17, 31, 35, 45, 54, 60, 72]\n",
      "Card 31 is [2, 13, 17, 30, 36, 47, 51, 64, 68]\n",
      "Card 32 is [6, 11, 17, 32, 37, 44, 50, 63, 71]\n",
      "Card 33 is [33, 34, 35, 36, 37, 38, 39, 40, 65]\n",
      "Card 34 is [7, 11, 22, 26, 33, 45, 52, 64, 66]\n",
      "Card 35 is [4, 10, 24, 30, 33, 43, 53, 63, 67]\n",
      "Card 36 is [3, 16, 20, 31, 33, 46, 50, 61, 68]\n",
      "Card 37 is [5, 14, 23, 32, 33, 42, 51, 60, 69]\n",
      "Card 38 is [8, 13, 18, 27, 33, 44, 55, 62, 70]\n",
      "Card 39 is [2, 15, 21, 28, 33, 48, 54, 59, 71]\n",
      "Card 40 is [6, 12, 19, 29, 33, 47, 56, 58, 72]\n",
      "Card 41 is [57, 58, 59, 60, 61, 62, 63, 64, 65]\n",
      "Card 42 is [7, 12, 24, 27, 37, 42, 54, 57, 68]\n",
      "Card 43 is [4, 13, 23, 26, 35, 46, 56, 57, 71]\n",
      "Card 44 is [3, 10, 21, 32, 38, 47, 52, 57, 70]\n",
      "Card 45 is [5, 11, 20, 30, 34, 48, 55, 57, 72]\n",
      "Card 46 is [8, 15, 22, 29, 36, 43, 50, 57, 69]\n",
      "Card 47 is [2, 14, 19, 31, 40, 44, 53, 57, 66]\n",
      "Card 48 is [6, 16, 18, 28, 39, 45, 51, 57, 67]\n",
      "Card 49 is [9, 10, 11, 12, 13, 14, 15, 16, 65]\n",
      "Card 50 is [7, 9, 18, 32, 36, 46, 53, 59, 72]\n",
      "Card 51 is [4, 9, 22, 31, 37, 48, 51, 58, 70]\n",
      "Card 52 is [3, 9, 23, 29, 34, 44, 54, 64, 67]\n",
      "Card 53 is [5, 9, 24, 28, 35, 47, 50, 62, 66]\n",
      "Card 54 is [8, 9, 19, 30, 39, 42, 52, 61, 71]\n",
      "Card 55 is [2, 9, 20, 27, 38, 45, 56, 63, 69]\n",
      "Card 56 is [6, 9, 21, 26, 40, 43, 55, 60, 68]\n",
      "Card 57 is [41, 42, 43, 44, 45, 46, 47, 48, 65]\n",
      "Card 58 is [7, 10, 20, 29, 40, 41, 51, 62, 71]\n",
      "Card 59 is [4, 14, 21, 27, 39, 41, 50, 64, 72]\n",
      "Card 60 is [3, 15, 18, 30, 37, 41, 56, 60, 66]\n",
      "Card 61 is [5, 16, 19, 26, 36, 41, 54, 63, 70]\n",
      "Card 62 is [8, 11, 23, 28, 38, 41, 53, 58, 68]\n",
      "Card 63 is [2, 12, 22, 32, 35, 41, 55, 61, 67]\n",
      "Card 64 is [6, 13, 24, 31, 34, 41, 52, 59, 69]\n",
      "Card 65 is [1, 9, 17, 25, 33, 41, 49, 57, 73]\n",
      "Card 66 is [1, 16, 22, 27, 34, 47, 53, 60, 71]\n",
      "Card 67 is [1, 14, 18, 29, 35, 48, 52, 63, 68]\n",
      "Card 68 is [1, 11, 21, 31, 36, 42, 56, 62, 67]\n",
      "Card 69 is [1, 10, 19, 28, 37, 46, 55, 64, 69]\n",
      "Card 70 is [1, 15, 24, 26, 38, 44, 51, 61, 72]\n",
      "Card 71 is [1, 13, 20, 32, 39, 43, 54, 58, 66]\n",
      "Card 72 is [1, 12, 23, 30, 40, 45, 50, 59, 70]\n",
      "Card 73 is [1, 2, 3, 4, 5, 6, 7, 8, 65]\n"
     ]
    }
   ],
   "source": [
    "p = 2\n",
    "n = 3\n",
    "E, f, q = finitefield(p,n)\n",
    "cards = set()\n",
    "for i in range(0, q):\n",
    "    for j in range(0, q):\n",
    "        card = fCard(E[i], E[j], 1 , p, E, f, q)\n",
    "        cards.add(tuple(card))\n",
    "        print('Card', i * q + j + 1, 'is', card )\n",
    "for i in range(0, q):\n",
    "    card = fCard(E[i], 1, 0, p, E, f, q)\n",
    "    cards.add(tuple(card))\n",
    "    print('Card', q * q + i + 1, 'is', card)\n",
    "card = fCard(1, 0, 0, p, E, f, q)\n",
    "cards.add(tuple(card))\n",
    "print('Card', q * q + q + 1, 'is', card)"
   ]
  },
  {
   "cell_type": "code",
   "execution_count": 11,
   "id": "5a314724-7fe2-4677-acc3-081c04d46ab8",
   "metadata": {},
   "outputs": [
    {
     "name": "stdout",
     "output_type": "stream",
     "text": [
      "all cards have and only have one intersection point\n",
      "73\n"
     ]
    }
   ],
   "source": [
    "#check have and only have one intersection point\n",
    "import itertools\n",
    "STW = False\n",
    "for c1, c2 in itertools.combinations(cards,2):\n",
    "    if len(set(c1).intersection(set(c2)) )!= 1:\n",
    "        print(c1,c2,set(c1)-set(c2))\n",
    "        STW = True\n",
    "        break\n",
    "if not STW: print('all cards have and only have one intersection point')\n",
    "print(len(cards))"
   ]
  },
  {
   "cell_type": "code",
   "execution_count": 12,
   "id": "78efbb0a-8d43-475a-bc17-46780ee0bfb8",
   "metadata": {},
   "outputs": [
    {
     "data": {
      "image/png": "[encoded data removed]",
      "text/plain": [
       "<Figure size 1440x1080 with 1 Axes>"
      ]
     },
     "metadata": {
      "needs_background": "light"
     },
     "output_type": "display_data"
    }
   ],
   "source": [
    "p = 2 ** 3\n",
    "L = list(cards)\n",
    "# set figure size\n",
    "plt.rcParams[\"figure.figsize\"] = (20,15)\n",
    "#set x and y ticks and labels\n",
    "ncols = nrows = p*p + p +1\n",
    "col_labels = range(ncols)\n",
    "row_labels = range(nrows)\n",
    "plt.xticks(range(1,ncols+1), col_labels)\n",
    "plt.yticks(range(nrows), row_labels);\n",
    "#plt.grid(which = 'minor')\n",
    "plt.grid(true)\n",
    "for i in range(len(L)):\n",
    "    plt.plot(L[i], np.ones(p+1) * i , '*')\n",
    "plt.savefig('finite2x3.png')"
   ]
  }
 ],
 "metadata": {
  "kernelspec": {
   "display_name": "Python 3",
   "language": "python",
   "name": "python3"
  },
  "language_info": {
   "codemirror_mode": {
    "name": "ipython",
    "version": 3
   },
   "file_extension": ".py",
   "mimetype": "text/x-python",
   "name": "python",
   "nbconvert_exporter": "python",
   "pygments_lexer": "ipython3",
   "version": "3.8.8"
  }
 },
 "nbformat": 4,
 "nbformat_minor": 5
}
