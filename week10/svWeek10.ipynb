{
 "cells": [
  {
   "cell_type": "code",
   "execution_count": 1,
   "id": "e76d6b40-c52e-4195-ad2b-1b801611d65e",
   "metadata": {},
   "outputs": [],
   "source": [
    "from sympy import *\n",
    "from sympy.abc import a, x, t, r\n",
    "\n",
    "from sympy.solvers.ode import dsolve\n",
    "#from sympy.solvers import solve"
   ]
  },
  {
   "cell_type": "markdown",
   "id": "d80c493f-7042-4b93-b4fe-8e991bbb3051",
   "metadata": {},
   "source": [
    "# Work shop"
   ]
  },
  {
   "cell_type": "code",
   "execution_count": 26,
   "id": "60f502eb-d58d-4872-bdea-1771f9678433",
   "metadata": {},
   "outputs": [
    {
     "data": {
      "text/latex": [
       "$\\displaystyle u{\\left(t \\right)} = C_{1} \\sin{\\left(2 t \\right)} + C_{2} \\cos{\\left(2 t \\right)}$"
      ],
      "text/plain": [
       "Eq(u(t), C1*sin(2*t) + C2*cos(2*t))"
      ]
     },
     "execution_count": 26,
     "metadata": {},
     "output_type": "execute_result"
    }
   ],
   "source": [
    "u = Function('u')(t)\n",
    "eq = Eq(u.diff(t).diff(t) + 4 * u , 0)\n",
    "dsolve(eq)"
   ]
  },
  {
   "cell_type": "code",
   "execution_count": 28,
   "id": "ed5d0387-72e3-4b4e-a966-0c8417fc56ee",
   "metadata": {},
   "outputs": [
    {
     "data": {
      "text/latex": [
       "$\\displaystyle u{\\left(t \\right)} = C_{1} \\sin{\\left(2 t \\right)} + C_{2} \\cos{\\left(2 t \\right)} + \\frac{t \\sin{\\left(2 t \\right)}}{4}$"
      ],
      "text/plain": [
       "Eq(u(t), C1*sin(2*t) + C2*cos(2*t) + t*sin(2*t)/4)"
      ]
     },
     "execution_count": 28,
     "metadata": {},
     "output_type": "execute_result"
    }
   ],
   "source": [
    "eq = Eq(u.diff(t).diff(t) + 4 * u , cos(2*t))\n",
    "dsolve(eq).expand()"
   ]
  },
  {
   "cell_type": "code",
   "execution_count": 37,
   "id": "3aaf347b-a1f4-4fd3-a1f6-20ca5c52e5c7",
   "metadata": {},
   "outputs": [
    {
     "name": "stdout",
     "output_type": "stream",
     "text": [
      "ODE class:  nth_linear_constant_coeff_undetermined_coefficients\n"
     ]
    },
    {
     "data": {
      "text/latex": [
       "$\\displaystyle u{\\left(t \\right)} = \\frac{t \\sin{\\left(2 t \\right)}}{4}$"
      ],
      "text/plain": [
       "Eq(u(t), t*sin(2*t)/4)"
      ]
     },
     "execution_count": 37,
     "metadata": {},
     "output_type": "execute_result"
    }
   ],
   "source": [
    "eq = Eq(u.diff(t).diff(t) + 4 * u , cos(2*t))\n",
    "print('ODE class: ', classify_ode(eq)[0])\n",
    "dsolve(eq, ics = {u.subs(t, 0): 0,  u.diff(t).subs(t,0): 0})"
   ]
  },
  {
   "cell_type": "code",
   "execution_count": 39,
   "id": "ba5db85e-e6cb-4031-94db-171bcddc7c99",
   "metadata": {},
   "outputs": [
    {
     "name": "stdout",
     "output_type": "stream",
     "text": [
      "ODE class:  ()\n",
      "[(0, -2), (4, -2)]\n",
      "y = 0 or y = 4x^(-2)\n"
     ]
    }
   ],
   "source": [
    "y = Function('y')(x)\n",
    "eq = Eq(y.diff(x).diff(x) + y.diff(x) / x - y ** 2, 0)\n",
    "print('ODE class: ', classify_ode(eq))\n",
    "#dsolve(eq)\n",
    "y = a * x ** r \n",
    "y.diff(x).diff(x) + y.diff(x) / x - y ** 2\n",
    "E1 = -a ** 2 + a * r ** 2\n",
    "E2 = 2 * r - (r - 2)\n",
    "e = solve((E1,E2), a, r)\n",
    "print(e)\n",
    "print('y = 0 or y = 4x^(-2)')"
   ]
  },
  {
   "cell_type": "code",
   "execution_count": 29,
   "id": "ca3c0cbf-0234-463a-85d5-72a5277086d4",
   "metadata": {},
   "outputs": [
    {
     "name": "stdout",
     "output_type": "stream",
     "text": [
      "ODE class:  ('nth_linear_euler_eq_homogeneous', '2nd_linear_bessel', '2nd_power_series_regular')\n"
     ]
    },
    {
     "data": {
      "text/latex": [
       "$\\displaystyle y{\\left(x \\right)} = C_{1} x^{2} + C_{2} x^{2} \\log{\\left(x \\right)}$"
      ],
      "text/plain": [
       "Eq(y(x), C1*x**2 + C2*x**2*log(x))"
      ]
     },
     "execution_count": 29,
     "metadata": {},
     "output_type": "execute_result"
    }
   ],
   "source": [
    "#y\" − 3y'/x + 4y/x**2 =0\n",
    "y = Function('y')(x)\n",
    "\n",
    "eq = Eq(y.diff(x).diff(x) - 3*y.diff(x)/x + 4*y/x**2,0)\n",
    "print('ODE class: ', classify_ode(eq))\n",
    "#dsolve(eq, hint = '2nd_power_series_regular')\n",
    "dsolve(eq, hint = 'nth_linear_euler_eq_homogeneous').expand()\n",
    "#dsolve(eq, hint = '2nd_linear_bessel')"
   ]
  },
  {
   "cell_type": "code",
   "execution_count": 30,
   "id": "ec242847-03c1-434d-b7dd-bd0650b2aeff",
   "metadata": {},
   "outputs": [
    {
     "data": {
      "text/latex": [
       "$\\displaystyle y{\\left(t \\right)} = C_{1} e^{2 t} + C_{2} t e^{2 t}$"
      ],
      "text/plain": [
       "Eq(y(t), C1*exp(2*t) + C2*t*exp(2*t))"
      ]
     },
     "execution_count": 30,
     "metadata": {},
     "output_type": "execute_result"
    }
   ],
   "source": [
    "# using euler substitution for same dimention problem: t = ln x \n",
    "y = Function('y')(t)\n",
    "eq = Eq(y.diff(t).diff(t) - 4 * y.diff(t) + 4 * y , 0)\n",
    "dsolve(eq).expand()"
   ]
  },
  {
   "cell_type": "markdown",
   "id": "8b3441bf-12c6-49e8-91d0-a586999441d4",
   "metadata": {},
   "source": [
    "substuting $t = ln(x)$\n",
    "$$\n",
    "y(x) = (C_1 + C_2 ln(x)) e ^ {2ln(x)} \\\\ \n",
    "y(x) = (C_1 + C_2 ln(x)) (e ^ {ln(x)})^2 \\\\\n",
    "y(x) = (C_1 + C_2 ln(x)) (x)^2  \\\\\n",
    "$$\n"
   ]
  },
  {
   "cell_type": "code",
   "execution_count": 7,
   "id": "99ffd99e-7689-4574-9b93-1a3d2f0051b5",
   "metadata": {},
   "outputs": [
    {
     "name": "stdout",
     "output_type": "stream",
     "text": [
      "ODE class:  ('nth_linear_constant_coeff_undetermined_coefficients', 'nth_linear_constant_coeff_variation_of_parameters', 'nth_linear_constant_coeff_variation_of_parameters_Integral')\n"
     ]
    },
    {
     "data": {
      "text/latex": [
       "$\\displaystyle x{\\left(t \\right)} = C_{1} \\sin{\\left(t \\right)} + C_{2} \\cos{\\left(t \\right)} + 12 t^{2} - 24$"
      ],
      "text/plain": [
       "Eq(x(t), C1*sin(t) + C2*cos(t) + 12*t**2 - 24)"
      ]
     },
     "execution_count": 7,
     "metadata": {},
     "output_type": "execute_result"
    }
   ],
   "source": [
    "x = Function('x')(t)\n",
    "eq = Eq(x.diff(t).diff(t) + x, 12 * t ** 2)\n",
    "print('ODE class: ', classify_ode(eq))\n",
    "dsolve(eq, hint = 'nth_linear_constant_coeff_variation_of_parameters_Integral')"
   ]
  },
  {
   "cell_type": "code",
   "execution_count": 34,
   "id": "8d7f0109-2400-469b-9ed7-4cfa9acb34ae",
   "metadata": {},
   "outputs": [
    {
     "name": "stdout",
     "output_type": "stream",
     "text": [
      "ODE class:  ('nth_linear_constant_coeff_homogeneous', '2nd_power_series_ordinary')\n"
     ]
    },
    {
     "data": {
      "text/latex": [
       "$\\displaystyle y{\\left(t \\right)} = C_{1} e^{2 t} + C_{2} e^{3 t}$"
      ],
      "text/plain": [
       "Eq(y(t), C1*exp(2*t) + C2*exp(3*t))"
      ]
     },
     "execution_count": 34,
     "metadata": {},
     "output_type": "execute_result"
    }
   ],
   "source": [
    "# y\" -5y' +6y = 0\n",
    "y = Function('y')(t)\n",
    "eq = Eq (y.diff(t).diff(t) - 5 * y.diff(t) + 6 * y , 0)\n",
    "print('ODE class: ', classify_ode(eq))\n",
    "\n",
    "dsolve(eq).expand()"
   ]
  },
  {
   "cell_type": "code",
   "execution_count": 35,
   "id": "e139e154-96a9-4ba6-b7a7-64536a6e7936",
   "metadata": {},
   "outputs": [
    {
     "name": "stdout",
     "output_type": "stream",
     "text": [
      "ODE class:  ('nth_linear_constant_coeff_undetermined_coefficients', 'nth_linear_constant_coeff_variation_of_parameters', 'nth_linear_constant_coeff_variation_of_parameters_Integral')\n"
     ]
    },
    {
     "data": {
      "text/latex": [
       "$\\displaystyle y{\\left(t \\right)} = C_{1} e^{2 t} + C_{2} e^{3 t} + 2 e^{t}$"
      ],
      "text/plain": [
       "Eq(y(t), C1*exp(2*t) + C2*exp(3*t) + 2*exp(t))"
      ]
     },
     "execution_count": 35,
     "metadata": {},
     "output_type": "execute_result"
    }
   ],
   "source": [
    "# y\" -5y' +6y = 4 e ** t\n",
    "eq = Eq (y.diff(t).diff(t) - 5 * y.diff(t) + 6 * y , 4*exp(t))\n",
    "print('ODE class: ', classify_ode(eq))\n",
    "dsolve(eq, hint='nth_linear_constant_coeff_undetermined_coefficients').expand()"
   ]
  },
  {
   "cell_type": "code",
   "execution_count": 36,
   "id": "1dfe8747-964a-4a63-b9a9-68b92f3ca053",
   "metadata": {},
   "outputs": [
    {
     "data": {
      "text/latex": [
       "$\\displaystyle y{\\left(t \\right)} = C_{1} e^{2 t} + C_{2} e^{3 t} + 2 e^{t}$"
      ],
      "text/plain": [
       "Eq(y(t), C1*exp(2*t) + C2*exp(3*t) + 2*exp(t))"
      ]
     },
     "execution_count": 36,
     "metadata": {},
     "output_type": "execute_result"
    }
   ],
   "source": [
    "dsolve(eq, hint='nth_linear_constant_coeff_variation_of_parameters').expand()"
   ]
  },
  {
   "cell_type": "markdown",
   "id": "6cb6039b-cbb2-4be7-bd7f-f7db410193c1",
   "metadata": {},
   "source": [
    "## Handin\n",
    "Solve the IVP $x\" − 2 x' + x = e^t ln(t) + e^t,  t > 0, \\quad x(1) = 0 $ and $ x'(1) = 0. $\n",
    "Hint: use the Method of Variation of Parameters for the first term on the RHS and the\n",
    "Method of Undetermined Coefficients for the second.\n"
   ]
  },
  {
   "cell_type": "code",
   "execution_count": 11,
   "id": "563e3211-9d75-453b-b650-ef2347146b97",
   "metadata": {},
   "outputs": [
    {
     "name": "stdout",
     "output_type": "stream",
     "text": [
      "ODE class:  ('nth_linear_constant_coeff_variation_of_parameters', 'nth_linear_constant_coeff_variation_of_parameters_Integral')\n"
     ]
    },
    {
     "data": {
      "text/latex": [
       "$\\displaystyle x{\\left(t \\right)} = \\left(t \\left(\\frac{t \\log{\\left(t \\right)}}{2} - \\frac{t}{4}\\right) + \\frac{1}{4}\\right) e^{t}$"
      ],
      "text/plain": [
       "Eq(x(t), (t*(t*log(t)/2 - t/4) + 1/4)*exp(t))"
      ]
     },
     "execution_count": 11,
     "metadata": {},
     "output_type": "execute_result"
    }
   ],
   "source": [
    "x = Function('x')(t)\n",
    "eq = Eq(x.diff(t).diff(t) - 2 * x.diff(t) + x , exp(t) * log(t) + exp(t))\n",
    "print('ODE class: ', classify_ode(eq))\n",
    "dsolve(eq, ics = {x.subs(t, 1): 0,  x.diff(t).subs(t,1): 0})"
   ]
  },
  {
   "cell_type": "code",
   "execution_count": 12,
   "id": "ff36bf9a-b03d-4a64-89c9-b5ee77545ae1",
   "metadata": {},
   "outputs": [
    {
     "data": {
      "text/latex": [
       "$\\displaystyle t \\log{\\left(t \\right)}$"
      ],
      "text/plain": [
       "t*log(t)"
      ]
     },
     "execution_count": 12,
     "metadata": {},
     "output_type": "execute_result"
    }
   ],
   "source": [
    "integrate(ln(t)+1,t)"
   ]
  },
  {
   "cell_type": "code",
   "execution_count": 13,
   "id": "2256a072-5f12-424e-9a17-5d3b13106943",
   "metadata": {},
   "outputs": [
    {
     "data": {
      "text/latex": [
       "$\\displaystyle - \\frac{t^{2} \\log{\\left(t \\right)}}{2} - \\frac{t^{2}}{4}$"
      ],
      "text/plain": [
       "-t**2*log(t)/2 - t**2/4"
      ]
     },
     "execution_count": 13,
     "metadata": {},
     "output_type": "execute_result"
    }
   ],
   "source": [
    "integrate(-t*ln(t)-t)"
   ]
  },
  {
   "cell_type": "markdown",
   "id": "d0fe3834-3ccf-41b4-9ebf-188ee06e8043",
   "metadata": {},
   "source": [
    "# Quiz"
   ]
  },
  {
   "cell_type": "markdown",
   "id": "91c2c58a-aa55-415d-be8b-60141a617f30",
   "metadata": {},
   "source": [
    "### 1) $ 8 \\frac{d^2y}{dx^2}−80 \\frac{dy}{dx}+272y=0 $"
   ]
  },
  {
   "cell_type": "code",
   "execution_count": 14,
   "id": "2dfd0630-1ab3-4c17-8005-e9c979abadb2",
   "metadata": {},
   "outputs": [
    {
     "name": "stdout",
     "output_type": "stream",
     "text": [
      "ODE class:  ('nth_linear_constant_coeff_homogeneous', '2nd_power_series_ordinary')\n"
     ]
    },
    {
     "data": {
      "text/latex": [
       "$\\displaystyle y{\\left(x \\right)} = C_{1} e^{5 x} \\sin{\\left(3 x \\right)} + C_{2} e^{5 x} \\cos{\\left(3 x \\right)}$"
      ],
      "text/plain": [
       "Eq(y(x), C1*exp(5*x)*sin(3*x) + C2*exp(5*x)*cos(3*x))"
      ]
     },
     "execution_count": 14,
     "metadata": {},
     "output_type": "execute_result"
    }
   ],
   "source": [
    "# reset x as a independant variable not as a function of t\n",
    "from sympy.abc import x\n",
    "y = Function('y')(x)\n",
    "eq = Eq(8 * y.diff(x).diff(x) - 80 * y.diff(x) + 272 * y , 0)\n",
    "print('ODE class: ', classify_ode(eq))\n",
    "dsolve(eq).expand()"
   ]
  },
  {
   "cell_type": "code",
   "execution_count": 15,
   "id": "c6626b48-0373-43af-971e-bca10743c12d",
   "metadata": {},
   "outputs": [
    {
     "data": {
      "text/plain": [
       "[5 - 3*I, 5 + 3*I]"
      ]
     },
     "execution_count": 15,
     "metadata": {},
     "output_type": "execute_result"
    }
   ],
   "source": [
    "E1 = x ** 2 -10 * x + 34\n",
    "solve(E1)"
   ]
  },
  {
   "cell_type": "markdown",
   "id": "ba77a3f6-cc93-46e4-a58d-04a28b430d3d",
   "metadata": {},
   "source": [
    "### 2) Solve: ${8} \\frac{d^2y}{dx^2} - {176} \\frac{dy}{dx} + {968} y = 0,\\ y(0) = {2},\\ y^\\prime(0) = {1}$ where ${}^\\prime$ denotes differentiation with respect to x."
   ]
  },
  {
   "cell_type": "code",
   "execution_count": 16,
   "id": "4be5298a-9eb1-487d-8710-92c39113e231",
   "metadata": {},
   "outputs": [
    {
     "name": "stdout",
     "output_type": "stream",
     "text": [
      "ODE class:  ('nth_linear_constant_coeff_homogeneous', '2nd_power_series_ordinary')\n"
     ]
    },
    {
     "data": {
      "text/latex": [
       "$\\displaystyle y{\\left(x \\right)} = - 21 x e^{11 x} + 2 e^{11 x}$"
      ],
      "text/plain": [
       "Eq(y(x), -21*x*exp(11*x) + 2*exp(11*x))"
      ]
     },
     "execution_count": 16,
     "metadata": {},
     "output_type": "execute_result"
    }
   ],
   "source": [
    "eq = Eq(8 * y.diff(x).diff(x) - 176 * y.diff(x) + 968 * y , 0)\n",
    "print('ODE class: ', classify_ode(eq))\n",
    "dsolve(eq, ics = {y.subs(x,0): 2, y.diff(x).subs(x,0): 1}).expand()"
   ]
  },
  {
   "cell_type": "markdown",
   "id": "d90e8da0-a55e-4528-bfb7-e46af3d7f792",
   "metadata": {},
   "source": [
    "## 3) Find the general solution to the differential equation\n",
    "$$\n",
    "y'' + {5} y' = {3} + {2}x + e^{-x}\n",
    "$$\n",
    "Give the general solution $y_h$ to the homogeneous equation and a particular solution $y_p$ to the non-homogeneous equation. The general solution to the non-homogeneous equation is then given by the sum $y(x)=y_h(x)+y_p(x)$."
   ]
  },
  {
   "cell_type": "code",
   "execution_count": 17,
   "id": "c8cd9b1f-1d89-490d-a362-cc8cea876867",
   "metadata": {},
   "outputs": [
    {
     "name": "stdout",
     "output_type": "stream",
     "text": [
      "ODF class:  ('nth_linear_constant_coeff_undetermined_coefficients', 'nth_linear_constant_coeff_variation_of_parameters', 'nth_order_reducible', 'nth_linear_constant_coeff_variation_of_parameters_Integral')\n"
     ]
    },
    {
     "data": {
      "text/latex": [
       "$\\displaystyle y{\\left(x \\right)} = C_{1} + C_{2} e^{- 5 x} + \\frac{x^{2}}{5} + \\frac{13 x}{25} - \\frac{e^{- x}}{4}$"
      ],
      "text/plain": [
       "Eq(y(x), C1 + C2*exp(-5*x) + x**2/5 + 13*x/25 - exp(-x)/4)"
      ]
     },
     "execution_count": 17,
     "metadata": {},
     "output_type": "execute_result"
    }
   ],
   "source": [
    "eq = Eq(y.diff(x).diff(x) + 5 * y.diff(x) , 3 + 2 * x + exp(-x))\n",
    "print('ODF class: ', classify_ode(eq))\n",
    "dsolve(eq)"
   ]
  },
  {
   "cell_type": "code",
   "execution_count": 18,
   "id": "1b6acf69-900c-44d3-a7c7-ac5632ada367",
   "metadata": {},
   "outputs": [
    {
     "data": {
      "text/latex": [
       "$\\displaystyle y{\\left(x \\right)} = C_{1} + C_{2} e^{- 5 x}$"
      ],
      "text/plain": [
       "Eq(y(x), C1 + C2*exp(-5*x))"
      ]
     },
     "execution_count": 18,
     "metadata": {},
     "output_type": "execute_result"
    }
   ],
   "source": [
    "eq = Eq(y.diff(x).diff(x) + 5 * y.diff(x) ,0)\n",
    "dsolve(eq)"
   ]
  },
  {
   "cell_type": "markdown",
   "id": "a3acc5e9-348d-43d7-a519-1d7f033001ad",
   "metadata": {},
   "source": [
    "## 4) Find the general solution $y(x)=y_h(x)+y_p(x)$ to the linear differential equation  ${y''-5\\,y'+6\\,y=-2\\,e^{2\\,x}}$ by determining the general solution to the homogeneous equation and a particular solution to the non-homogeneous equation.\n"
   ]
  },
  {
   "cell_type": "code",
   "execution_count": 19,
   "id": "0e54a832-7c90-4460-bcf2-92fb79bf2c67",
   "metadata": {},
   "outputs": [
    {
     "name": "stdout",
     "output_type": "stream",
     "text": [
      "ODE class:  ('nth_linear_constant_coeff_undetermined_coefficients', 'nth_linear_constant_coeff_variation_of_parameters', 'nth_linear_constant_coeff_variation_of_parameters_Integral')\n"
     ]
    },
    {
     "data": {
      "text/latex": [
       "$\\displaystyle y{\\left(x \\right)} = C_{1} e^{2 x} + C_{2} e^{3 x} + 2 x e^{2 x}$"
      ],
      "text/plain": [
       "Eq(y(x), C1*exp(2*x) + C2*exp(3*x) + 2*x*exp(2*x))"
      ]
     },
     "execution_count": 19,
     "metadata": {},
     "output_type": "execute_result"
    }
   ],
   "source": [
    "eq = Eq(y.diff(x).diff(x) - 5 * y.diff(x) + 6 * y , -2 * exp(2 * x))\n",
    "print('ODE class: ', classify_ode(eq))\n",
    "dsolve(eq).expand()"
   ]
  },
  {
   "cell_type": "markdown",
   "id": "28f80da0-c01a-4f37-b292-34ed16687243",
   "metadata": {},
   "source": [
    "## 5) Consider the initial value problem $ y' + y = 2 \\sin x, \\quad y(0) = {1}. $ Find the general solution to this non-homogeneous equation. Then determine the constant in the general solution which satisfies $y(0) = {1}$.\n",
    "\n"
   ]
  },
  {
   "cell_type": "code",
   "execution_count": 20,
   "id": "6ebab958-2b24-4faa-9890-5f1e979aab51",
   "metadata": {},
   "outputs": [
    {
     "name": "stdout",
     "output_type": "stream",
     "text": [
      "ODE class:  ('1st_linear', 'Bernoulli', 'almost_linear', '1st_power_series', 'lie_group', 'nth_linear_constant_coeff_undetermined_coefficients', 'nth_linear_constant_coeff_variation_of_parameters', '1st_linear_Integral', 'Bernoulli_Integral', 'almost_linear_Integral', 'nth_linear_constant_coeff_variation_of_parameters_Integral')\n"
     ]
    },
    {
     "data": {
      "text/latex": [
       "$\\displaystyle y{\\left(x \\right)} = C_{1} e^{- x}$"
      ],
      "text/plain": [
       "Eq(y(x), C1*exp(-x))"
      ]
     },
     "execution_count": 20,
     "metadata": {},
     "output_type": "execute_result"
    }
   ],
   "source": [
    "eq = Eq(y.diff(x) + y , 2 * sin(x))\n",
    "print('ODE class: ', classify_ode(eq))\n",
    "dsolve(Eq(y.diff(x) + y ,0))"
   ]
  },
  {
   "cell_type": "code",
   "execution_count": 21,
   "id": "0ceb1970-8945-43d1-b406-3e18d9344bd3",
   "metadata": {},
   "outputs": [
    {
     "data": {
      "text/latex": [
       "$\\displaystyle y{\\left(x \\right)} = C_{1} e^{- x} + \\sin{\\left(x \\right)} - \\cos{\\left(x \\right)}$"
      ],
      "text/plain": [
       "Eq(y(x), C1*exp(-x) + sin(x) - cos(x))"
      ]
     },
     "execution_count": 21,
     "metadata": {},
     "output_type": "execute_result"
    }
   ],
   "source": [
    "dsolve(eq).expand()"
   ]
  },
  {
   "cell_type": "code",
   "execution_count": 22,
   "id": "abc16a85-c340-4a3d-a3de-b4e3380df159",
   "metadata": {},
   "outputs": [
    {
     "data": {
      "text/latex": [
       "$\\displaystyle y{\\left(x \\right)} = \\sin{\\left(x \\right)} - \\cos{\\left(x \\right)} + 2 e^{- x}$"
      ],
      "text/plain": [
       "Eq(y(x), sin(x) - cos(x) + 2*exp(-x))"
      ]
     },
     "execution_count": 22,
     "metadata": {},
     "output_type": "execute_result"
    }
   ],
   "source": [
    "dsolve(eq,ics = {y.subs(x, 0): 1}).expand()"
   ]
  },
  {
   "cell_type": "markdown",
   "id": "d1af2b22-6451-4c4c-851c-3b202e586cb6",
   "metadata": {},
   "source": [
    "## 6) Given the Euler differential equation $ x^2 y''-{5} x y'+{5} y=0 $ find the solution $y(x)$ for $x>0$ , for the initial value problem $ y(1)={24}, y'(1)=0. $ In your answer, provide the exponents of the functions $ x^r $ appearing in the solution in increasing order $(r_1 < r_2)$ and the actual solution which is a polynomial having integer coefficients."
   ]
  },
  {
   "cell_type": "code",
   "execution_count": 23,
   "id": "9d518f0e-8138-4dad-bf87-249f9f425b21",
   "metadata": {},
   "outputs": [
    {
     "data": {
      "text/latex": [
       "$\\displaystyle y{\\left(x \\right)} = C_{1} x + C_{2} x^{5}$"
      ],
      "text/plain": [
       "Eq(y(x), C1*x + C2*x**5)"
      ]
     },
     "execution_count": 23,
     "metadata": {},
     "output_type": "execute_result"
    }
   ],
   "source": [
    "eq = Eq(x ** 2 * y.diff(x).diff(x) - 5 * x * y.diff(x) + 5 * y , 0)\n",
    "solution = dsolve(eq, simplify = false)\n",
    "solution"
   ]
  },
  {
   "cell_type": "code",
   "execution_count": 24,
   "id": "76570a58-ebf3-4d57-94f0-876e7c5e2551",
   "metadata": {},
   "outputs": [
    {
     "data": {
      "text/latex": [
       "$\\displaystyle y{\\left(x \\right)} = - 6 x^{5} + 30 x$"
      ],
      "text/plain": [
       "Eq(y(x), -6*x**5 + 30*x)"
      ]
     },
     "execution_count": 24,
     "metadata": {},
     "output_type": "execute_result"
    }
   ],
   "source": [
    "C1, C2, c1, c2 = symbols('C1, C2, c1, c2')\n",
    "E1 = c1 + c2 - 24\n",
    "E2 = c1 + 5 * c2\n",
    "cs = solve((E1,E2), c1, c2)\n",
    "solution.subs(C1,cs[c1]).subs(C2,cs[c2])"
   ]
  }
 ],
 "metadata": {
  "kernelspec": {
   "display_name": "Python 3",
   "language": "python",
   "name": "python3"
  },
  "language_info": {
   "codemirror_mode": {
    "name": "ipython",
    "version": 3
   },
   "file_extension": ".py",
   "mimetype": "text/x-python",
   "name": "python",
   "nbconvert_exporter": "python",
   "pygments_lexer": "ipython3",
   "version": "3.8.8"
  }
 },
 "nbformat": 4,
 "nbformat_minor": 5
}
